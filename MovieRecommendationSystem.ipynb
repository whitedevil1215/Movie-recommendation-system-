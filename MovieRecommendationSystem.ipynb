{
  "nbformat": 4,
  "nbformat_minor": 0,
  "metadata": {
    "colab": {
      "provenance": []
    },
    "kernelspec": {
      "name": "python3",
      "display_name": "Python 3"
    },
    "language_info": {
      "name": "python"
    }
  },
  "cells": [
    {
      "cell_type": "markdown",
      "source": [
        "### **Import Library**"
      ],
      "metadata": {
        "id": "oTc4DHbkYqbZ"
      }
    },
    {
      "cell_type": "code",
      "execution_count": null,
      "metadata": {
        "id": "fg_E68obYXzD"
      },
      "outputs": [],
      "source": [
        "import pandas as pd"
      ]
    },
    {
      "cell_type": "code",
      "source": [
        "import numpy as np"
      ],
      "metadata": {
        "id": "l6dkUlOrYh--"
      },
      "execution_count": null,
      "outputs": []
    },
    {
      "cell_type": "markdown",
      "source": [
        "### **Import Dataset**"
      ],
      "metadata": {
        "id": "obrCEOmYYtxh"
      }
    },
    {
      "cell_type": "code",
      "source": [
        "df = pd.read_csv(r'https://raw.githubusercontent.com/YBI-Foundation/Dataset/main/Movies%20Recommendation.csv')"
      ],
      "metadata": {
        "id": "JGeRBwINYymi"
      },
      "execution_count": null,
      "outputs": []
    },
    {
      "cell_type": "code",
      "source": [
        "df.head()"
      ],
      "metadata": {
        "colab": {
          "base_uri": "https://localhost:8080/",
          "height": 672
        },
        "id": "lwCdrGdmZTJ2",
        "outputId": "3613358f-0745-4f1a-c0a0-10f15a59bd0b"
      },
      "execution_count": null,
      "outputs": [
        {
          "output_type": "execute_result",
          "data": {
            "text/plain": [
              "   Movie_ID      Movie_Title                       Movie_Genre Movie_Language  \\\n",
              "0         1       Four Rooms                      Crime Comedy             en   \n",
              "1         2        Star Wars  Adventure Action Science Fiction             en   \n",
              "2         3     Finding Nemo                  Animation Family             en   \n",
              "3         4     Forrest Gump              Comedy Drama Romance             en   \n",
              "4         5  American Beauty                             Drama             en   \n",
              "\n",
              "   Movie_Budget  Movie_Popularity Movie_Release_Date  Movie_Revenue  \\\n",
              "0       4000000         22.876230         09-12-1995        4300000   \n",
              "1      11000000        126.393695         25-05-1977      775398007   \n",
              "2      94000000         85.688789         30-05-2003      940335536   \n",
              "3      55000000        138.133331         06-07-1994      677945399   \n",
              "4      15000000         80.878605         15-09-1999      356296601   \n",
              "\n",
              "   Movie_Runtime  Movie_Vote  ...  \\\n",
              "0           98.0         6.5  ...   \n",
              "1          121.0         8.1  ...   \n",
              "2          100.0         7.6  ...   \n",
              "3          142.0         8.2  ...   \n",
              "4          122.0         7.9  ...   \n",
              "\n",
              "                                      Movie_Homepage  \\\n",
              "0                                                NaN   \n",
              "1  http://www.starwars.com/films/star-wars-episod...   \n",
              "2              http://movies.disney.com/finding-nemo   \n",
              "3                                                NaN   \n",
              "4                      http://www.dreamworks.com/ab/   \n",
              "\n",
              "                                      Movie_Keywords  \\\n",
              "0          hotel new year's eve witch bet hotel room   \n",
              "1        android galaxy hermit death star lightsaber   \n",
              "2  father son relationship harbor underwater fish...   \n",
              "3  vietnam veteran hippie mentally disabled runni...   \n",
              "4  male nudity female nudity adultery midlife cri...   \n",
              "\n",
              "                                      Movie_Overview  \\\n",
              "0  It's Ted the Bellhop's first night on the job....   \n",
              "1  Princess Leia is captured and held hostage by ...   \n",
              "2  Nemo, an adventurous young clownfish, is unexp...   \n",
              "3  A man with a low IQ has accomplished great thi...   \n",
              "4  Lester Burnham, a depressed suburban father in...   \n",
              "\n",
              "                              Movie_Production_House  \\\n",
              "0  [{\"name\": \"Miramax Films\", \"id\": 14}, {\"name\":...   \n",
              "1  [{\"name\": \"Lucasfilm\", \"id\": 1}, {\"name\": \"Twe...   \n",
              "2     [{\"name\": \"Pixar Animation Studios\", \"id\": 3}]   \n",
              "3          [{\"name\": \"Paramount Pictures\", \"id\": 4}]   \n",
              "4  [{\"name\": \"DreamWorks SKG\", \"id\": 27}, {\"name\"...   \n",
              "\n",
              "                            Movie_Production_Country  \\\n",
              "0  [{\"iso_3166_1\": \"US\", \"name\": \"United States o...   \n",
              "1  [{\"iso_3166_1\": \"US\", \"name\": \"United States o...   \n",
              "2  [{\"iso_3166_1\": \"US\", \"name\": \"United States o...   \n",
              "3  [{\"iso_3166_1\": \"US\", \"name\": \"United States o...   \n",
              "4  [{\"iso_3166_1\": \"US\", \"name\": \"United States o...   \n",
              "\n",
              "                      Movie_Spoken_Language  \\\n",
              "0  [{\"iso_639_1\": \"en\", \"name\": \"English\"}]   \n",
              "1  [{\"iso_639_1\": \"en\", \"name\": \"English\"}]   \n",
              "2  [{\"iso_639_1\": \"en\", \"name\": \"English\"}]   \n",
              "3  [{\"iso_639_1\": \"en\", \"name\": \"English\"}]   \n",
              "4  [{\"iso_639_1\": \"en\", \"name\": \"English\"}]   \n",
              "\n",
              "                                       Movie_Tagline  \\\n",
              "0  Twelve outrageous guests. Four scandalous requ...   \n",
              "1       A long time ago in a galaxy far, far away...   \n",
              "2  There are 3.7 trillion fish in the ocean, they...   \n",
              "3  The world will never be the same, once you've ...   \n",
              "4                                       Look closer.   \n",
              "\n",
              "                                          Movie_Cast  \\\n",
              "0  Tim Roth Antonio Banderas Jennifer Beals Madon...   \n",
              "1  Mark Hamill Harrison Ford Carrie Fisher Peter ...   \n",
              "2  Albert Brooks Ellen DeGeneres Alexander Gould ...   \n",
              "3  Tom Hanks Robin Wright Gary Sinise Mykelti Wil...   \n",
              "4  Kevin Spacey Annette Bening Thora Birch Wes Be...   \n",
              "\n",
              "                                          Movie_Crew   Movie_Director  \n",
              "0  [{'name': 'Allison Anders', 'gender': 1, 'depa...   Allison Anders  \n",
              "1  [{'name': 'George Lucas', 'gender': 2, 'depart...     George Lucas  \n",
              "2  [{'name': 'Andrew Stanton', 'gender': 2, 'depa...   Andrew Stanton  \n",
              "3  [{'name': 'Alan Silvestri', 'gender': 2, 'depa...  Robert Zemeckis  \n",
              "4  [{'name': 'Thomas Newman', 'gender': 2, 'depar...       Sam Mendes  \n",
              "\n",
              "[5 rows x 21 columns]"
            ],
            "text/html": [
              "\n",
              "  <div id=\"df-4ad0fd69-bc94-44aa-b1f5-e48014736920\" class=\"colab-df-container\">\n",
              "    <div>\n",
              "<style scoped>\n",
              "    .dataframe tbody tr th:only-of-type {\n",
              "        vertical-align: middle;\n",
              "    }\n",
              "\n",
              "    .dataframe tbody tr th {\n",
              "        vertical-align: top;\n",
              "    }\n",
              "\n",
              "    .dataframe thead th {\n",
              "        text-align: right;\n",
              "    }\n",
              "</style>\n",
              "<table border=\"1\" class=\"dataframe\">\n",
              "  <thead>\n",
              "    <tr style=\"text-align: right;\">\n",
              "      <th></th>\n",
              "      <th>Movie_ID</th>\n",
              "      <th>Movie_Title</th>\n",
              "      <th>Movie_Genre</th>\n",
              "      <th>Movie_Language</th>\n",
              "      <th>Movie_Budget</th>\n",
              "      <th>Movie_Popularity</th>\n",
              "      <th>Movie_Release_Date</th>\n",
              "      <th>Movie_Revenue</th>\n",
              "      <th>Movie_Runtime</th>\n",
              "      <th>Movie_Vote</th>\n",
              "      <th>...</th>\n",
              "      <th>Movie_Homepage</th>\n",
              "      <th>Movie_Keywords</th>\n",
              "      <th>Movie_Overview</th>\n",
              "      <th>Movie_Production_House</th>\n",
              "      <th>Movie_Production_Country</th>\n",
              "      <th>Movie_Spoken_Language</th>\n",
              "      <th>Movie_Tagline</th>\n",
              "      <th>Movie_Cast</th>\n",
              "      <th>Movie_Crew</th>\n",
              "      <th>Movie_Director</th>\n",
              "    </tr>\n",
              "  </thead>\n",
              "  <tbody>\n",
              "    <tr>\n",
              "      <th>0</th>\n",
              "      <td>1</td>\n",
              "      <td>Four Rooms</td>\n",
              "      <td>Crime Comedy</td>\n",
              "      <td>en</td>\n",
              "      <td>4000000</td>\n",
              "      <td>22.876230</td>\n",
              "      <td>09-12-1995</td>\n",
              "      <td>4300000</td>\n",
              "      <td>98.0</td>\n",
              "      <td>6.5</td>\n",
              "      <td>...</td>\n",
              "      <td>NaN</td>\n",
              "      <td>hotel new year's eve witch bet hotel room</td>\n",
              "      <td>It's Ted the Bellhop's first night on the job....</td>\n",
              "      <td>[{\"name\": \"Miramax Films\", \"id\": 14}, {\"name\":...</td>\n",
              "      <td>[{\"iso_3166_1\": \"US\", \"name\": \"United States o...</td>\n",
              "      <td>[{\"iso_639_1\": \"en\", \"name\": \"English\"}]</td>\n",
              "      <td>Twelve outrageous guests. Four scandalous requ...</td>\n",
              "      <td>Tim Roth Antonio Banderas Jennifer Beals Madon...</td>\n",
              "      <td>[{'name': 'Allison Anders', 'gender': 1, 'depa...</td>\n",
              "      <td>Allison Anders</td>\n",
              "    </tr>\n",
              "    <tr>\n",
              "      <th>1</th>\n",
              "      <td>2</td>\n",
              "      <td>Star Wars</td>\n",
              "      <td>Adventure Action Science Fiction</td>\n",
              "      <td>en</td>\n",
              "      <td>11000000</td>\n",
              "      <td>126.393695</td>\n",
              "      <td>25-05-1977</td>\n",
              "      <td>775398007</td>\n",
              "      <td>121.0</td>\n",
              "      <td>8.1</td>\n",
              "      <td>...</td>\n",
              "      <td>http://www.starwars.com/films/star-wars-episod...</td>\n",
              "      <td>android galaxy hermit death star lightsaber</td>\n",
              "      <td>Princess Leia is captured and held hostage by ...</td>\n",
              "      <td>[{\"name\": \"Lucasfilm\", \"id\": 1}, {\"name\": \"Twe...</td>\n",
              "      <td>[{\"iso_3166_1\": \"US\", \"name\": \"United States o...</td>\n",
              "      <td>[{\"iso_639_1\": \"en\", \"name\": \"English\"}]</td>\n",
              "      <td>A long time ago in a galaxy far, far away...</td>\n",
              "      <td>Mark Hamill Harrison Ford Carrie Fisher Peter ...</td>\n",
              "      <td>[{'name': 'George Lucas', 'gender': 2, 'depart...</td>\n",
              "      <td>George Lucas</td>\n",
              "    </tr>\n",
              "    <tr>\n",
              "      <th>2</th>\n",
              "      <td>3</td>\n",
              "      <td>Finding Nemo</td>\n",
              "      <td>Animation Family</td>\n",
              "      <td>en</td>\n",
              "      <td>94000000</td>\n",
              "      <td>85.688789</td>\n",
              "      <td>30-05-2003</td>\n",
              "      <td>940335536</td>\n",
              "      <td>100.0</td>\n",
              "      <td>7.6</td>\n",
              "      <td>...</td>\n",
              "      <td>http://movies.disney.com/finding-nemo</td>\n",
              "      <td>father son relationship harbor underwater fish...</td>\n",
              "      <td>Nemo, an adventurous young clownfish, is unexp...</td>\n",
              "      <td>[{\"name\": \"Pixar Animation Studios\", \"id\": 3}]</td>\n",
              "      <td>[{\"iso_3166_1\": \"US\", \"name\": \"United States o...</td>\n",
              "      <td>[{\"iso_639_1\": \"en\", \"name\": \"English\"}]</td>\n",
              "      <td>There are 3.7 trillion fish in the ocean, they...</td>\n",
              "      <td>Albert Brooks Ellen DeGeneres Alexander Gould ...</td>\n",
              "      <td>[{'name': 'Andrew Stanton', 'gender': 2, 'depa...</td>\n",
              "      <td>Andrew Stanton</td>\n",
              "    </tr>\n",
              "    <tr>\n",
              "      <th>3</th>\n",
              "      <td>4</td>\n",
              "      <td>Forrest Gump</td>\n",
              "      <td>Comedy Drama Romance</td>\n",
              "      <td>en</td>\n",
              "      <td>55000000</td>\n",
              "      <td>138.133331</td>\n",
              "      <td>06-07-1994</td>\n",
              "      <td>677945399</td>\n",
              "      <td>142.0</td>\n",
              "      <td>8.2</td>\n",
              "      <td>...</td>\n",
              "      <td>NaN</td>\n",
              "      <td>vietnam veteran hippie mentally disabled runni...</td>\n",
              "      <td>A man with a low IQ has accomplished great thi...</td>\n",
              "      <td>[{\"name\": \"Paramount Pictures\", \"id\": 4}]</td>\n",
              "      <td>[{\"iso_3166_1\": \"US\", \"name\": \"United States o...</td>\n",
              "      <td>[{\"iso_639_1\": \"en\", \"name\": \"English\"}]</td>\n",
              "      <td>The world will never be the same, once you've ...</td>\n",
              "      <td>Tom Hanks Robin Wright Gary Sinise Mykelti Wil...</td>\n",
              "      <td>[{'name': 'Alan Silvestri', 'gender': 2, 'depa...</td>\n",
              "      <td>Robert Zemeckis</td>\n",
              "    </tr>\n",
              "    <tr>\n",
              "      <th>4</th>\n",
              "      <td>5</td>\n",
              "      <td>American Beauty</td>\n",
              "      <td>Drama</td>\n",
              "      <td>en</td>\n",
              "      <td>15000000</td>\n",
              "      <td>80.878605</td>\n",
              "      <td>15-09-1999</td>\n",
              "      <td>356296601</td>\n",
              "      <td>122.0</td>\n",
              "      <td>7.9</td>\n",
              "      <td>...</td>\n",
              "      <td>http://www.dreamworks.com/ab/</td>\n",
              "      <td>male nudity female nudity adultery midlife cri...</td>\n",
              "      <td>Lester Burnham, a depressed suburban father in...</td>\n",
              "      <td>[{\"name\": \"DreamWorks SKG\", \"id\": 27}, {\"name\"...</td>\n",
              "      <td>[{\"iso_3166_1\": \"US\", \"name\": \"United States o...</td>\n",
              "      <td>[{\"iso_639_1\": \"en\", \"name\": \"English\"}]</td>\n",
              "      <td>Look closer.</td>\n",
              "      <td>Kevin Spacey Annette Bening Thora Birch Wes Be...</td>\n",
              "      <td>[{'name': 'Thomas Newman', 'gender': 2, 'depar...</td>\n",
              "      <td>Sam Mendes</td>\n",
              "    </tr>\n",
              "  </tbody>\n",
              "</table>\n",
              "<p>5 rows × 21 columns</p>\n",
              "</div>\n",
              "    <div class=\"colab-df-buttons\">\n",
              "\n",
              "  <div class=\"colab-df-container\">\n",
              "    <button class=\"colab-df-convert\" onclick=\"convertToInteractive('df-4ad0fd69-bc94-44aa-b1f5-e48014736920')\"\n",
              "            title=\"Convert this dataframe to an interactive table.\"\n",
              "            style=\"display:none;\">\n",
              "\n",
              "  <svg xmlns=\"http://www.w3.org/2000/svg\" height=\"24px\" viewBox=\"0 -960 960 960\">\n",
              "    <path d=\"M120-120v-720h720v720H120Zm60-500h600v-160H180v160Zm220 220h160v-160H400v160Zm0 220h160v-160H400v160ZM180-400h160v-160H180v160Zm440 0h160v-160H620v160ZM180-180h160v-160H180v160Zm440 0h160v-160H620v160Z\"/>\n",
              "  </svg>\n",
              "    </button>\n",
              "\n",
              "  <style>\n",
              "    .colab-df-container {\n",
              "      display:flex;\n",
              "      gap: 12px;\n",
              "    }\n",
              "\n",
              "    .colab-df-convert {\n",
              "      background-color: #E8F0FE;\n",
              "      border: none;\n",
              "      border-radius: 50%;\n",
              "      cursor: pointer;\n",
              "      display: none;\n",
              "      fill: #1967D2;\n",
              "      height: 32px;\n",
              "      padding: 0 0 0 0;\n",
              "      width: 32px;\n",
              "    }\n",
              "\n",
              "    .colab-df-convert:hover {\n",
              "      background-color: #E2EBFA;\n",
              "      box-shadow: 0px 1px 2px rgba(60, 64, 67, 0.3), 0px 1px 3px 1px rgba(60, 64, 67, 0.15);\n",
              "      fill: #174EA6;\n",
              "    }\n",
              "\n",
              "    .colab-df-buttons div {\n",
              "      margin-bottom: 4px;\n",
              "    }\n",
              "\n",
              "    [theme=dark] .colab-df-convert {\n",
              "      background-color: #3B4455;\n",
              "      fill: #D2E3FC;\n",
              "    }\n",
              "\n",
              "    [theme=dark] .colab-df-convert:hover {\n",
              "      background-color: #434B5C;\n",
              "      box-shadow: 0px 1px 3px 1px rgba(0, 0, 0, 0.15);\n",
              "      filter: drop-shadow(0px 1px 2px rgba(0, 0, 0, 0.3));\n",
              "      fill: #FFFFFF;\n",
              "    }\n",
              "  </style>\n",
              "\n",
              "    <script>\n",
              "      const buttonEl =\n",
              "        document.querySelector('#df-4ad0fd69-bc94-44aa-b1f5-e48014736920 button.colab-df-convert');\n",
              "      buttonEl.style.display =\n",
              "        google.colab.kernel.accessAllowed ? 'block' : 'none';\n",
              "\n",
              "      async function convertToInteractive(key) {\n",
              "        const element = document.querySelector('#df-4ad0fd69-bc94-44aa-b1f5-e48014736920');\n",
              "        const dataTable =\n",
              "          await google.colab.kernel.invokeFunction('convertToInteractive',\n",
              "                                                    [key], {});\n",
              "        if (!dataTable) return;\n",
              "\n",
              "        const docLinkHtml = 'Like what you see? Visit the ' +\n",
              "          '<a target=\"_blank\" href=https://colab.research.google.com/notebooks/data_table.ipynb>data table notebook</a>'\n",
              "          + ' to learn more about interactive tables.';\n",
              "        element.innerHTML = '';\n",
              "        dataTable['output_type'] = 'display_data';\n",
              "        await google.colab.output.renderOutput(dataTable, element);\n",
              "        const docLink = document.createElement('div');\n",
              "        docLink.innerHTML = docLinkHtml;\n",
              "        element.appendChild(docLink);\n",
              "      }\n",
              "    </script>\n",
              "  </div>\n",
              "\n",
              "\n",
              "<div id=\"df-eb118255-4f30-4419-ab44-e66dea03e093\">\n",
              "  <button class=\"colab-df-quickchart\" onclick=\"quickchart('df-eb118255-4f30-4419-ab44-e66dea03e093')\"\n",
              "            title=\"Suggest charts\"\n",
              "            style=\"display:none;\">\n",
              "\n",
              "<svg xmlns=\"http://www.w3.org/2000/svg\" height=\"24px\"viewBox=\"0 0 24 24\"\n",
              "     width=\"24px\">\n",
              "    <g>\n",
              "        <path d=\"M19 3H5c-1.1 0-2 .9-2 2v14c0 1.1.9 2 2 2h14c1.1 0 2-.9 2-2V5c0-1.1-.9-2-2-2zM9 17H7v-7h2v7zm4 0h-2V7h2v10zm4 0h-2v-4h2v4z\"/>\n",
              "    </g>\n",
              "</svg>\n",
              "  </button>\n",
              "\n",
              "<style>\n",
              "  .colab-df-quickchart {\n",
              "      --bg-color: #E8F0FE;\n",
              "      --fill-color: #1967D2;\n",
              "      --hover-bg-color: #E2EBFA;\n",
              "      --hover-fill-color: #174EA6;\n",
              "      --disabled-fill-color: #AAA;\n",
              "      --disabled-bg-color: #DDD;\n",
              "  }\n",
              "\n",
              "  [theme=dark] .colab-df-quickchart {\n",
              "      --bg-color: #3B4455;\n",
              "      --fill-color: #D2E3FC;\n",
              "      --hover-bg-color: #434B5C;\n",
              "      --hover-fill-color: #FFFFFF;\n",
              "      --disabled-bg-color: #3B4455;\n",
              "      --disabled-fill-color: #666;\n",
              "  }\n",
              "\n",
              "  .colab-df-quickchart {\n",
              "    background-color: var(--bg-color);\n",
              "    border: none;\n",
              "    border-radius: 50%;\n",
              "    cursor: pointer;\n",
              "    display: none;\n",
              "    fill: var(--fill-color);\n",
              "    height: 32px;\n",
              "    padding: 0;\n",
              "    width: 32px;\n",
              "  }\n",
              "\n",
              "  .colab-df-quickchart:hover {\n",
              "    background-color: var(--hover-bg-color);\n",
              "    box-shadow: 0 1px 2px rgba(60, 64, 67, 0.3), 0 1px 3px 1px rgba(60, 64, 67, 0.15);\n",
              "    fill: var(--button-hover-fill-color);\n",
              "  }\n",
              "\n",
              "  .colab-df-quickchart-complete:disabled,\n",
              "  .colab-df-quickchart-complete:disabled:hover {\n",
              "    background-color: var(--disabled-bg-color);\n",
              "    fill: var(--disabled-fill-color);\n",
              "    box-shadow: none;\n",
              "  }\n",
              "\n",
              "  .colab-df-spinner {\n",
              "    border: 2px solid var(--fill-color);\n",
              "    border-color: transparent;\n",
              "    border-bottom-color: var(--fill-color);\n",
              "    animation:\n",
              "      spin 1s steps(1) infinite;\n",
              "  }\n",
              "\n",
              "  @keyframes spin {\n",
              "    0% {\n",
              "      border-color: transparent;\n",
              "      border-bottom-color: var(--fill-color);\n",
              "      border-left-color: var(--fill-color);\n",
              "    }\n",
              "    20% {\n",
              "      border-color: transparent;\n",
              "      border-left-color: var(--fill-color);\n",
              "      border-top-color: var(--fill-color);\n",
              "    }\n",
              "    30% {\n",
              "      border-color: transparent;\n",
              "      border-left-color: var(--fill-color);\n",
              "      border-top-color: var(--fill-color);\n",
              "      border-right-color: var(--fill-color);\n",
              "    }\n",
              "    40% {\n",
              "      border-color: transparent;\n",
              "      border-right-color: var(--fill-color);\n",
              "      border-top-color: var(--fill-color);\n",
              "    }\n",
              "    60% {\n",
              "      border-color: transparent;\n",
              "      border-right-color: var(--fill-color);\n",
              "    }\n",
              "    80% {\n",
              "      border-color: transparent;\n",
              "      border-right-color: var(--fill-color);\n",
              "      border-bottom-color: var(--fill-color);\n",
              "    }\n",
              "    90% {\n",
              "      border-color: transparent;\n",
              "      border-bottom-color: var(--fill-color);\n",
              "    }\n",
              "  }\n",
              "</style>\n",
              "\n",
              "  <script>\n",
              "    async function quickchart(key) {\n",
              "      const quickchartButtonEl =\n",
              "        document.querySelector('#' + key + ' button');\n",
              "      quickchartButtonEl.disabled = true;  // To prevent multiple clicks.\n",
              "      quickchartButtonEl.classList.add('colab-df-spinner');\n",
              "      try {\n",
              "        const charts = await google.colab.kernel.invokeFunction(\n",
              "            'suggestCharts', [key], {});\n",
              "      } catch (error) {\n",
              "        console.error('Error during call to suggestCharts:', error);\n",
              "      }\n",
              "      quickchartButtonEl.classList.remove('colab-df-spinner');\n",
              "      quickchartButtonEl.classList.add('colab-df-quickchart-complete');\n",
              "    }\n",
              "    (() => {\n",
              "      let quickchartButtonEl =\n",
              "        document.querySelector('#df-eb118255-4f30-4419-ab44-e66dea03e093 button');\n",
              "      quickchartButtonEl.style.display =\n",
              "        google.colab.kernel.accessAllowed ? 'block' : 'none';\n",
              "    })();\n",
              "  </script>\n",
              "</div>\n",
              "\n",
              "    </div>\n",
              "  </div>\n"
            ],
            "application/vnd.google.colaboratory.intrinsic+json": {
              "type": "dataframe",
              "variable_name": "df"
            }
          },
          "metadata": {},
          "execution_count": 4
        }
      ]
    },
    {
      "cell_type": "code",
      "source": [
        "df.info()"
      ],
      "metadata": {
        "colab": {
          "base_uri": "https://localhost:8080/"
        },
        "id": "MNa8bpq3Zz5e",
        "outputId": "0e9f541c-6cc2-4a94-fdf3-d321b46356bc"
      },
      "execution_count": null,
      "outputs": [
        {
          "output_type": "stream",
          "name": "stdout",
          "text": [
            "<class 'pandas.core.frame.DataFrame'>\n",
            "RangeIndex: 4760 entries, 0 to 4759\n",
            "Data columns (total 21 columns):\n",
            " #   Column                    Non-Null Count  Dtype  \n",
            "---  ------                    --------------  -----  \n",
            " 0   Movie_ID                  4760 non-null   int64  \n",
            " 1   Movie_Title               4760 non-null   object \n",
            " 2   Movie_Genre               4760 non-null   object \n",
            " 3   Movie_Language            4760 non-null   object \n",
            " 4   Movie_Budget              4760 non-null   int64  \n",
            " 5   Movie_Popularity          4760 non-null   float64\n",
            " 6   Movie_Release_Date        4760 non-null   object \n",
            " 7   Movie_Revenue             4760 non-null   int64  \n",
            " 8   Movie_Runtime             4758 non-null   float64\n",
            " 9   Movie_Vote                4760 non-null   float64\n",
            " 10  Movie_Vote_Count          4760 non-null   int64  \n",
            " 11  Movie_Homepage            1699 non-null   object \n",
            " 12  Movie_Keywords            4373 non-null   object \n",
            " 13  Movie_Overview            4757 non-null   object \n",
            " 14  Movie_Production_House    4760 non-null   object \n",
            " 15  Movie_Production_Country  4760 non-null   object \n",
            " 16  Movie_Spoken_Language     4760 non-null   object \n",
            " 17  Movie_Tagline             3942 non-null   object \n",
            " 18  Movie_Cast                4733 non-null   object \n",
            " 19  Movie_Crew                4760 non-null   object \n",
            " 20  Movie_Director            4738 non-null   object \n",
            "dtypes: float64(3), int64(4), object(14)\n",
            "memory usage: 781.1+ KB\n"
          ]
        }
      ]
    },
    {
      "cell_type": "code",
      "source": [
        "df.shape"
      ],
      "metadata": {
        "colab": {
          "base_uri": "https://localhost:8080/"
        },
        "id": "jlEmq3alZ4ph",
        "outputId": "208ed846-e70f-4216-e930-648ff72fd199"
      },
      "execution_count": null,
      "outputs": [
        {
          "output_type": "execute_result",
          "data": {
            "text/plain": [
              "(4760, 21)"
            ]
          },
          "metadata": {},
          "execution_count": 6
        }
      ]
    },
    {
      "cell_type": "code",
      "source": [
        "df.columns"
      ],
      "metadata": {
        "colab": {
          "base_uri": "https://localhost:8080/"
        },
        "id": "fBMkt3MfZ8c4",
        "outputId": "fc9cbc3e-f79e-4b72-f138-d5e7df13d35e"
      },
      "execution_count": null,
      "outputs": [
        {
          "output_type": "execute_result",
          "data": {
            "text/plain": [
              "Index(['Movie_ID', 'Movie_Title', 'Movie_Genre', 'Movie_Language',\n",
              "       'Movie_Budget', 'Movie_Popularity', 'Movie_Release_Date',\n",
              "       'Movie_Revenue', 'Movie_Runtime', 'Movie_Vote', 'Movie_Vote_Count',\n",
              "       'Movie_Homepage', 'Movie_Keywords', 'Movie_Overview',\n",
              "       'Movie_Production_House', 'Movie_Production_Country',\n",
              "       'Movie_Spoken_Language', 'Movie_Tagline', 'Movie_Cast', 'Movie_Crew',\n",
              "       'Movie_Director'],\n",
              "      dtype='object')"
            ]
          },
          "metadata": {},
          "execution_count": 7
        }
      ]
    },
    {
      "cell_type": "markdown",
      "source": [
        "### **Get Feature Selection**"
      ],
      "metadata": {
        "id": "Z5GA7rppaTPA"
      }
    },
    {
      "cell_type": "code",
      "source": [
        "df_features = df[['Movie_Genre','Movie_Keywords','Movie_Tagline','Movie_Cast','Movie_Director']].fillna('')"
      ],
      "metadata": {
        "id": "TK-bMtmRaVtu"
      },
      "execution_count": null,
      "outputs": []
    },
    {
      "cell_type": "code",
      "source": [
        "df_features.shape"
      ],
      "metadata": {
        "colab": {
          "base_uri": "https://localhost:8080/"
        },
        "id": "jlC-Gh3hbGiR",
        "outputId": "3f9c1150-7cc7-4b9f-a117-bd90b8fb8a06"
      },
      "execution_count": null,
      "outputs": [
        {
          "output_type": "execute_result",
          "data": {
            "text/plain": [
              "(4760, 5)"
            ]
          },
          "metadata": {},
          "execution_count": 10
        }
      ]
    },
    {
      "cell_type": "code",
      "source": [
        "df_features"
      ],
      "metadata": {
        "colab": {
          "base_uri": "https://localhost:8080/",
          "height": 493
        },
        "id": "EvYFc-LCbMJd",
        "outputId": "b8731e2b-b714-47de-cad6-945db1e78d04"
      },
      "execution_count": null,
      "outputs": [
        {
          "output_type": "execute_result",
          "data": {
            "text/plain": [
              "                           Movie_Genre  \\\n",
              "0                         Crime Comedy   \n",
              "1     Adventure Action Science Fiction   \n",
              "2                     Animation Family   \n",
              "3                 Comedy Drama Romance   \n",
              "4                                Drama   \n",
              "...                                ...   \n",
              "4755                            Horror   \n",
              "4756               Comedy Family Drama   \n",
              "4757                    Thriller Drama   \n",
              "4758                            Family   \n",
              "4759                       Documentary   \n",
              "\n",
              "                                         Movie_Keywords  \\\n",
              "0             hotel new year's eve witch bet hotel room   \n",
              "1           android galaxy hermit death star lightsaber   \n",
              "2     father son relationship harbor underwater fish...   \n",
              "3     vietnam veteran hippie mentally disabled runni...   \n",
              "4     male nudity female nudity adultery midlife cri...   \n",
              "...                                                 ...   \n",
              "4755                                                      \n",
              "4756                                                      \n",
              "4757                     christian film sex trafficking   \n",
              "4758                                                      \n",
              "4759  music actors legendary perfomer classic hollyw...   \n",
              "\n",
              "                                          Movie_Tagline  \\\n",
              "0     Twelve outrageous guests. Four scandalous requ...   \n",
              "1          A long time ago in a galaxy far, far away...   \n",
              "2     There are 3.7 trillion fish in the ocean, they...   \n",
              "3     The world will never be the same, once you've ...   \n",
              "4                                          Look closer.   \n",
              "...                                                 ...   \n",
              "4755                The hot spot where Satan's waitin'.   \n",
              "4756           It’s better to stand out than to fit in.   \n",
              "4757           She never knew it could happen to her...   \n",
              "4758                                                      \n",
              "4759                                                      \n",
              "\n",
              "                                             Movie_Cast     Movie_Director  \n",
              "0     Tim Roth Antonio Banderas Jennifer Beals Madon...     Allison Anders  \n",
              "1     Mark Hamill Harrison Ford Carrie Fisher Peter ...       George Lucas  \n",
              "2     Albert Brooks Ellen DeGeneres Alexander Gould ...     Andrew Stanton  \n",
              "3     Tom Hanks Robin Wright Gary Sinise Mykelti Wil...    Robert Zemeckis  \n",
              "4     Kevin Spacey Annette Bening Thora Birch Wes Be...         Sam Mendes  \n",
              "...                                                 ...                ...  \n",
              "4755  Lisa Hart Carroll Michael Des Barres Paul Drak...         Pece Dingo  \n",
              "4756  Roni Akurati Brighton Sharbino Jason Lee Anjul...       Frank Lotito  \n",
              "4757  Nicole Smolen Kim Baldwin Ariana Stephens Brys...       Jaco Booyens  \n",
              "4758                                                                        \n",
              "4759                                    Tony Oppedisano  Simon Napier-Bell  \n",
              "\n",
              "[4760 rows x 5 columns]"
            ],
            "text/html": [
              "\n",
              "  <div id=\"df-dc8c6bf8-b386-4f7c-b36e-36bb1995069b\" class=\"colab-df-container\">\n",
              "    <div>\n",
              "<style scoped>\n",
              "    .dataframe tbody tr th:only-of-type {\n",
              "        vertical-align: middle;\n",
              "    }\n",
              "\n",
              "    .dataframe tbody tr th {\n",
              "        vertical-align: top;\n",
              "    }\n",
              "\n",
              "    .dataframe thead th {\n",
              "        text-align: right;\n",
              "    }\n",
              "</style>\n",
              "<table border=\"1\" class=\"dataframe\">\n",
              "  <thead>\n",
              "    <tr style=\"text-align: right;\">\n",
              "      <th></th>\n",
              "      <th>Movie_Genre</th>\n",
              "      <th>Movie_Keywords</th>\n",
              "      <th>Movie_Tagline</th>\n",
              "      <th>Movie_Cast</th>\n",
              "      <th>Movie_Director</th>\n",
              "    </tr>\n",
              "  </thead>\n",
              "  <tbody>\n",
              "    <tr>\n",
              "      <th>0</th>\n",
              "      <td>Crime Comedy</td>\n",
              "      <td>hotel new year's eve witch bet hotel room</td>\n",
              "      <td>Twelve outrageous guests. Four scandalous requ...</td>\n",
              "      <td>Tim Roth Antonio Banderas Jennifer Beals Madon...</td>\n",
              "      <td>Allison Anders</td>\n",
              "    </tr>\n",
              "    <tr>\n",
              "      <th>1</th>\n",
              "      <td>Adventure Action Science Fiction</td>\n",
              "      <td>android galaxy hermit death star lightsaber</td>\n",
              "      <td>A long time ago in a galaxy far, far away...</td>\n",
              "      <td>Mark Hamill Harrison Ford Carrie Fisher Peter ...</td>\n",
              "      <td>George Lucas</td>\n",
              "    </tr>\n",
              "    <tr>\n",
              "      <th>2</th>\n",
              "      <td>Animation Family</td>\n",
              "      <td>father son relationship harbor underwater fish...</td>\n",
              "      <td>There are 3.7 trillion fish in the ocean, they...</td>\n",
              "      <td>Albert Brooks Ellen DeGeneres Alexander Gould ...</td>\n",
              "      <td>Andrew Stanton</td>\n",
              "    </tr>\n",
              "    <tr>\n",
              "      <th>3</th>\n",
              "      <td>Comedy Drama Romance</td>\n",
              "      <td>vietnam veteran hippie mentally disabled runni...</td>\n",
              "      <td>The world will never be the same, once you've ...</td>\n",
              "      <td>Tom Hanks Robin Wright Gary Sinise Mykelti Wil...</td>\n",
              "      <td>Robert Zemeckis</td>\n",
              "    </tr>\n",
              "    <tr>\n",
              "      <th>4</th>\n",
              "      <td>Drama</td>\n",
              "      <td>male nudity female nudity adultery midlife cri...</td>\n",
              "      <td>Look closer.</td>\n",
              "      <td>Kevin Spacey Annette Bening Thora Birch Wes Be...</td>\n",
              "      <td>Sam Mendes</td>\n",
              "    </tr>\n",
              "    <tr>\n",
              "      <th>...</th>\n",
              "      <td>...</td>\n",
              "      <td>...</td>\n",
              "      <td>...</td>\n",
              "      <td>...</td>\n",
              "      <td>...</td>\n",
              "    </tr>\n",
              "    <tr>\n",
              "      <th>4755</th>\n",
              "      <td>Horror</td>\n",
              "      <td></td>\n",
              "      <td>The hot spot where Satan's waitin'.</td>\n",
              "      <td>Lisa Hart Carroll Michael Des Barres Paul Drak...</td>\n",
              "      <td>Pece Dingo</td>\n",
              "    </tr>\n",
              "    <tr>\n",
              "      <th>4756</th>\n",
              "      <td>Comedy Family Drama</td>\n",
              "      <td></td>\n",
              "      <td>It’s better to stand out than to fit in.</td>\n",
              "      <td>Roni Akurati Brighton Sharbino Jason Lee Anjul...</td>\n",
              "      <td>Frank Lotito</td>\n",
              "    </tr>\n",
              "    <tr>\n",
              "      <th>4757</th>\n",
              "      <td>Thriller Drama</td>\n",
              "      <td>christian film sex trafficking</td>\n",
              "      <td>She never knew it could happen to her...</td>\n",
              "      <td>Nicole Smolen Kim Baldwin Ariana Stephens Brys...</td>\n",
              "      <td>Jaco Booyens</td>\n",
              "    </tr>\n",
              "    <tr>\n",
              "      <th>4758</th>\n",
              "      <td>Family</td>\n",
              "      <td></td>\n",
              "      <td></td>\n",
              "      <td></td>\n",
              "      <td></td>\n",
              "    </tr>\n",
              "    <tr>\n",
              "      <th>4759</th>\n",
              "      <td>Documentary</td>\n",
              "      <td>music actors legendary perfomer classic hollyw...</td>\n",
              "      <td></td>\n",
              "      <td>Tony Oppedisano</td>\n",
              "      <td>Simon Napier-Bell</td>\n",
              "    </tr>\n",
              "  </tbody>\n",
              "</table>\n",
              "<p>4760 rows × 5 columns</p>\n",
              "</div>\n",
              "    <div class=\"colab-df-buttons\">\n",
              "\n",
              "  <div class=\"colab-df-container\">\n",
              "    <button class=\"colab-df-convert\" onclick=\"convertToInteractive('df-dc8c6bf8-b386-4f7c-b36e-36bb1995069b')\"\n",
              "            title=\"Convert this dataframe to an interactive table.\"\n",
              "            style=\"display:none;\">\n",
              "\n",
              "  <svg xmlns=\"http://www.w3.org/2000/svg\" height=\"24px\" viewBox=\"0 -960 960 960\">\n",
              "    <path d=\"M120-120v-720h720v720H120Zm60-500h600v-160H180v160Zm220 220h160v-160H400v160Zm0 220h160v-160H400v160ZM180-400h160v-160H180v160Zm440 0h160v-160H620v160ZM180-180h160v-160H180v160Zm440 0h160v-160H620v160Z\"/>\n",
              "  </svg>\n",
              "    </button>\n",
              "\n",
              "  <style>\n",
              "    .colab-df-container {\n",
              "      display:flex;\n",
              "      gap: 12px;\n",
              "    }\n",
              "\n",
              "    .colab-df-convert {\n",
              "      background-color: #E8F0FE;\n",
              "      border: none;\n",
              "      border-radius: 50%;\n",
              "      cursor: pointer;\n",
              "      display: none;\n",
              "      fill: #1967D2;\n",
              "      height: 32px;\n",
              "      padding: 0 0 0 0;\n",
              "      width: 32px;\n",
              "    }\n",
              "\n",
              "    .colab-df-convert:hover {\n",
              "      background-color: #E2EBFA;\n",
              "      box-shadow: 0px 1px 2px rgba(60, 64, 67, 0.3), 0px 1px 3px 1px rgba(60, 64, 67, 0.15);\n",
              "      fill: #174EA6;\n",
              "    }\n",
              "\n",
              "    .colab-df-buttons div {\n",
              "      margin-bottom: 4px;\n",
              "    }\n",
              "\n",
              "    [theme=dark] .colab-df-convert {\n",
              "      background-color: #3B4455;\n",
              "      fill: #D2E3FC;\n",
              "    }\n",
              "\n",
              "    [theme=dark] .colab-df-convert:hover {\n",
              "      background-color: #434B5C;\n",
              "      box-shadow: 0px 1px 3px 1px rgba(0, 0, 0, 0.15);\n",
              "      filter: drop-shadow(0px 1px 2px rgba(0, 0, 0, 0.3));\n",
              "      fill: #FFFFFF;\n",
              "    }\n",
              "  </style>\n",
              "\n",
              "    <script>\n",
              "      const buttonEl =\n",
              "        document.querySelector('#df-dc8c6bf8-b386-4f7c-b36e-36bb1995069b button.colab-df-convert');\n",
              "      buttonEl.style.display =\n",
              "        google.colab.kernel.accessAllowed ? 'block' : 'none';\n",
              "\n",
              "      async function convertToInteractive(key) {\n",
              "        const element = document.querySelector('#df-dc8c6bf8-b386-4f7c-b36e-36bb1995069b');\n",
              "        const dataTable =\n",
              "          await google.colab.kernel.invokeFunction('convertToInteractive',\n",
              "                                                    [key], {});\n",
              "        if (!dataTable) return;\n",
              "\n",
              "        const docLinkHtml = 'Like what you see? Visit the ' +\n",
              "          '<a target=\"_blank\" href=https://colab.research.google.com/notebooks/data_table.ipynb>data table notebook</a>'\n",
              "          + ' to learn more about interactive tables.';\n",
              "        element.innerHTML = '';\n",
              "        dataTable['output_type'] = 'display_data';\n",
              "        await google.colab.output.renderOutput(dataTable, element);\n",
              "        const docLink = document.createElement('div');\n",
              "        docLink.innerHTML = docLinkHtml;\n",
              "        element.appendChild(docLink);\n",
              "      }\n",
              "    </script>\n",
              "  </div>\n",
              "\n",
              "\n",
              "<div id=\"df-f339fd06-c3b5-4d5a-89a8-f133ac30af8e\">\n",
              "  <button class=\"colab-df-quickchart\" onclick=\"quickchart('df-f339fd06-c3b5-4d5a-89a8-f133ac30af8e')\"\n",
              "            title=\"Suggest charts\"\n",
              "            style=\"display:none;\">\n",
              "\n",
              "<svg xmlns=\"http://www.w3.org/2000/svg\" height=\"24px\"viewBox=\"0 0 24 24\"\n",
              "     width=\"24px\">\n",
              "    <g>\n",
              "        <path d=\"M19 3H5c-1.1 0-2 .9-2 2v14c0 1.1.9 2 2 2h14c1.1 0 2-.9 2-2V5c0-1.1-.9-2-2-2zM9 17H7v-7h2v7zm4 0h-2V7h2v10zm4 0h-2v-4h2v4z\"/>\n",
              "    </g>\n",
              "</svg>\n",
              "  </button>\n",
              "\n",
              "<style>\n",
              "  .colab-df-quickchart {\n",
              "      --bg-color: #E8F0FE;\n",
              "      --fill-color: #1967D2;\n",
              "      --hover-bg-color: #E2EBFA;\n",
              "      --hover-fill-color: #174EA6;\n",
              "      --disabled-fill-color: #AAA;\n",
              "      --disabled-bg-color: #DDD;\n",
              "  }\n",
              "\n",
              "  [theme=dark] .colab-df-quickchart {\n",
              "      --bg-color: #3B4455;\n",
              "      --fill-color: #D2E3FC;\n",
              "      --hover-bg-color: #434B5C;\n",
              "      --hover-fill-color: #FFFFFF;\n",
              "      --disabled-bg-color: #3B4455;\n",
              "      --disabled-fill-color: #666;\n",
              "  }\n",
              "\n",
              "  .colab-df-quickchart {\n",
              "    background-color: var(--bg-color);\n",
              "    border: none;\n",
              "    border-radius: 50%;\n",
              "    cursor: pointer;\n",
              "    display: none;\n",
              "    fill: var(--fill-color);\n",
              "    height: 32px;\n",
              "    padding: 0;\n",
              "    width: 32px;\n",
              "  }\n",
              "\n",
              "  .colab-df-quickchart:hover {\n",
              "    background-color: var(--hover-bg-color);\n",
              "    box-shadow: 0 1px 2px rgba(60, 64, 67, 0.3), 0 1px 3px 1px rgba(60, 64, 67, 0.15);\n",
              "    fill: var(--button-hover-fill-color);\n",
              "  }\n",
              "\n",
              "  .colab-df-quickchart-complete:disabled,\n",
              "  .colab-df-quickchart-complete:disabled:hover {\n",
              "    background-color: var(--disabled-bg-color);\n",
              "    fill: var(--disabled-fill-color);\n",
              "    box-shadow: none;\n",
              "  }\n",
              "\n",
              "  .colab-df-spinner {\n",
              "    border: 2px solid var(--fill-color);\n",
              "    border-color: transparent;\n",
              "    border-bottom-color: var(--fill-color);\n",
              "    animation:\n",
              "      spin 1s steps(1) infinite;\n",
              "  }\n",
              "\n",
              "  @keyframes spin {\n",
              "    0% {\n",
              "      border-color: transparent;\n",
              "      border-bottom-color: var(--fill-color);\n",
              "      border-left-color: var(--fill-color);\n",
              "    }\n",
              "    20% {\n",
              "      border-color: transparent;\n",
              "      border-left-color: var(--fill-color);\n",
              "      border-top-color: var(--fill-color);\n",
              "    }\n",
              "    30% {\n",
              "      border-color: transparent;\n",
              "      border-left-color: var(--fill-color);\n",
              "      border-top-color: var(--fill-color);\n",
              "      border-right-color: var(--fill-color);\n",
              "    }\n",
              "    40% {\n",
              "      border-color: transparent;\n",
              "      border-right-color: var(--fill-color);\n",
              "      border-top-color: var(--fill-color);\n",
              "    }\n",
              "    60% {\n",
              "      border-color: transparent;\n",
              "      border-right-color: var(--fill-color);\n",
              "    }\n",
              "    80% {\n",
              "      border-color: transparent;\n",
              "      border-right-color: var(--fill-color);\n",
              "      border-bottom-color: var(--fill-color);\n",
              "    }\n",
              "    90% {\n",
              "      border-color: transparent;\n",
              "      border-bottom-color: var(--fill-color);\n",
              "    }\n",
              "  }\n",
              "</style>\n",
              "\n",
              "  <script>\n",
              "    async function quickchart(key) {\n",
              "      const quickchartButtonEl =\n",
              "        document.querySelector('#' + key + ' button');\n",
              "      quickchartButtonEl.disabled = true;  // To prevent multiple clicks.\n",
              "      quickchartButtonEl.classList.add('colab-df-spinner');\n",
              "      try {\n",
              "        const charts = await google.colab.kernel.invokeFunction(\n",
              "            'suggestCharts', [key], {});\n",
              "      } catch (error) {\n",
              "        console.error('Error during call to suggestCharts:', error);\n",
              "      }\n",
              "      quickchartButtonEl.classList.remove('colab-df-spinner');\n",
              "      quickchartButtonEl.classList.add('colab-df-quickchart-complete');\n",
              "    }\n",
              "    (() => {\n",
              "      let quickchartButtonEl =\n",
              "        document.querySelector('#df-f339fd06-c3b5-4d5a-89a8-f133ac30af8e button');\n",
              "      quickchartButtonEl.style.display =\n",
              "        google.colab.kernel.accessAllowed ? 'block' : 'none';\n",
              "    })();\n",
              "  </script>\n",
              "</div>\n",
              "\n",
              "  <div id=\"id_b1d89b46-33ff-4a99-8a01-db1902f98bd9\">\n",
              "    <style>\n",
              "      .colab-df-generate {\n",
              "        background-color: #E8F0FE;\n",
              "        border: none;\n",
              "        border-radius: 50%;\n",
              "        cursor: pointer;\n",
              "        display: none;\n",
              "        fill: #1967D2;\n",
              "        height: 32px;\n",
              "        padding: 0 0 0 0;\n",
              "        width: 32px;\n",
              "      }\n",
              "\n",
              "      .colab-df-generate:hover {\n",
              "        background-color: #E2EBFA;\n",
              "        box-shadow: 0px 1px 2px rgba(60, 64, 67, 0.3), 0px 1px 3px 1px rgba(60, 64, 67, 0.15);\n",
              "        fill: #174EA6;\n",
              "      }\n",
              "\n",
              "      [theme=dark] .colab-df-generate {\n",
              "        background-color: #3B4455;\n",
              "        fill: #D2E3FC;\n",
              "      }\n",
              "\n",
              "      [theme=dark] .colab-df-generate:hover {\n",
              "        background-color: #434B5C;\n",
              "        box-shadow: 0px 1px 3px 1px rgba(0, 0, 0, 0.15);\n",
              "        filter: drop-shadow(0px 1px 2px rgba(0, 0, 0, 0.3));\n",
              "        fill: #FFFFFF;\n",
              "      }\n",
              "    </style>\n",
              "    <button class=\"colab-df-generate\" onclick=\"generateWithVariable('df_features')\"\n",
              "            title=\"Generate code using this dataframe.\"\n",
              "            style=\"display:none;\">\n",
              "\n",
              "  <svg xmlns=\"http://www.w3.org/2000/svg\" height=\"24px\"viewBox=\"0 0 24 24\"\n",
              "       width=\"24px\">\n",
              "    <path d=\"M7,19H8.4L18.45,9,17,7.55,7,17.6ZM5,21V16.75L18.45,3.32a2,2,0,0,1,2.83,0l1.4,1.43a1.91,1.91,0,0,1,.58,1.4,1.91,1.91,0,0,1-.58,1.4L9.25,21ZM18.45,9,17,7.55Zm-12,3A5.31,5.31,0,0,0,4.9,8.1,5.31,5.31,0,0,0,1,6.5,5.31,5.31,0,0,0,4.9,4.9,5.31,5.31,0,0,0,6.5,1,5.31,5.31,0,0,0,8.1,4.9,5.31,5.31,0,0,0,12,6.5,5.46,5.46,0,0,0,6.5,12Z\"/>\n",
              "  </svg>\n",
              "    </button>\n",
              "    <script>\n",
              "      (() => {\n",
              "      const buttonEl =\n",
              "        document.querySelector('#id_b1d89b46-33ff-4a99-8a01-db1902f98bd9 button.colab-df-generate');\n",
              "      buttonEl.style.display =\n",
              "        google.colab.kernel.accessAllowed ? 'block' : 'none';\n",
              "\n",
              "      buttonEl.onclick = () => {\n",
              "        google.colab.notebook.generateWithVariable('df_features');\n",
              "      }\n",
              "      })();\n",
              "    </script>\n",
              "  </div>\n",
              "\n",
              "    </div>\n",
              "  </div>\n"
            ],
            "application/vnd.google.colaboratory.intrinsic+json": {
              "type": "dataframe",
              "variable_name": "df_features",
              "summary": "{\n  \"name\": \"df_features\",\n  \"rows\": 4760,\n  \"fields\": [\n    {\n      \"column\": \"Movie_Genre\",\n      \"properties\": {\n        \"dtype\": \"category\",\n        \"num_unique_values\": 1164,\n        \"samples\": [\n          \"Family Animation Adventure\",\n          \"Adventure Science Fiction Action\",\n          \"Action Crime Drama Romance Thriller\"\n        ],\n        \"semantic_type\": \"\",\n        \"description\": \"\"\n      }\n    },\n    {\n      \"column\": \"Movie_Keywords\",\n      \"properties\": {\n        \"dtype\": \"string\",\n        \"num_unique_values\": 4203,\n        \"samples\": [\n          \"canada nazis sequel spin off ancient evil\",\n          \"sex professor wedding woman director columbia university\",\n          \"prophecy sea beach gold small town\"\n        ],\n        \"semantic_type\": \"\",\n        \"description\": \"\"\n      }\n    },\n    {\n      \"column\": \"Movie_Tagline\",\n      \"properties\": {\n        \"dtype\": \"string\",\n        \"num_unique_values\": 3928,\n        \"samples\": [\n          \"The messenger must be silenced.\",\n          \"It's not the house that's haunted.\",\n          \"The final hunt begins.\"\n        ],\n        \"semantic_type\": \"\",\n        \"description\": \"\"\n      }\n    },\n    {\n      \"column\": \"Movie_Cast\",\n      \"properties\": {\n        \"dtype\": \"string\",\n        \"num_unique_values\": 4715,\n        \"samples\": [\n          \"Robin Tunney Fairuza Balk Neve Campbell Rachel True Skeet Ulrich\",\n          \"Peter Sellers Christopher Plummer Herbert Lom Catherine Schell Peter Arne\",\n          \"John Wayne Laraine Day Cedric Hardwicke Judith Anderson Anthony Quinn\"\n        ],\n        \"semantic_type\": \"\",\n        \"description\": \"\"\n      }\n    },\n    {\n      \"column\": \"Movie_Director\",\n      \"properties\": {\n        \"dtype\": \"category\",\n        \"num_unique_values\": 2332,\n        \"samples\": [\n          \"Rob McKittrick\",\n          \"Terron R. Parsons\",\n          \"Cyrus Nowrasteh\"\n        ],\n        \"semantic_type\": \"\",\n        \"description\": \"\"\n      }\n    }\n  ]\n}"
            }
          },
          "metadata": {},
          "execution_count": 12
        }
      ]
    },
    {
      "cell_type": "code",
      "source": [
        "x = df_features['Movie_Genre'] + ' ' + df_features['Movie_Keywords'] + ' ' + df_features['Movie_Tagline'] + ' ' + df_features['Movie_Cast'] + ' ' + df_features['Movie_Director']"
      ],
      "metadata": {
        "id": "2bUshpBobu3i"
      },
      "execution_count": null,
      "outputs": []
    },
    {
      "cell_type": "code",
      "source": [
        "x"
      ],
      "metadata": {
        "colab": {
          "base_uri": "https://localhost:8080/"
        },
        "id": "f9dQTlKjcZwj",
        "outputId": "6740cbd9-7fd3-4463-d7a2-facbd93c07c8"
      },
      "execution_count": null,
      "outputs": [
        {
          "output_type": "execute_result",
          "data": {
            "text/plain": [
              "0       Crime Comedy hotel new year's eve witch bet ho...\n",
              "1       Adventure Action Science Fiction android galax...\n",
              "2       Animation Family father son relationship harbo...\n",
              "3       Comedy Drama Romance vietnam veteran hippie me...\n",
              "4       Drama male nudity female nudity adultery midli...\n",
              "                              ...                        \n",
              "4755    Horror  The hot spot where Satan's waitin'. Li...\n",
              "4756    Comedy Family Drama  It’s better to stand out ...\n",
              "4757    Thriller Drama christian film sex trafficking ...\n",
              "4758                                           Family    \n",
              "4759    Documentary music actors legendary perfomer cl...\n",
              "Length: 4760, dtype: object"
            ]
          },
          "metadata": {},
          "execution_count": 24
        }
      ]
    },
    {
      "cell_type": "code",
      "source": [
        "x.shape"
      ],
      "metadata": {
        "colab": {
          "base_uri": "https://localhost:8080/"
        },
        "id": "ZrHfNfxVdo7c",
        "outputId": "c016dce2-1106-49d1-c623-e8cc8357d7ab"
      },
      "execution_count": null,
      "outputs": [
        {
          "output_type": "execute_result",
          "data": {
            "text/plain": [
              "(4760,)"
            ]
          },
          "metadata": {},
          "execution_count": 25
        }
      ]
    },
    {
      "cell_type": "markdown",
      "source": [
        "### **Get Feature Text Conversion to Tokens**\n",
        "\n",
        "\n"
      ],
      "metadata": {
        "id": "okXHV041dsKi"
      }
    },
    {
      "cell_type": "code",
      "source": [
        "from sklearn.feature_extraction.text import TfidfVectorizer"
      ],
      "metadata": {
        "id": "MFao08xsejyM"
      },
      "execution_count": null,
      "outputs": []
    },
    {
      "cell_type": "code",
      "source": [
        "tfidf = TfidfVectorizer()"
      ],
      "metadata": {
        "id": "001qJG9yevtK"
      },
      "execution_count": null,
      "outputs": []
    },
    {
      "cell_type": "code",
      "source": [
        "x = tfidf.fit_transform(x)"
      ],
      "metadata": {
        "id": "UVGYgQbFe8L6"
      },
      "execution_count": null,
      "outputs": []
    },
    {
      "cell_type": "code",
      "source": [
        "x.shape"
      ],
      "metadata": {
        "colab": {
          "base_uri": "https://localhost:8080/"
        },
        "id": "wMu1z6q-fDJ6",
        "outputId": "34965033-129a-4e2f-8995-b716c0940a0a"
      },
      "execution_count": null,
      "outputs": [
        {
          "output_type": "execute_result",
          "data": {
            "text/plain": [
              "(4760, 17258)"
            ]
          },
          "metadata": {},
          "execution_count": 29
        }
      ]
    },
    {
      "cell_type": "code",
      "source": [
        "print(x)"
      ],
      "metadata": {
        "colab": {
          "base_uri": "https://localhost:8080/"
        },
        "id": "3KrlHxjZfHA6",
        "outputId": "7b65cc02-2311-4fc4-eefc-d2cf9c6b78c5"
      },
      "execution_count": null,
      "outputs": [
        {
          "output_type": "stream",
          "name": "stdout",
          "text": [
            "  (0, 617)\t0.1633382144407513\n",
            "  (0, 492)\t0.1432591540388685\n",
            "  (0, 15413)\t0.1465525095337543\n",
            "  (0, 9675)\t0.14226057295252661\n",
            "  (0, 9465)\t0.1659841367820977\n",
            "  (0, 1390)\t0.16898383612799558\n",
            "  (0, 7825)\t0.09799561597509843\n",
            "  (0, 1214)\t0.13865857545144072\n",
            "  (0, 729)\t0.13415063359531618\n",
            "  (0, 13093)\t0.1432591540388685\n",
            "  (0, 15355)\t0.10477815972666779\n",
            "  (0, 9048)\t0.0866842116160778\n",
            "  (0, 11161)\t0.06250380151644369\n",
            "  (0, 16773)\t0.17654247479915475\n",
            "  (0, 5612)\t0.08603537588547631\n",
            "  (0, 16735)\t0.10690083751525419\n",
            "  (0, 7904)\t0.13348000542112332\n",
            "  (0, 15219)\t0.09800472886453934\n",
            "  (0, 11242)\t0.07277788238484746\n",
            "  (0, 3878)\t0.11998399582562203\n",
            "  (0, 5499)\t0.11454057510303811\n",
            "  (0, 7071)\t0.19822417598406614\n",
            "  (0, 7454)\t0.14745635785412262\n",
            "  (0, 1495)\t0.19712637387361423\n",
            "  (0, 9206)\t0.15186283580984414\n",
            "  :\t:\n",
            "  (4757, 5455)\t0.12491480594769522\n",
            "  (4757, 2967)\t0.16273475835631626\n",
            "  (4757, 8464)\t0.23522565554066333\n",
            "  (4757, 6938)\t0.17088173678136628\n",
            "  (4757, 8379)\t0.17480603856721913\n",
            "  (4757, 15303)\t0.07654356007668191\n",
            "  (4757, 15384)\t0.09754322497537371\n",
            "  (4757, 7649)\t0.11479421494340192\n",
            "  (4757, 10896)\t0.14546473055066447\n",
            "  (4757, 4494)\t0.05675298448720501\n",
            "  (4758, 5238)\t1.0\n",
            "  (4759, 11264)\t0.33947721804318337\n",
            "  (4759, 11708)\t0.33947721804318337\n",
            "  (4759, 205)\t0.3237911628497312\n",
            "  (4759, 8902)\t0.3040290704566037\n",
            "  (4759, 14062)\t0.3237911628497312\n",
            "  (4759, 3058)\t0.2812896191863103\n",
            "  (4759, 7130)\t0.26419662449963793\n",
            "  (4759, 10761)\t0.3126617295732147\n",
            "  (4759, 4358)\t0.18306542312175342\n",
            "  (4759, 14051)\t0.20084315377640435\n",
            "  (4759, 5690)\t0.19534291014627303\n",
            "  (4759, 15431)\t0.19628653185946862\n",
            "  (4759, 1490)\t0.21197258705292082\n",
            "  (4759, 10666)\t0.15888268987343043\n"
          ]
        }
      ]
    },
    {
      "cell_type": "markdown",
      "source": [
        "### **Get Similarity Score using Cosine Similarity**"
      ],
      "metadata": {
        "id": "eoZn4o9BfgZR"
      }
    },
    {
      "cell_type": "code",
      "source": [
        "from sklearn.metrics.pairwise import cosine_similarity"
      ],
      "metadata": {
        "id": "8hzsqs2OftH_"
      },
      "execution_count": null,
      "outputs": []
    },
    {
      "cell_type": "code",
      "source": [
        "Similarity_Score = cosine_similarity(x)"
      ],
      "metadata": {
        "id": "MP_qi41Wf9hq"
      },
      "execution_count": null,
      "outputs": []
    },
    {
      "cell_type": "code",
      "source": [
        "Similarity_Score"
      ],
      "metadata": {
        "colab": {
          "base_uri": "https://localhost:8080/"
        },
        "id": "i_ZYhDTqgHZ2",
        "outputId": "277a08a4-9b20-46ed-8cc1-0a827cb6e8ca"
      },
      "execution_count": null,
      "outputs": [
        {
          "output_type": "execute_result",
          "data": {
            "text/plain": [
              "array([[1.        , 0.01351235, 0.03570468, ..., 0.        , 0.        ,\n",
              "        0.        ],\n",
              "       [0.01351235, 1.        , 0.00806674, ..., 0.        , 0.        ,\n",
              "        0.        ],\n",
              "       [0.03570468, 0.00806674, 1.        , ..., 0.        , 0.08014876,\n",
              "        0.        ],\n",
              "       ...,\n",
              "       [0.        , 0.        , 0.        , ..., 1.        , 0.        ,\n",
              "        0.        ],\n",
              "       [0.        , 0.        , 0.08014876, ..., 0.        , 1.        ,\n",
              "        0.        ],\n",
              "       [0.        , 0.        , 0.        , ..., 0.        , 0.        ,\n",
              "        1.        ]])"
            ]
          },
          "metadata": {},
          "execution_count": 33
        }
      ]
    },
    {
      "cell_type": "code",
      "source": [
        "Similarity_Score.shape"
      ],
      "metadata": {
        "colab": {
          "base_uri": "https://localhost:8080/"
        },
        "id": "5KF9g_qbgUgu",
        "outputId": "3a227ce3-be48-4b54-80bc-71417afe3af8"
      },
      "execution_count": null,
      "outputs": [
        {
          "output_type": "execute_result",
          "data": {
            "text/plain": [
              "(4760, 4760)"
            ]
          },
          "metadata": {},
          "execution_count": 34
        }
      ]
    },
    {
      "cell_type": "markdown",
      "source": [
        "### **Get Movie Name as Input from User and Validate for Closest Spelling**"
      ],
      "metadata": {
        "id": "OlR-xew7ghEe"
      }
    },
    {
      "cell_type": "code",
      "source": [
        "Favourite_Movie_Name = input('Enter your favourite movie name: ')"
      ],
      "metadata": {
        "colab": {
          "base_uri": "https://localhost:8080/"
        },
        "id": "KngQVHQnhA4Z",
        "outputId": "1a714d70-e3c5-4e0e-d59d-4b70fbc15926"
      },
      "execution_count": null,
      "outputs": [
        {
          "name": "stdout",
          "output_type": "stream",
          "text": [
            "Enter your favourite movie name: The Dark Knight\n"
          ]
        }
      ]
    },
    {
      "cell_type": "code",
      "source": [
        "All_Movies_Title_List = df['Movie_Title'].tolist()"
      ],
      "metadata": {
        "id": "e3oMyKOlhgT1"
      },
      "execution_count": null,
      "outputs": []
    },
    {
      "cell_type": "code",
      "source": [
        "import difflib"
      ],
      "metadata": {
        "id": "U1-ObNYbh1Ai"
      },
      "execution_count": null,
      "outputs": []
    },
    {
      "cell_type": "code",
      "source": [
        "Movie_Recommendation = difflib.get_close_matches(Favourite_Movie_Name, All_Movies_Title_List)\n",
        "print(Movie_Recommendation)"
      ],
      "metadata": {
        "colab": {
          "base_uri": "https://localhost:8080/"
        },
        "id": "srB1-qi4h4fk",
        "outputId": "1a73dcde-81ac-40cb-eb4b-0d3542747e4a"
      },
      "execution_count": null,
      "outputs": [
        {
          "output_type": "stream",
          "name": "stdout",
          "text": [
            "['The Dark Knight', 'The Dark Knight Rises', 'Shark Night']\n"
          ]
        }
      ]
    },
    {
      "cell_type": "code",
      "source": [
        "Close_Match = Movie_Recommendation[0]\n",
        "print(Close_Match)"
      ],
      "metadata": {
        "colab": {
          "base_uri": "https://localhost:8080/"
        },
        "id": "A6dIEqapiQmK",
        "outputId": "879c741a-60d1-414a-edb4-adf4c0923b1d"
      },
      "execution_count": null,
      "outputs": [
        {
          "output_type": "stream",
          "name": "stdout",
          "text": [
            "The Dark Knight\n"
          ]
        }
      ]
    },
    {
      "cell_type": "code",
      "source": [
        "Index_of_Close_Match_Movie = df[df.Movie_Title == Close_Match]['Movie_ID'].values[0]\n",
        "print(Index_of_Close_Match_Movie)"
      ],
      "metadata": {
        "colab": {
          "base_uri": "https://localhost:8080/"
        },
        "id": "7cW-epgAifTQ",
        "outputId": "d5bb53cc-9ace-474e-aa3e-e5e37d5bb9bd"
      },
      "execution_count": null,
      "outputs": [
        {
          "output_type": "stream",
          "name": "stdout",
          "text": [
            "69\n"
          ]
        }
      ]
    },
    {
      "cell_type": "code",
      "source": [
        "Recommendation_Score = list(enumerate(Similarity_Score[Index_of_Close_Match_Movie]))\n",
        "print(Recommendation_Score)"
      ],
      "metadata": {
        "colab": {
          "base_uri": "https://localhost:8080/"
        },
        "id": "Vb3fsCh6i8Al",
        "outputId": "007231d9-4946-4ca6-f05c-d1931546a1ac"
      },
      "execution_count": null,
      "outputs": [
        {
          "output_type": "stream",
          "name": "stdout",
          "text": [
            "[(0, 0.02279024863203891), (1, 0.05183353554774124), (2, 0.013503340759716277), (3, 0.0), (4, 0.0), (5, 0.0), (6, 0.04535433074740018), (7, 0.015664808304333394), (8, 0.03826419901017991), (9, 0.013431410793363834), (10, 0.023442037229107152), (11, 0.0), (12, 0.0), (13, 0.0), (14, 0.0), (15, 0.02011337612273347), (16, 0.0048620603269227), (17, 0.015417793128333128), (18, 0.056796746503834546), (19, 0.05765968156229871), (20, 0.0), (21, 0.0062381466133505335), (22, 0.021651895718226427), (23, 0.013437706536819029), (24, 0.02301197909700517), (25, 0.0), (26, 0.0), (27, 0.03728549546973496), (28, 0.06777574584703054), (29, 0.015213315884965764), (30, 0.005878212229164657), (31, 0.03812170384214554), (32, 0.012727994687019434), (33, 0.0), (34, 0.0060700475120917695), (35, 0.013392544775229043), (36, 0.020806418029731308), (37, 0.01324969077339522), (38, 0.007154001711750878), (39, 0.04232679442661297), (40, 0.007022197746988544), (41, 0.016150136593701243), (42, 0.0), (43, 0.0), (44, 0.023365406800323868), (45, 0.028529472973708607), (46, 0.039179679338906585), (47, 0.005177765881451375), (48, 0.013325133341931309), (49, 0.0), (50, 0.015541413917133585), (51, 0.0061374140582461005), (52, 0.005577567893101354), (53, 0.007821480345815379), (54, 0.014739740519684854), (55, 0.015165690846342353), (56, 0.01477740274719765), (57, 0.029476436995209538), (58, 0.00692093940431794), (59, 0.037322493580380145), (60, 0.01366592844673691), (61, 0.0), (62, 0.0), (63, 0.011551287099049085), (64, 0.018263632803794613), (65, 0.5676675230049726), (66, 0.0), (67, 0.5225678536005721), (68, 0.01282568904787033), (69, 1.0000000000000002), (70, 0.030126887943066206), (71, 0.0), (72, 0.026713448959039637), (73, 0.03718875901887205), (74, 0.023191773473048148), (75, 0.6377211480336923), (76, 0.027660319859172833), (77, 0.020831234161717532), (78, 0.5544646529588741), (79, 0.04282142882575432), (80, 0.5424491174909741), (81, 0.012776339561418718), (82, 0.01194230192399205), (83, 0.005911290468076839), (84, 0.033191906152354386), (85, 0.036254966017134176), (86, 0.0), (87, 0.0056312516894796855), (88, 0.009974554485476425), (89, 0.006577260281557956), (90, 0.0851738514334285), (91, 0.040544511225971476), (92, 0.005509064315179985), (93, 0.0403744397062832), (94, 0.05316274539056579), (95, 0.04336189134723449), (96, 0.01456525886425705), (97, 0.019052928564985756), (98, 0.08313541500679697), (99, 0.00504499556311914), (100, 0.0), (101, 0.02524476925171036), (102, 0.05112383648837865), (103, 0.0), (104, 0.021848115119308384), (105, 0.0), (106, 0.033273162591578996), (107, 0.031239914287410606), (108, 0.03375938552526988), (109, 0.012855946608177684), (110, 0.03827308942740557), (111, 0.0), (112, 0.005616007146272161), (113, 0.0), (114, 0.0), (115, 0.0), (116, 0.0055055791387881095), (117, 0.0), (118, 0.04734008394589595), (119, 0.014239645999671627), (120, 0.0), (121, 0.0), (122, 0.020482981708324653), (123, 0.006848946492555924), (124, 0.005326546252743293), (125, 0.032133683229266394), (126, 0.0), (127, 0.0), (128, 0.05191265409337089), (129, 0.0), (130, 0.03517304336656463), (131, 0.0), (132, 0.0), (133, 0.0), (134, 0.0), (135, 0.03387054099941586), (136, 0.014752738127771179), (137, 0.028358499058549334), (138, 0.005601070852879239), (139, 0.007023604170477681), (140, 0.0), (141, 0.0), (142, 0.03690673011309417), (143, 0.00656688654879369), (144, 0.011492555893445942), (145, 0.00594672955668862), (146, 0.0), (147, 0.0050468297644060715), (148, 0.010974342485498986), (149, 0.004817135560688994), (150, 0.037505921037672786), (151, 0.03751890974241548), (152, 0.06176444396489565), (153, 0.017058661163122695), (154, 0.02013178211120292), (155, 0.011921197150357945), (156, 0.0), (157, 0.0), (158, 0.014330159483150294), (159, 0.004899408286802977), (160, 0.03107229927498263), (161, 0.0), (162, 0.024422171887751726), (163, 0.0), (164, 0.0), (165, 0.01254687777341304), (166, 0.005151790627314005), (167, 0.015433330081581903), (168, 0.0), (169, 0.0), (170, 0.02521626134979727), (171, 0.034476572191540565), (172, 0.0), (173, 0.039221171710884316), (174, 0.0), (175, 0.0), (176, 0.0), (177, 0.0), (178, 0.0), (179, 0.04367580564756893), (180, 0.006689477044060447), (181, 0.043654101771635756), (182, 0.024422841692659576), (183, 0.0), (184, 0.014067815487451082), (185, 0.007803401672705585), (186, 0.013160555798040733), (187, 0.051851947093195495), (188, 0.0), (189, 0.04365196766096284), (190, 0.004977992718033566), (191, 0.030246125311586755), (192, 0.0), (193, 0.016890811587142947), (194, 0.0), (195, 0.0), (196, 0.0), (197, 0.0), (198, 0.03484442925727141), (199, 0.0344524973744552), (200, 0.005154422284909463), (201, 0.021229173181779144), (202, 0.010326382609569513), (203, 0.0), (204, 0.0), (205, 0.0), (206, 0.013678811265858144), (207, 0.0065889102169375885), (208, 0.021602177802941443), (209, 0.0), (210, 0.013033665606929232), (211, 0.0), (212, 0.014727693742210649), (213, 0.019961552520718302), (214, 0.0), (215, 0.0), (216, 0.013368730714001326), (217, 0.01867013562167044), (218, 0.007535588537436946), (219, 0.008398151607773475), (220, 0.035839546010856566), (221, 0.0), (222, 0.0051343207912470275), (223, 0.0060280881679087555), (224, 0.0), (225, 0.0), (226, 0.015973369670857593), (227, 0.0), (228, 0.0), (229, 0.0), (230, 0.01865411795034671), (231, 0.045494278985290605), (232, 0.04671120462737381), (233, 0.011935779328271223), (234, 0.036279599645128606), (235, 0.0), (236, 0.005479397554108687), (237, 0.02409615202547958), (238, 0.00594964872081768), (239, 0.014942539867493904), (240, 0.005399399981233049), (241, 0.049199852848802295), (242, 0.007146409524653753), (243, 0.004106886412128067), (244, 0.011830606773803189), (245, 0.013226928433656488), (246, 0.0), (247, 0.03211826820151282), (248, 0.0), (249, 0.0), (250, 0.006527518517726681), (251, 0.0), (252, 0.026626975700474155), (253, 0.017466425383604166), (254, 0.01421295252557423), (255, 0.019611751286324218), (256, 0.0), (257, 0.02624541866672132), (258, 0.03656819658500363), (259, 0.027905600164517666), (260, 0.03998247473024666), (261, 0.040670315612044775), (262, 0.0), (263, 0.03437090971243818), (264, 0.08137981068524368), (265, 0.03531647158018982), (266, 0.009305065275989762), (267, 0.0), (268, 0.0), (269, 0.02377482660727249), (270, 0.03684861248995787), (271, 0.009268145209402707), (272, 0.0), (273, 0.03643521928875267), (274, 0.01834316660148507), (275, 0.0), (276, 0.005500240692675997), (277, 0.007255478289965495), (278, 0.0), (279, 0.0), (280, 0.0), (281, 0.0), (282, 0.021388784628063862), (283, 0.021998234857446945), (284, 0.02980308877404041), (285, 0.0), (286, 0.07460534860590025), (287, 0.0), (288, 0.017279886070146327), (289, 0.016330892562454045), (290, 0.01660388805774385), (291, 0.005317184538927374), (292, 0.014081802282238029), (293, 0.02237928739621695), (294, 0.016201120450379157), (295, 0.044815358278198894), (296, 0.009063757458884648), (297, 0.008732401475274758), (298, 0.008622284574270602), (299, 0.008252742701731966), (300, 0.041430768972668626), (301, 0.008731249326769532), (302, 0.0), (303, 0.06477162846856724), (304, 0.005378076116661725), (305, 0.04778774160072418), (306, 0.03062820334281903), (307, 0.0325496368590082), (308, 0.0), (309, 0.0), (310, 0.01954949582681831), (311, 0.0), (312, 0.0), (313, 0.006045437602039497), (314, 0.03533635087863958), (315, 0.033344747056196826), (316, 0.03080899988941629), (317, 0.0), (318, 0.0), (319, 0.022918604943934065), (320, 0.03484993080062232), (321, 0.019749429016439335), (322, 0.02003643547466124), (323, 0.01820093896513147), (324, 0.014724409915613867), (325, 0.012185362126731483), (326, 0.0), (327, 0.01825286634160065), (328, 0.006079824038234951), (329, 0.005658844122672905), (330, 0.010873836792337225), (331, 0.0), (332, 0.018710506102226375), (333, 0.030153121783852963), (334, 0.03041805255293998), (335, 0.0), (336, 0.00591971584080782), (337, 0.0), (338, 0.0), (339, 0.0), (340, 0.008868479061693359), (341, 0.00628101336100659), (342, 0.017403142852531677), (343, 0.016096709819855125), (344, 0.0), (345, 0.00799976668276101), (346, 0.01587435542327349), (347, 0.043523848213607524), (348, 0.0), (349, 0.015263189855009894), (350, 0.013165623661889645), (351, 0.0), (352, 0.0), (353, 0.006357843962028089), (354, 0.0053383109948301165), (355, 0.01473098619717943), (356, 0.005564217214871696), (357, 0.0), (358, 0.01254131236562803), (359, 0.0144422097263412), (360, 0.005535151848494459), (361, 0.008761836093134374), (362, 0.009113203006571495), (363, 0.026215957906650683), (364, 0.02586107959469591), (365, 0.00916606329519565), (366, 0.0), (367, 0.020889910763738414), (368, 0.036082628013097494), (369, 0.01668888790281315), (370, 0.005823943738810898), (371, 0.006419005867616902), (372, 0.0), (373, 0.0), (374, 0.03388311015417424), (375, 0.03350236401644805), (376, 0.030143855721665308), (377, 0.022369809676675737), (378, 0.021899671949816523), (379, 0.033448408792425166), (380, 0.08796824508352472), (381, 0.006741555793536194), (382, 0.01334958242181861), (383, 0.0), (384, 0.0), (385, 0.0), (386, 0.028851198657007908), (387, 0.0), (388, 0.0), (389, 0.02751686762359757), (390, 0.05033342494748026), (391, 0.0), (392, 0.0), (393, 0.0), (394, 0.023985523487419055), (395, 0.0), (396, 0.026413758780274493), (397, 0.03854217547033345), (398, 0.0), (399, 0.014803028835308379), (400, 0.015592807869038976), (401, 0.008365624342978696), (402, 0.0), (403, 0.018178598361778025), (404, 0.015503492325320584), (405, 0.0233773659582876), (406, 0.005951614173689911), (407, 0.0), (408, 0.0), (409, 0.007599214473775802), (410, 0.04043471930914416), (411, 0.005745874695891234), (412, 0.0), (413, 0.023285305352653052), (414, 0.0), (415, 0.0), (416, 0.019895423988082174), (417, 0.018900182452797808), (418, 0.028144188637285277), (419, 0.00929626057130255), (420, 0.0062726624620253035), (421, 0.022970750268612096), (422, 0.03328993231216254), (423, 0.0), (424, 0.023103226486492996), (425, 0.023083181867954737), (426, 0.01903180038266351), (427, 0.020916204511621486), (428, 0.0074520638914554235), (429, 0.006113552735626927), (430, 0.023470698207354403), (431, 0.0), (432, 0.018469967769562105), (433, 0.01764469465665646), (434, 0.0), (435, 0.040151432854064785), (436, 0.0065265654321654595), (437, 0.0), (438, 0.022595648996103442), (439, 0.021677947434042655), (440, 0.022738136273372466), (441, 0.0), (442, 0.010027533827849947), (443, 0.04749945932353958), (444, 0.0), (445, 0.0), (446, 0.012579186825450759), (447, 0.006057224531184499), (448, 0.02976806175142482), (449, 0.050970136440591986), (450, 0.006400914055328696), (451, 0.04753139508807531), (452, 0.037468358015580946), (453, 0.016674547861770674), (454, 0.0), (455, 0.011336289310616893), (456, 0.0), (457, 0.007575673098869014), (458, 0.013493903639620917), (459, 0.0), (460, 0.02751119887560131), (461, 0.009774603929069564), (462, 0.0), (463, 0.005406219561268151), (464, 0.015791058681492862), (465, 0.0), (466, 0.04296875504144118), (467, 0.05131881960081379), (468, 0.03935685452075162), (469, 0.042826475675431984), (470, 0.012754733217854818), (471, 0.0), (472, 0.04739411154458664), (473, 0.0), (474, 0.11202364602618455), (475, 0.03909423092121587), (476, 0.01415494427172411), (477, 0.01816158417581909), (478, 0.014593862593110862), (479, 0.0), (480, 0.0), (481, 0.006343858364473549), (482, 0.01954816637230966), (483, 0.0), (484, 0.008345200516281064), (485, 0.01712021973965264), (486, 0.041699176995547156), (487, 0.0), (488, 0.0), (489, 0.0), (490, 0.028588530855094482), (491, 0.05753593133568539), (492, 0.026203807548500047), (493, 0.0061935517736363445), (494, 0.08171509987727561), (495, 0.029847676445284084), (496, 0.012391407584809264), (497, 0.05678121637092872), (498, 0.013836962013600733), (499, 0.014033223389653182), (500, 0.011791797666781165), (501, 0.018271524072037873), (502, 0.006106913057912018), (503, 0.0), (504, 0.0), (505, 0.0), (506, 0.0), (507, 0.0), (508, 0.0), (509, 0.06672299659468389), (510, 0.0), (511, 0.025172499243266283), (512, 0.014373697023622931), (513, 0.013146259298695086), (514, 0.03637356096446434), (515, 0.005642706210640613), (516, 0.02925527692789765), (517, 0.029166620419101903), (518, 0.0), (519, 0.01796575736729042), (520, 0.0), (521, 0.015381277844238329), (522, 0.012517192173379297), (523, 0.00613206460562458), (524, 0.0), (525, 0.0), (526, 0.0), (527, 0.0), (528, 0.03104526883856746), (529, 0.0), (530, 0.005742263314410208), (531, 0.0), (532, 0.011229739253921327), (533, 0.02810570462736819), (534, 0.011944223824333406), (535, 0.0), (536, 0.0), (537, 0.06616787190408581), (538, 0.013178145530013362), (539, 0.02960251833643994), (540, 0.01877939129940387), (541, 0.0), (542, 0.008480462278772425), (543, 0.006075556258104762), (544, 0.0), (545, 0.045479321587143864), (546, 0.10463938971564954), (547, 0.01346914394943681), (548, 0.013610513597921094), (549, 0.0), (550, 0.036717962058323006), (551, 0.016591311248589362), (552, 0.0), (553, 0.030547834591523222), (554, 0.027225361412626284), (555, 0.0410207498729643), (556, 0.0), (557, 0.0), (558, 0.019777014504510807), (559, 0.0051969921127796226), (560, 0.01212999013153609), (561, 0.032300947246369845), (562, 0.02069655803580575), (563, 0.016887799906492074), (564, 0.0), (565, 0.05395548947631023), (566, 0.01821472503455666), (567, 0.035418190467294136), (568, 0.028057275082874644), (569, 0.01329880654614277), (570, 0.01982420768734789), (571, 0.025690289644336704), (572, 0.03723388372379434), (573, 0.020131756815805042), (574, 0.0), (575, 0.036427191812287055), (576, 0.0), (577, 0.0), (578, 0.0), (579, 0.013071680071285577), (580, 0.006095660120763533), (581, 0.005256821001453751), (582, 0.018820508662434246), (583, 0.0), (584, 0.0060359400958173515), (585, 0.0), (586, 0.008598052042738601), (587, 0.0), (588, 0.0), (589, 0.0), (590, 0.0053764259764686375), (591, 0.03988680703339334), (592, 0.014741515807513834), (593, 0.0), (594, 0.007377633142415056), (595, 0.013300235217081463), (596, 0.0), (597, 0.019279520406169818), (598, 0.0), (599, 0.04689416162253032), (600, 0.05502791145842674), (601, 0.04950553715267833), (602, 0.04738068688141497), (603, 0.061723509923078), (604, 0.005364918912830856), (605, 0.0), (606, 0.02854137528062756), (607, 0.0), (608, 0.05351361371970687), (609, 0.0), (610, 0.030077573014427823), (611, 0.0), (612, 0.033670378175274636), (613, 0.03580009348136639), (614, 0.03220198770329189), (615, 0.015034914198841193), (616, 0.013313136364480439), (617, 0.015812213575156067), (618, 0.015596128115223875), (619, 0.04940694493599407), (620, 0.015343963883978403), (621, 0.010232081452436089), (622, 0.023173866216260764), (623, 0.016967311750943216), (624, 0.0), (625, 0.04224227805561351), (626, 0.0), (627, 0.011176702188412659), (628, 0.005881357588990988), (629, 0.005037217960720561), (630, 0.01590116319363069), (631, 0.01492323389729017), (632, 0.005657740997964647), (633, 0.026725971259393144), (634, 0.005730501354883382), (635, 0.02221494002323053), (636, 0.005891262608924382), (637, 0.006040734124792748), (638, 0.0), (639, 0.030470647332859944), (640, 0.017033992720543352), (641, 0.005910727466214391), (642, 0.023564145047741167), (643, 0.018148329988138638), (644, 0.011488228051869831), (645, 0.0), (646, 0.0), (647, 0.030913952300374914), (648, 0.014930069162881603), (649, 0.0), (650, 0.007728142841305077), (651, 0.021237343976043575), (652, 0.005966665431431934), (653, 0.010521918455076999), (654, 0.012746071434388353), (655, 0.0), (656, 0.0430333805350606), (657, 0.019045715526386106), (658, 0.0), (659, 0.0), (660, 0.006093445187325523), (661, 0.026830851282399253), (662, 0.03416126376530112), (663, 0.041991588360673134), (664, 0.0), (665, 0.015772427903482964), (666, 0.04743486854826924), (667, 0.006132967679870319), (668, 0.00956756644241311), (669, 0.011127304616388252), (670, 0.03079540689576465), (671, 0.0), (672, 0.02519710535675699), (673, 0.013197081677092283), (674, 0.03600355445224179), (675, 0.0063615251395737265), (676, 0.03341369975620312), (677, 0.009045800735826942), (678, 0.006359376040236031), (679, 0.0), (680, 0.04589825465759154), (681, 0.050465002614116), (682, 0.013601123695034974), (683, 0.021624632672026866), (684, 0.016316162839070086), (685, 0.005992396885682275), (686, 0.05692685109095916), (687, 0.020362477727034083), (688, 0.013396726695558938), (689, 0.011602796170389024), (690, 0.011251792174331973), (691, 0.0), (692, 0.04499549476365129), (693, 0.0), (694, 0.005485560150397683), (695, 0.005372930352007706), (696, 0.005871635628867513), (697, 0.01604234258729225), (698, 0.0), (699, 0.007422767614560967), (700, 0.009055891675439407), (701, 0.02090608534342993), (702, 0.020401806950120557), (703, 0.013979074959187904), (704, 0.029720743489757926), (705, 0.0), (706, 0.012688839055758504), (707, 0.013437067895497062), (708, 0.0), (709, 0.0), (710, 0.0), (711, 0.0), (712, 0.0), (713, 0.01571666843061419), (714, 0.01468578312974169), (715, 0.04634751118615042), (716, 0.021337129127806057), (717, 0.0), (718, 0.021448788100203252), (719, 0.009715592738303695), (720, 0.007938535824269444), (721, 0.024876256522101077), (722, 0.0), (723, 0.010237645347799505), (724, 0.029496643423718855), (725, 0.012346842064512444), (726, 0.006901684974840743), (727, 0.011881551438480936), (728, 0.013043543165137946), (729, 0.01348552250866224), (730, 0.013277645654291367), (731, 0.03010774267209804), (732, 0.0052074689696294555), (733, 0.023914594855730387), (734, 0.0), (735, 0.0), (736, 0.0), (737, 0.018018731685819255), (738, 0.02058544080671391), (739, 0.0), (740, 0.0), (741, 0.0), (742, 0.047414667945174176), (743, 0.005994344567133927), (744, 0.01731976453251825), (745, 0.04256383011412926), (746, 0.0), (747, 0.04822350283811573), (748, 0.09009152440601821), (749, 0.006263786757352226), (750, 0.028158618300662436), (751, 0.03627418920873819), (752, 0.016717753872203686), (753, 0.01401871979011966), (754, 0.0), (755, 0.015525494777633347), (756, 0.055587142690570406), (757, 0.0), (758, 0.0216137509046456), (759, 0.02628580375569779), (760, 0.0066919528851945445), (761, 0.005834259178366569), (762, 0.043230823236432056), (763, 0.04157842197692313), (764, 0.0), (765, 0.019793334751907546), (766, 0.0), (767, 0.0), (768, 0.029209208136452766), (769, 0.02727784143485389), (770, 0.0), (771, 0.0), (772, 0.0), (773, 0.012474355920427914), (774, 0.04327527363243365), (775, 0.010777402102572036), (776, 0.03448382291773535), (777, 0.04234678901167879), (778, 0.022441303590096617), (779, 0.03383339819249699), (780, 0.0), (781, 0.0), (782, 0.0), (783, 0.0), (784, 0.022511530753722836), (785, 0.015746624373153745), (786, 0.0), (787, 0.0), (788, 0.011839736052410461), (789, 0.0), (790, 0.005653911846593743), (791, 0.0), (792, 0.0), (793, 0.02113159738986589), (794, 0.0), (795, 0.03274844617901395), (796, 0.0), (797, 0.0), (798, 0.020718868290461354), (799, 0.005686668508410964), (800, 0.01086995791374322), (801, 0.024989766329513337), (802, 0.030242951846515164), (803, 0.010808756827382979), (804, 0.010877084431913719), (805, 0.01192435684583375), (806, 0.0), (807, 0.0), (808, 0.019226383218631255), (809, 0.012415487161930836), (810, 0.005450080943338649), (811, 0.057589620121459864), (812, 0.020618624034200093), (813, 0.0), (814, 0.016410750523085223), (815, 0.08415312730686261), (816, 0.0), (817, 0.0), (818, 0.0), (819, 0.0), (820, 0.0), (821, 0.013292548104913371), (822, 0.016043154606343847), (823, 0.01841425134047638), (824, 0.0), (825, 0.011729000748633218), (826, 0.029231580476118596), (827, 0.011472687839860968), (828, 0.0), (829, 0.01981545766400989), (830, 0.0), (831, 0.004118127252893152), (832, 0.005931297753474301), (833, 0.0), (834, 0.0), (835, 0.0), (836, 0.0), (837, 0.009912483254006203), (838, 0.014855030878475515), (839, 0.0), (840, 0.015466963817604061), (841, 0.0), (842, 0.032534337663801434), (843, 0.010604463165001245), (844, 0.0), (845, 0.012660688780794287), (846, 0.0), (847, 0.0), (848, 0.006313247626245398), (849, 0.020334069575617217), (850, 0.0), (851, 0.005484007623890149), (852, 0.007895646427454384), (853, 0.03793002777139949), (854, 0.005974274337603069), (855, 0.031450724435792665), (856, 0.046638018581640114), (857, 0.0), (858, 0.010625787850482134), (859, 0.012189156000857206), (860, 0.006758797407175458), (861, 0.01878023845477958), (862, 0.013710016839221685), (863, 0.005332206192859885), (864, 0.02193830488019308), (865, 0.016403681867438506), (866, 0.011242554122946436), (867, 0.015744636067876933), (868, 0.02320078718359293), (869, 0.0064183674100800414), (870, 0.021325197355270553), (871, 0.008480908183946397), (872, 0.061843708869546474), (873, 0.0), (874, 0.0), (875, 0.022332327079348152), (876, 0.0314396019603534), (877, 0.022103537249945755), (878, 0.011422387602030133), (879, 0.02873668110340444), (880, 0.02149578096626544), (881, 0.0), (882, 0.007316699615134903), (883, 0.04147899738300046), (884, 0.02258831936370693), (885, 0.0), (886, 0.0), (887, 0.0), (888, 0.006465159111490547), (889, 0.0), (890, 0.0), (891, 0.03570890390166986), (892, 0.0), (893, 0.005260119152864853), (894, 0.0), (895, 0.014883774045432417), (896, 0.02045941865535842), (897, 0.016097056694910565), (898, 0.005254952986831871), (899, 0.0), (900, 0.005454133386339361), (901, 0.0), (902, 0.043241466297417756), (903, 0.028177615470923918), (904, 0.01423577508868205), (905, 0.032194151230025406), (906, 0.028512692973222908), (907, 0.0), (908, 0.006395177612303744), (909, 0.008342445769600956), (910, 0.005339872670967124), (911, 0.03149340721243012), (912, 0.03826630467293646), (913, 0.07744813018744195), (914, 0.02618600457658376), (915, 0.019579485280359778), (916, 0.005405205101290149), (917, 0.0), (918, 0.04362376527065145), (919, 0.046886427607148534), (920, 0.007577374845343728), (921, 0.02764266098073115), (922, 0.014467376681495331), (923, 0.005617687319856037), (924, 0.013915460292359318), (925, 0.0), (926, 0.006437797589221405), (927, 0.0057219411500251), (928, 0.012620110516981347), (929, 0.004515759979994442), (930, 0.006191634202165408), (931, 0.027261939221220312), (932, 0.04927890227969134), (933, 0.0), (934, 0.011752249555233973), (935, 0.027626106290182494), (936, 0.03588053124791012), (937, 0.006815302562561592), (938, 0.031788038174756846), (939, 0.0), (940, 0.0), (941, 0.0), (942, 0.004742353072490378), (943, 0.0), (944, 0.04771050344777888), (945, 0.014696426111400396), (946, 0.0144433714433096), (947, 0.016313178259737878), (948, 0.024118531549987138), (949, 0.015338113907923973), (950, 0.0), (951, 0.006967990783903171), (952, 0.02987816381211698), (953, 0.004696789980760008), (954, 0.037537838939117045), (955, 0.0), (956, 0.03968908330414575), (957, 0.01437002117720809), (958, 0.0), (959, 0.0), (960, 0.0), (961, 0.0), (962, 0.0), (963, 0.04662120622445863), (964, 0.0), (965, 0.03588283863323538), (966, 0.028562667476109443), (967, 0.006440391789246071), (968, 0.005284188725654247), (969, 0.0), (970, 0.004928565840440017), (971, 0.01327294658890969), (972, 0.012236702573810739), (973, 0.050217226410528906), (974, 0.0316452898473841), (975, 0.014732524509915629), (976, 0.006148392447856669), (977, 0.05079611239280267), (978, 0.0), (979, 0.036313793023333575), (980, 0.02819538615419986), (981, 0.030519116531060084), (982, 0.0), (983, 0.0), (984, 0.015196046036141646), (985, 0.0), (986, 0.01208418503287412), (987, 0.0), (988, 0.018602131921004655), (989, 0.005737580623477569), (990, 0.039176677171363625), (991, 0.006261718788898447), (992, 0.06567243353609778), (993, 0.0), (994, 0.006361695036577852), (995, 0.026926952322925368), (996, 0.017064951800134537), (997, 0.03048823970137805), (998, 0.0), (999, 0.0), (1000, 0.010877297890164797), (1001, 0.019392722763116068), (1002, 0.0), (1003, 0.028251766357034226), (1004, 0.0), (1005, 0.004784832624255225), (1006, 0.016690381222957427), (1007, 0.0601232237376847), (1008, 0.0), (1009, 0.0051749559380538605), (1010, 0.005294668735286047), (1011, 0.05033999331575849), (1012, 0.020156917250890506), (1013, 0.03176280683707686), (1014, 0.03251662673165427), (1015, 0.03625666758549639), (1016, 0.0074141532763816725), (1017, 0.011754561403560388), (1018, 0.005086874075494155), (1019, 0.0), (1020, 0.0), (1021, 0.0), (1022, 0.02992286753801953), (1023, 0.0070366964419201405), (1024, 0.012595681715176025), (1025, 0.06690766346987127), (1026, 0.0), (1027, 0.03369145832472748), (1028, 0.015531877941231571), (1029, 0.0), (1030, 0.00564667167197664), (1031, 0.029840724495723153), (1032, 0.0), (1033, 0.0), (1034, 0.0), (1035, 0.011748454461283364), (1036, 0.0), (1037, 0.0), (1038, 0.0), (1039, 0.04086263672171689), (1040, 0.0), (1041, 0.020471514141431616), (1042, 0.0), (1043, 0.017457986790196566), (1044, 0.011715149217778737), (1045, 0.014882786811171438), (1046, 0.023838464712946057), (1047, 0.006077724355042994), (1048, 0.016601232644598146), (1049, 0.0), (1050, 0.00703185087388049), (1051, 0.010094669674602569), (1052, 0.0), (1053, 0.0), (1054, 0.01141939762820467), (1055, 0.06095324965933107), (1056, 0.030536483319372566), (1057, 0.030115321761673048), (1058, 0.007149947394025644), (1059, 0.0), (1060, 0.015183826313617298), (1061, 0.019633897786791785), (1062, 0.0), (1063, 0.01965975796568889), (1064, 0.007067353878968117), (1065, 0.011053327704673136), (1066, 0.025849151972110622), (1067, 0.00787242688107784), (1068, 0.03187387355689283), (1069, 0.06438593983348756), (1070, 0.0), (1071, 0.00622512846618704), (1072, 0.0), (1073, 0.020390385064929243), (1074, 0.03400382388812361), (1075, 0.0), (1076, 0.006034298706996109), (1077, 0.01317371809075683), (1078, 0.0), (1079, 0.007590393828196107), (1080, 0.0), (1081, 0.0), (1082, 0.05461667203410174), (1083, 0.057356669960490395), (1084, 0.0), (1085, 0.008414657786203797), (1086, 0.020032099765307582), (1087, 0.008391522181355998), (1088, 0.0), (1089, 0.0), (1090, 0.021047815987847128), (1091, 0.03976267156023508), (1092, 0.01007990217022389), (1093, 0.0), (1094, 0.015634255092066927), (1095, 0.03889022986908819), (1096, 0.006090144064711094), (1097, 0.021385598272868254), (1098, 0.0), (1099, 0.021575965966634143), (1100, 0.0), (1101, 0.022164709215942557), (1102, 0.060772898581208705), (1103, 0.01695820826416933), (1104, 0.006139918592025769), (1105, 0.0), (1106, 0.0), (1107, 0.005427433829020866), (1108, 0.03705906913318803), (1109, 0.031749044439357596), (1110, 0.0), (1111, 0.037115254147887314), (1112, 0.0), (1113, 0.014011358135642093), (1114, 0.04890863588852591), (1115, 0.01634961400813603), (1116, 0.01667199910128578), (1117, 0.012387659764189847), (1118, 0.02032064299384153), (1119, 0.006228117889332498), (1120, 0.023564663835657824), (1121, 0.020014868769146123), (1122, 0.006373267270238409), (1123, 0.005544001302633797), (1124, 0.0), (1125, 0.026413273563467295), (1126, 0.008150552072017932), (1127, 0.011902900470221306), (1128, 0.0), (1129, 0.0339124949987454), (1130, 0.0), (1131, 0.021783507488832867), (1132, 0.02592668831719709), (1133, 0.0), (1134, 0.05756729090230961), (1135, 0.013468642210920468), (1136, 0.0), (1137, 0.04573637662304458), (1138, 0.012233335678881515), (1139, 0.0), (1140, 0.029594473970379252), (1141, 0.012923897003189237), (1142, 0.0), (1143, 0.0), (1144, 0.0), (1145, 0.0), (1146, 0.02672483650750916), (1147, 0.0), (1148, 0.02114561260231572), (1149, 0.0), (1150, 0.04546654739032443), (1151, 0.03641909108333186), (1152, 0.019883876932700495), (1153, 0.008479167333180193), (1154, 0.03993410797913753), (1155, 0.0), (1156, 0.0), (1157, 0.02931617867551634), (1158, 0.006517314899501859), (1159, 0.0), (1160, 0.0), (1161, 0.0), (1162, 0.02726206590567308), (1163, 0.0), (1164, 0.027564684322151856), (1165, 0.00854999444621529), (1166, 0.016041777944683356), (1167, 0.00639083422373452), (1168, 0.0), (1169, 0.0), (1170, 0.0), (1171, 0.01975289980230866), (1172, 0.022262606292630882), (1173, 0.018413746941910804), (1174, 0.0345583217109499), (1175, 0.024212090139172762), (1176, 0.0), (1177, 0.005495072933215386), (1178, 0.0), (1179, 0.047827531253567646), (1180, 0.0), (1181, 0.03137042835076859), (1182, 0.0), (1183, 0.011225100330705692), (1184, 0.006654907827263744), (1185, 0.021437051426998865), (1186, 0.0), (1187, 0.0), (1188, 0.028910701597714437), (1189, 0.0), (1190, 0.0), (1191, 0.005856398898697791), (1192, 0.022849810756462204), (1193, 0.0), (1194, 0.0072116017483448485), (1195, 0.031159771404977873), (1196, 0.0), (1197, 0.05222817566771583), (1198, 0.020934778555851817), (1199, 0.0), (1200, 0.0), (1201, 0.0), (1202, 0.034833908125667196), (1203, 0.0), (1204, 0.0), (1205, 0.03692277355194182), (1206, 0.01543205053071779), (1207, 0.01943887733114274), (1208, 0.0), (1209, 0.0), (1210, 0.034783039634873676), (1211, 0.04076196155477335), (1212, 0.02421249689995013), (1213, 0.0), (1214, 0.005249146624735725), (1215, 0.02852075716598071), (1216, 0.0), (1217, 0.0), (1218, 0.0), (1219, 0.007404765767823886), (1220, 0.02486067542945472), (1221, 0.0068622409853701), (1222, 0.013192650210303716), (1223, 0.005855955520010998), (1224, 0.006089296651343557), (1225, 0.021465438683650983), (1226, 0.011971659346711766), (1227, 0.02142561793128749), (1228, 0.008857485314247224), (1229, 0.03955012508928711), (1230, 0.13461617800237272), (1231, 0.007909484188544081), (1232, 0.021737088842340747), (1233, 0.022847942258533448), (1234, 0.022990531745234265), (1235, 0.0), (1236, 0.005305060267825631), (1237, 0.005295312722337591), (1238, 0.0294989841470191), (1239, 0.047691360660969004), (1240, 0.016085605685436963), (1241, 0.0051462245732759255), (1242, 0.0075509030197572395), (1243, 0.0), (1244, 0.028271992605912163), (1245, 0.03662328061208908), (1246, 0.0), (1247, 0.0), (1248, 0.005604653344251796), (1249, 0.03275543560220279), (1250, 0.02222557857278882), (1251, 0.027851722409772874), (1252, 0.011981710444202324), (1253, 0.021690339066456867), (1254, 0.047133109050242), (1255, 0.02049545478073425), (1256, 0.03276440317184191), (1257, 0.011916958042012808), (1258, 0.017558197654700913), (1259, 0.011053402658372584), (1260, 0.0), (1261, 0.034113101431318626), (1262, 0.04204141132327547), (1263, 0.041418419882117724), (1264, 0.0), (1265, 0.03050387128293926), (1266, 0.029179830171629145), (1267, 0.0), (1268, 0.0), (1269, 0.05793784609979541), (1270, 0.0053478364212803265), (1271, 0.0), (1272, 0.013880360738353381), (1273, 0.013813330042533649), (1274, 0.005945043878730778), (1275, 0.021609831160239405), (1276, 0.032496504089455626), (1277, 0.0), (1278, 0.01190891528468553), (1279, 0.004911354294842273), (1280, 0.044887270479160135), (1281, 0.040892680630571235), (1282, 0.0), (1283, 0.02410396440082053), (1284, 0.0), (1285, 0.026870369272865763), (1286, 0.0), (1287, 0.00795244175099998), (1288, 0.021828848828164406), (1289, 0.0), (1290, 0.005545944574967146), (1291, 0.011944637278887534), (1292, 0.01189234805222112), (1293, 0.013950557552204389), (1294, 0.022017241703464162), (1295, 0.03436113436578346), (1296, 0.14541303850794848), (1297, 0.02146534192886248), (1298, 0.0), (1299, 0.016770263472925786), (1300, 0.023067901776936434), (1301, 0.026429107589215326), (1302, 0.03428583337779234), (1303, 0.004703220690907846), (1304, 0.021718265833074245), (1305, 0.03903063150246634), (1306, 0.0), (1307, 0.007767587756328945), (1308, 0.03932249171570278), (1309, 0.017414446021782735), (1310, 0.01309970999883538), (1311, 0.0), (1312, 0.0), (1313, 0.0), (1314, 0.04029698931086082), (1315, 0.035328360666708594), (1316, 0.0), (1317, 0.0), (1318, 0.0), (1319, 0.0), (1320, 0.004914128893257099), (1321, 0.01670420152464167), (1322, 0.0162626603636533), (1323, 0.018653936540638173), (1324, 0.015482266732430295), (1325, 0.006322705855529899), (1326, 0.011848335118858942), (1327, 0.0339868076110727), (1328, 0.015305663312932415), (1329, 0.015764908465784665), (1330, 0.0), (1331, 0.0), (1332, 0.01347412543214663), (1333, 0.025584188960916847), (1334, 0.013237425329509011), (1335, 0.012213832340769601), (1336, 0.0), (1337, 0.012341404812113623), (1338, 0.006157019981073164), (1339, 0.0), (1340, 0.0), (1341, 0.029809757897542963), (1342, 0.028677641557845572), (1343, 0.006934529563734995), (1344, 0.0), (1345, 0.03736533497732334), (1346, 0.014597016079617005), (1347, 0.02635048450936778), (1348, 0.010533953071571683), (1349, 0.0), (1350, 0.014137998445258447), (1351, 0.031724626384705384), (1352, 0.012328825629827442), (1353, 0.0), (1354, 0.03350520408262018), (1355, 0.013205154791379648), (1356, 0.004937314681656845), (1357, 0.005768907026931277), (1358, 0.0357958097805714), (1359, 0.0), (1360, 0.005309085735803277), (1361, 0.022150714059114313), (1362, 0.0), (1363, 0.012237912207704987), (1364, 0.013389634511796939), (1365, 0.0265784911265367), (1366, 0.013092353612369543), (1367, 0.013341051563109356), (1368, 0.01400377598597406), (1369, 0.009898101951901411), (1370, 0.0), (1371, 0.0), (1372, 0.0), (1373, 0.007996534791891285), (1374, 0.022784630742970904), (1375, 0.005544320693732844), (1376, 0.0), (1377, 0.053020539442325654), (1378, 0.0), (1379, 0.02375697679567315), (1380, 0.021459135372398297), (1381, 0.04837391079736614), (1382, 0.0), (1383, 0.02114116175679348), (1384, 0.03522671997411056), (1385, 0.020373081298319582), (1386, 0.014755884491539806), (1387, 0.027309220272205566), (1388, 0.00829001516867462), (1389, 0.008691792169628579), (1390, 0.0), (1391, 0.006507978124108987), (1392, 0.0), (1393, 0.006573086549392944), (1394, 0.0), (1395, 0.004695553998600168), (1396, 0.06678846827101512), (1397, 0.007137833050593715), (1398, 0.03172925778382826), (1399, 0.0), (1400, 0.0061490421789710415), (1401, 0.008715896909619162), (1402, 0.0), (1403, 0.0), (1404, 0.0), (1405, 0.0), (1406, 0.011819358926031314), (1407, 0.006199169845552789), (1408, 0.03163684027403545), (1409, 0.0), (1410, 0.0), (1411, 0.021454163702925372), (1412, 0.034572882217819303), (1413, 0.034404103885029846), (1414, 0.019243716327987805), (1415, 0.0), (1416, 0.0), (1417, 0.009440058660139127), (1418, 0.011156445352710587), (1419, 0.012107826576259889), (1420, 0.005809647884883466), (1421, 0.005623589925308526), (1422, 0.0), (1423, 0.01417816859871121), (1424, 0.0), (1425, 0.0), (1426, 0.006180276481527975), (1427, 0.0), (1428, 0.005529695866386855), (1429, 0.007012764868016142), (1430, 0.020057301251414486), (1431, 0.005973301466671758), (1432, 0.012597119436283373), (1433, 0.02571430879914497), (1434, 0.0), (1435, 0.005963857674512256), (1436, 0.044221871704730666), (1437, 0.01644644384065698), (1438, 0.0), (1439, 0.0), (1440, 0.014738162172714363), (1441, 0.0), (1442, 0.01197264687458413), (1443, 0.034604875109136096), (1444, 0.0), (1445, 0.0), (1446, 0.0), (1447, 0.012718899943702264), (1448, 0.005390096480364524), (1449, 0.006141149255833768), (1450, 0.0), (1451, 0.005479383840449847), (1452, 0.006165824940816456), (1453, 0.012662236356508188), (1454, 0.013283040560089766), (1455, 0.028034868288151604), (1456, 0.0), (1457, 0.0), (1458, 0.017221578511221174), (1459, 0.014286551106935212), (1460, 0.016067876812430028), (1461, 0.0), (1462, 0.005350509081081849), (1463, 0.0), (1464, 0.0), (1465, 0.013643920266890831), (1466, 0.05799410525625696), (1467, 0.032223958336507444), (1468, 0.051204641997097615), (1469, 0.03509440173336964), (1470, 0.028370546868544164), (1471, 0.00896800432375112), (1472, 0.021821476677310242), (1473, 0.021990778559619544), (1474, 0.009205040681689682), (1475, 0.025258956393955437), (1476, 0.016185389983062532), (1477, 0.020113220110465065), (1478, 0.0691387773360857), (1479, 0.0), (1480, 0.005422020241473913), (1481, 0.005645924722797936), (1482, 0.0), (1483, 0.01199961585175265), (1484, 0.01279241087543773), (1485, 0.0), (1486, 0.030909058401961613), (1487, 0.0), (1488, 0.027613698330958864), (1489, 0.006554776172634979), (1490, 0.007886418700221108), (1491, 0.0), (1492, 0.0), (1493, 0.021025802544959598), (1494, 0.0), (1495, 0.024408356107864723), (1496, 0.01211735980809618), (1497, 0.018232415475247832), (1498, 0.03704358556708809), (1499, 0.0), (1500, 0.012740936590839873), (1501, 0.0), (1502, 0.03579854780501797), (1503, 0.007483702111309724), (1504, 0.006200068180811399), (1505, 0.021869401158959374), (1506, 0.003994783444709513), (1507, 0.0), (1508, 0.01269916965755088), (1509, 0.018636831581841352), (1510, 0.025226732453904985), (1511, 0.023886523184199735), (1512, 0.006300800158403336), (1513, 0.0065210838317787375), (1514, 0.0076388800416826), (1515, 0.036557037696300525), (1516, 0.006446960870037776), (1517, 0.0), (1518, 0.0), (1519, 0.03797583929904643), (1520, 0.0), (1521, 0.00712876168005319), (1522, 0.014656477902131123), (1523, 0.0), (1524, 0.0), (1525, 0.0), (1526, 0.015038677220454771), (1527, 0.006126510064139997), (1528, 0.0), (1529, 0.015072006742873026), (1530, 0.03452155539512524), (1531, 0.019788331481223175), (1532, 0.0), (1533, 0.0), (1534, 0.0), (1535, 0.06139600894676695), (1536, 0.02918554944087498), (1537, 0.012947585356819294), (1538, 0.01450085746053251), (1539, 0.0), (1540, 0.007312775215252471), (1541, 0.0), (1542, 0.006039602283071701), (1543, 0.0), (1544, 0.006009269472683557), (1545, 0.07800143296705238), (1546, 0.029163150645985812), (1547, 0.016904444432683845), (1548, 0.007923984465341793), (1549, 0.0), (1550, 0.0), (1551, 0.0057332894636161775), (1552, 0.029151165484256912), (1553, 0.0), (1554, 0.04641140990016371), (1555, 0.03764617900708567), (1556, 0.0), (1557, 0.0), (1558, 0.0), (1559, 0.061019021938282125), (1560, 0.007054283373205622), (1561, 0.0), (1562, 0.01997993366958771), (1563, 0.0), (1564, 0.006411312685868903), (1565, 0.0), (1566, 0.07744945664987907), (1567, 0.013147597447473198), (1568, 0.005323314948363793), (1569, 0.02826002158998079), (1570, 0.015264076977062939), (1571, 0.0), (1572, 0.03218883087496695), (1573, 0.005746803951980252), (1574, 0.0), (1575, 0.04669947012058602), (1576, 0.00968651068739004), (1577, 0.014640801178291255), (1578, 0.0), (1579, 0.03414002583537961), (1580, 0.014229159846651147), (1581, 0.00624180738936457), (1582, 0.0), (1583, 0.0), (1584, 0.019914463855116957), (1585, 0.026391043735300965), (1586, 0.0), (1587, 0.07052269282357243), (1588, 0.022538469970485617), (1589, 0.0), (1590, 0.10762844148232463), (1591, 0.014005971237941848), (1592, 0.03522537082093734), (1593, 0.0), (1594, 0.0), (1595, 0.005279046385896543), (1596, 0.0), (1597, 0.0), (1598, 0.0081479663405497), (1599, 0.019394068767309383), (1600, 0.017813191621264424), (1601, 0.0073265492923079096), (1602, 0.0), (1603, 0.01523143229964682), (1604, 0.014390363599569595), (1605, 0.0), (1606, 0.0), (1607, 0.008038091798456394), (1608, 0.024397074380359273), (1609, 0.0), (1610, 0.0), (1611, 0.014667850620453558), (1612, 0.0), (1613, 0.022681934827213885), (1614, 0.006240453828778705), (1615, 0.009774601877458426), (1616, 0.02807834566938855), (1617, 0.0), (1618, 0.0), (1619, 0.0), (1620, 0.0), (1621, 0.005750687341620213), (1622, 0.005734229517387136), (1623, 0.005401731733102457), (1624, 0.0), (1625, 0.031682444625307525), (1626, 0.014259616011974995), (1627, 0.010337547646008513), (1628, 0.0), (1629, 0.006021502746774121), (1630, 0.0055350126786019626), (1631, 0.005534458218364504), (1632, 0.005592981025338134), (1633, 0.00557391271884571), (1634, 0.0), (1635, 0.005720886961391536), (1636, 0.0), (1637, 0.0), (1638, 0.021626845265264615), (1639, 0.0), (1640, 0.049618950842032626), (1641, 0.040266211406486396), (1642, 0.0), (1643, 0.006124227269636126), (1644, 0.012880438779097201), (1645, 0.03508764085993692), (1646, 0.0), (1647, 0.020523012676115514), (1648, 0.0), (1649, 0.03384923632119386), (1650, 0.027265009162629167), (1651, 0.05609164234154438), (1652, 0.0), (1653, 0.033057940915941546), (1654, 0.015249241398241613), (1655, 0.03511872434451456), (1656, 0.0), (1657, 0.02534824946302158), (1658, 0.0), (1659, 0.01289017773341914), (1660, 0.0), (1661, 0.006281761211261982), (1662, 0.03777902508833239), (1663, 0.0), (1664, 0.028469958409090782), (1665, 0.011323171675557438), (1666, 0.015519194271745518), (1667, 0.005376098050921549), (1668, 0.0), (1669, 0.015866282258192685), (1670, 0.0), (1671, 0.005647715587308633), (1672, 0.03956896404121962), (1673, 0.019966614665936716), (1674, 0.0), (1675, 0.043576781445909735), (1676, 0.0), (1677, 0.06508643429952905), (1678, 0.027908609226825105), (1679, 0.0), (1680, 0.010983197884622209), (1681, 0.013277042658543785), (1682, 0.0), (1683, 0.0), (1684, 0.0), (1685, 0.0), (1686, 0.008438548575148613), (1687, 0.012822255937647978), (1688, 0.032580902000564495), (1689, 0.0), (1690, 0.014393424701068884), (1691, 0.0), (1692, 0.12157555623405829), (1693, 0.02038482883786031), (1694, 0.005179253196232879), (1695, 0.012737766901087872), (1696, 0.06433958570752045), (1697, 0.016992381383331517), (1698, 0.0), (1699, 0.005047012980586914), (1700, 0.08421409403106601), (1701, 0.03200803932233805), (1702, 0.0), (1703, 0.03899275986579818), (1704, 0.0), (1705, 0.015542201198357124), (1706, 0.024450312588648913), (1707, 0.0), (1708, 0.006723576325515226), (1709, 0.023825679062849592), (1710, 0.0), (1711, 0.0), (1712, 0.0), (1713, 0.02310514516080795), (1714, 0.005723393563792819), (1715, 0.0), (1716, 0.03099767138112332), (1717, 0.01645306482010654), (1718, 0.0), (1719, 0.0), (1720, 0.0), (1721, 0.005857800838905857), (1722, 0.0), (1723, 0.00547613915557616), (1724, 0.006280972486451723), (1725, 0.026523125512450445), (1726, 0.0), (1727, 0.006508712039338933), (1728, 0.004835781727836072), (1729, 0.011744737652195332), (1730, 0.0), (1731, 0.00884932391420567), (1732, 0.012925333499642071), (1733, 0.0), (1734, 0.02304908540422023), (1735, 0.03480183128408999), (1736, 0.006553364291587873), (1737, 0.0), (1738, 0.007835810960163439), (1739, 0.0052450910786378865), (1740, 0.034215015539850874), (1741, 0.0), (1742, 0.0), (1743, 0.05698409358950319), (1744, 0.0), (1745, 0.031087416089138217), (1746, 0.0), (1747, 0.0), (1748, 0.0), (1749, 0.011342586535862013), (1750, 0.019488093477870453), (1751, 0.006333594939090113), (1752, 0.0), (1753, 0.005014199804682052), (1754, 0.0), (1755, 0.007854465284568804), (1756, 0.020563448877260533), (1757, 0.015737602826042047), (1758, 0.009544647567165113), (1759, 0.0), (1760, 0.04904379530488535), (1761, 0.019138889506984648), (1762, 0.014251834470621371), (1763, 0.0), (1764, 0.023758543875202168), (1765, 0.022182246298675656), (1766, 0.0), (1767, 0.0), (1768, 0.0), (1769, 0.016143906417309378), (1770, 0.006731193141367686), (1771, 0.0279146952428216), (1772, 0.03657951925220481), (1773, 0.005715328736093591), (1774, 0.01647014366017274), (1775, 0.0), (1776, 0.0), (1777, 0.013247760536219505), (1778, 0.0), (1779, 0.02296556883854292), (1780, 0.0), (1781, 0.021261763285693677), (1782, 0.0342274395580307), (1783, 0.020517847490717774), (1784, 0.005296994584943189), (1785, 0.015116795698582394), (1786, 0.0), (1787, 0.01513099209536069), (1788, 0.026895302493398734), (1789, 0.0769172902250686), (1790, 0.0), (1791, 0.05950770227746396), (1792, 0.0), (1793, 0.020101887572340587), (1794, 0.0), (1795, 0.0), (1796, 0.011034119609549534), (1797, 0.012724442183957779), (1798, 0.024442455178239744), (1799, 0.06537478288386596), (1800, 0.0), (1801, 0.0), (1802, 0.030935273692901152), (1803, 0.0), (1804, 0.0), (1805, 0.011879171679722975), (1806, 0.0), (1807, 0.0), (1808, 0.0), (1809, 0.05023126998496372), (1810, 0.04106762905221385), (1811, 0.021397225978415955), (1812, 0.021736023727042544), (1813, 0.015278506421426825), (1814, 0.0), (1815, 0.013999197367056158), (1816, 0.0), (1817, 0.005235022010092494), (1818, 0.020845191537249366), (1819, 0.017448126445047146), (1820, 0.014634975902390315), (1821, 0.0), (1822, 0.09623259601024195), (1823, 0.005791926927828034), (1824, 0.012121103729319288), (1825, 0.0), (1826, 0.0), (1827, 0.01444640769986586), (1828, 0.03255978521175369), (1829, 0.006349670054420196), (1830, 0.0), (1831, 0.0), (1832, 0.0059577059432736465), (1833, 0.02054352272937382), (1834, 0.0), (1835, 0.0), (1836, 0.02421167766596596), (1837, 0.0), (1838, 0.005027129517741868), (1839, 0.0), (1840, 0.0053075364046793775), (1841, 0.015095767658361766), (1842, 0.026893607743371458), (1843, 0.0), (1844, 0.009062052980989825), (1845, 0.03175084024439217), (1846, 0.03238331310282977), (1847, 0.022957500276770945), (1848, 0.0), (1849, 0.0), (1850, 0.020898748036696235), (1851, 0.013424802997091497), (1852, 0.018468657110875454), (1853, 0.012800717931365554), (1854, 0.0), (1855, 0.0077203752260242104), (1856, 0.0), (1857, 0.01843739079360568), (1858, 0.0), (1859, 0.006151050099762654), (1860, 0.057958613054970534), (1861, 0.026706714454206623), (1862, 0.0), (1863, 0.0), (1864, 0.026584367854620244), (1865, 0.0052920119350617694), (1866, 0.006369615651854645), (1867, 0.0), (1868, 0.0), (1869, 0.014464269322176081), (1870, 0.005595079504228205), (1871, 0.03814559764184614), (1872, 0.0), (1873, 0.005839166397244257), (1874, 0.0), (1875, 0.01993723213678215), (1876, 0.012162889272201282), (1877, 0.0), (1878, 0.0), (1879, 0.0), (1880, 0.012572368936914026), (1881, 0.012648970747658396), (1882, 0.0), (1883, 0.006805025502929676), (1884, 0.0), (1885, 0.0), (1886, 0.011536119561103671), (1887, 0.0), (1888, 0.0), (1889, 0.021471539359001913), (1890, 0.0), (1891, 0.01583694488680196), (1892, 0.005296987671182413), (1893, 0.02262114343488876), (1894, 0.01572801825273166), (1895, 0.03387639537437291), (1896, 0.023032278623818125), (1897, 0.023646225570862264), (1898, 0.013571513959470278), (1899, 0.014671020219738987), (1900, 0.011232374393985285), (1901, 0.020853355600808594), (1902, 0.022923471662148087), (1903, 0.06212709889734652), (1904, 0.04457949904806413), (1905, 0.0), (1906, 0.0), (1907, 0.0), (1908, 0.030220110470883216), (1909, 0.014636310395246294), (1910, 0.004928050366630645), (1911, 0.031216805363966486), (1912, 0.007902535683034189), (1913, 0.0), (1914, 0.020272638976216596), (1915, 0.0), (1916, 0.0), (1917, 0.0), (1918, 0.006161692990588623), (1919, 0.0), (1920, 0.01477121739955987), (1921, 0.0), (1922, 0.0), (1923, 0.0), (1924, 0.006664315920054043), (1925, 0.02412837557219489), (1926, 0.008770739286675249), (1927, 0.005746742218070225), (1928, 0.0), (1929, 0.0), (1930, 0.027844661608871956), (1931, 0.03686845425305234), (1932, 0.025159549652575355), (1933, 0.005686156137484133), (1934, 0.05110413317995481), (1935, 0.014501058837873263), (1936, 0.014834031445332817), (1937, 0.011878854859066321), (1938, 0.0), (1939, 0.027003448647226105), (1940, 0.031884643233203155), (1941, 0.014474356350655727), (1942, 0.022188311665332076), (1943, 0.0), (1944, 0.0), (1945, 0.014624275016666018), (1946, 0.0), (1947, 0.0), (1948, 0.035670905148378604), (1949, 0.012537492633446536), (1950, 0.013049101520958376), (1951, 0.0), (1952, 0.006281565383583893), (1953, 0.00566793039489802), (1954, 0.0), (1955, 0.0086700810018264), (1956, 0.0), (1957, 0.01322113491679725), (1958, 0.005954267709929291), (1959, 0.0), (1960, 0.006458682717257062), (1961, 0.008503209785293266), (1962, 0.006498518031035837), (1963, 0.0), (1964, 0.019498977750774523), (1965, 0.008621537002333373), (1966, 0.033718882389233415), (1967, 0.005666973232226343), (1968, 0.014202118176818638), (1969, 0.015187297396864866), (1970, 0.005943449317860682), (1971, 0.02860363828803116), (1972, 0.0), (1973, 0.005888896324415646), (1974, 0.014381980031450501), (1975, 0.006144297399044143), (1976, 0.037869463520828366), (1977, 0.01979748875767777), (1978, 0.0), (1979, 0.0), (1980, 0.0), (1981, 0.018131129622545462), (1982, 0.03326751862053522), (1983, 0.006075377897159792), (1984, 0.02004234422198647), (1985, 0.012220051453503862), (1986, 0.0), (1987, 0.013322950934320314), (1988, 0.01221979010333159), (1989, 0.011314867766948917), (1990, 0.00531455325456653), (1991, 0.1141675640943994), (1992, 0.020152075197877723), (1993, 0.020595177073234314), (1994, 0.0), (1995, 0.0), (1996, 0.005605036706260948), (1997, 0.006337781561871661), (1998, 0.0059037793948165), (1999, 0.009323806548524558), (2000, 0.012540869431524613), (2001, 0.0), (2002, 0.0), (2003, 0.0), (2004, 0.012119658093950055), (2005, 0.0), (2006, 0.007039234200252717), (2007, 0.0), (2008, 0.005672941553679116), (2009, 0.0), (2010, 0.011461993082739447), (2011, 0.0), (2012, 0.013907689709579969), (2013, 0.038111672305048465), (2014, 0.014435677899633646), (2015, 0.02124672942701637), (2016, 0.03140474766019442), (2017, 0.02215721700809297), (2018, 0.017786473563045347), (2019, 0.008197460459523822), (2020, 0.005339759950022187), (2021, 0.037156016767872516), (2022, 0.03293406635930633), (2023, 0.0), (2024, 0.011580597784408737), (2025, 0.005163982344745679), (2026, 0.02169379281427472), (2027, 0.0), (2028, 0.00670429072488182), (2029, 0.0), (2030, 0.0), (2031, 0.005263946994094885), (2032, 0.0), (2033, 0.050205042133607665), (2034, 0.011957774860047909), (2035, 0.0), (2036, 0.011738428614406911), (2037, 0.020410156411129237), (2038, 0.04059908656914458), (2039, 0.0), (2040, 0.027606326964112124), (2041, 0.0), (2042, 0.0), (2043, 0.011677107536525415), (2044, 0.035627216241607904), (2045, 0.0206787273331489), (2046, 0.0), (2047, 0.0), (2048, 0.008495548524558022), (2049, 0.0), (2050, 0.03517213914834526), (2051, 0.01815080575841439), (2052, 0.0058380814821425205), (2053, 0.006022511276868028), (2054, 0.0), (2055, 0.02811626985846377), (2056, 0.0), (2057, 0.005657167247109974), (2058, 0.02532752823241202), (2059, 0.0), (2060, 0.03115499879356645), (2061, 0.04739603007843673), (2062, 0.026763149007064144), (2063, 0.0), (2064, 0.0), (2065, 0.013039763532686297), (2066, 0.022889930545885128), (2067, 0.03644294568334125), (2068, 0.08067678741624758), (2069, 0.005731406545798471), (2070, 0.00498956980514256), (2071, 0.0), (2072, 0.022497201402346664), (2073, 0.0), (2074, 0.0051498019001561274), (2075, 0.026661317629326005), (2076, 0.0), (2077, 0.00763447359163546), (2078, 0.026960662912865193), (2079, 0.0), (2080, 0.0), (2081, 0.006266645298978924), (2082, 0.006791221724365192), (2083, 0.006551207594239133), (2084, 0.006295473641006664), (2085, 0.006522164988762667), (2086, 0.023224903168284676), (2087, 0.0), (2088, 0.049584772180058835), (2089, 0.0323659420921602), (2090, 0.022758562370294465), (2091, 0.034371531494096906), (2092, 0.0), (2093, 0.018818453449375803), (2094, 0.011443977648737395), (2095, 0.015943118494546465), (2096, 0.0062176390494139335), (2097, 0.023339018366281383), (2098, 0.0), (2099, 0.1823391524943373), (2100, 0.007936984281060037), (2101, 0.0), (2102, 0.015617868399185653), (2103, 0.014132767787902314), (2104, 0.00622988030466837), (2105, 0.0), (2106, 0.0), (2107, 0.0), (2108, 0.0), (2109, 0.015863634530206762), (2110, 0.005352213056438951), (2111, 0.0), (2112, 0.0064384376579630235), (2113, 0.004898679096724302), (2114, 0.02362847471838399), (2115, 0.0), (2116, 0.017242145583254802), (2117, 0.026291188050152788), (2118, 0.00978755796472073), (2119, 0.0054114314303306), (2120, 0.0), (2121, 0.005553479993737966), (2122, 0.0), (2123, 0.03900805913635915), (2124, 0.030538464519445092), (2125, 0.033218139263695545), (2126, 0.05531236681950529), (2127, 0.012184496121555692), (2128, 0.0), (2129, 0.0), (2130, 0.014240265056469484), (2131, 0.015346758383286857), (2132, 0.0), (2133, 0.0), (2134, 0.0), (2135, 0.01979876321047622), (2136, 0.045685701856094565), (2137, 0.018276425614501986), (2138, 0.0), (2139, 0.01909683982905589), (2140, 0.0), (2141, 0.0), (2142, 0.0), (2143, 0.0), (2144, 0.016114395314571418), (2145, 0.0), (2146, 0.0), (2147, 0.0), (2148, 0.0), (2149, 0.01492671599193221), (2150, 0.014055198886121154), (2151, 0.0), (2152, 0.0), (2153, 0.014593429587921591), (2154, 0.0074719673735343705), (2155, 0.0), (2156, 0.028238682446895078), (2157, 0.0), (2158, 0.025314059397961403), (2159, 0.0), (2160, 0.0), (2161, 0.0), (2162, 0.0), (2163, 0.0), (2164, 0.016245557073718168), (2165, 0.0), (2166, 0.005895581712311343), (2167, 0.0), (2168, 0.0), (2169, 0.0), (2170, 0.03294929093739053), (2171, 0.00891698339717882), (2172, 0.008452782685135312), (2173, 0.0), (2174, 0.005782150764785639), (2175, 0.0), (2176, 0.0), (2177, 0.02584298929670709), (2178, 0.03297350757244961), (2179, 0.0), (2180, 0.05690026131747206), (2181, 0.013726919849427593), (2182, 0.007032509024547038), (2183, 0.007654141654075128), (2184, 0.005880454664273089), (2185, 0.01300247408251484), (2186, 0.0), (2187, 0.0), (2188, 0.01475903863549284), (2189, 0.0), (2190, 0.023118281983561993), (2191, 0.019558744291181186), (2192, 0.016088251394114586), (2193, 0.0), (2194, 0.0), (2195, 0.0), (2196, 0.0061687924534383305), (2197, 0.010228395200387402), (2198, 0.0165396012837697), (2199, 0.0), (2200, 0.0), (2201, 0.0), (2202, 0.0), (2203, 0.0), (2204, 0.0), (2205, 0.02627128025621441), (2206, 0.011559386519906838), (2207, 0.0), (2208, 0.02156586594019562), (2209, 0.0), (2210, 0.025406460422568472), (2211, 0.013386153164522362), (2212, 0.006246452812333119), (2213, 0.0), (2214, 0.006342516046995194), (2215, 0.0), (2216, 0.005717038147588493), (2217, 0.029382020245942567), (2218, 0.00917630172801429), (2219, 0.0), (2220, 0.0), (2221, 0.018128422865666075), (2222, 0.016255147156770042), (2223, 0.0), (2224, 0.011475531877232392), (2225, 0.0), (2226, 0.0), (2227, 0.028041767844856996), (2228, 0.0), (2229, 0.0063749227035576035), (2230, 0.05508164194805937), (2231, 0.006446281730946724), (2232, 0.05997251367991292), (2233, 0.2539421668515507), (2234, 0.016163224290051854), (2235, 0.005994184979561676), (2236, 0.025981805691127267), (2237, 0.01273589155746765), (2238, 0.006482954181080212), (2239, 0.018684791147103485), (2240, 0.07450576337157978), (2241, 0.006509632783595974), (2242, 0.0), (2243, 0.020546147660139385), (2244, 0.0), (2245, 0.0332893078997646), (2246, 0.0058224316451381), (2247, 0.0), (2248, 0.019518696668690546), (2249, 0.022117318219864828), (2250, 0.05023469724321829), (2251, 0.0), (2252, 0.006285159758348199), (2253, 0.0), (2254, 0.03724067960072881), (2255, 0.007526057399306053), (2256, 0.0), (2257, 0.0), (2258, 0.0), (2259, 0.017161425003110985), (2260, 0.0), (2261, 0.0), (2262, 0.0), (2263, 0.0), (2264, 0.0), (2265, 0.019796185201672166), (2266, 0.0), (2267, 0.0), (2268, 0.0), (2269, 0.05020080957901282), (2270, 0.013803168965716685), (2271, 0.0), (2272, 0.0), (2273, 0.006885131527800575), (2274, 0.0057599757445159225), (2275, 0.016377077965610665), (2276, 0.012422197689489172), (2277, 0.036817515234840406), (2278, 0.028040427486322544), (2279, 0.0), (2280, 0.027379871504650932), (2281, 0.0), (2282, 0.0), (2283, 0.038251071047254316), (2284, 0.01882945737142787), (2285, 0.026457591021253907), (2286, 0.02786752090682963), (2287, 0.03166590877351531), (2288, 0.02296461762844665), (2289, 0.0), (2290, 0.01315886018456198), (2291, 0.0), (2292, 0.0), (2293, 0.0), (2294, 0.016548042026176983), (2295, 0.005926137737909782), (2296, 0.012192317857896248), (2297, 0.0), (2298, 0.014322462423188263), (2299, 0.0), (2300, 0.0), (2301, 0.014613580033281514), (2302, 0.0), (2303, 0.04615138594037614), (2304, 0.024258014664354167), (2305, 0.0), (2306, 0.0), (2307, 0.0), (2308, 0.016137708922699494), (2309, 0.0), (2310, 0.0), (2311, 0.0), (2312, 0.018564961241532337), (2313, 0.029311460010343113), (2314, 0.006417129973532555), (2315, 0.005770000922648393), (2316, 0.024387455531435252), (2317, 0.0), (2318, 0.015463513270836629), (2319, 0.0), (2320, 0.0), (2321, 0.0), (2322, 0.015329715672575276), (2323, 0.0), (2324, 0.010649666579410366), (2325, 0.0), (2326, 0.021703493318160502), (2327, 0.0), (2328, 0.007159715143201497), (2329, 0.008096055400874868), (2330, 0.07509387709636606), (2331, 0.0), (2332, 0.008505910302766102), (2333, 0.0), (2334, 0.006004150593307122), (2335, 0.0), (2336, 0.005800650777914478), (2337, 0.03182569311544575), (2338, 0.0), (2339, 0.0), (2340, 0.015776284767935356), (2341, 0.0), (2342, 0.05630982153754768), (2343, 0.0), (2344, 0.0058455179893506), (2345, 0.0), (2346, 0.0), (2347, 0.0), (2348, 0.005494579095154577), (2349, 0.0), (2350, 0.0), (2351, 0.0), (2352, 0.0070541561445110175), (2353, 0.01494348413331608), (2354, 0.0), (2355, 0.023043070530933178), (2356, 0.016225143583190466), (2357, 0.024755676350503512), (2358, 0.0), (2359, 0.01313521843681753), (2360, 0.0), (2361, 0.006640008880163693), (2362, 0.0), (2363, 0.007736097660290762), (2364, 0.024092550841345435), (2365, 0.011221461143774541), (2366, 0.0), (2367, 0.0), (2368, 0.0), (2369, 0.0), (2370, 0.0), (2371, 0.0), (2372, 0.0), (2373, 0.0), (2374, 0.0059119270144201656), (2375, 0.0), (2376, 0.0), (2377, 0.0), (2378, 0.007367102652619742), (2379, 0.0), (2380, 0.0), (2381, 0.03055931909267743), (2382, 0.0), (2383, 0.013446593364914331), (2384, 0.0), (2385, 0.0), (2386, 0.0), (2387, 0.0), (2388, 0.0), (2389, 0.012946547687379281), (2390, 0.044268496770799914), (2391, 0.0), (2392, 0.0), (2393, 0.03409749335918035), (2394, 0.0), (2395, 0.0), (2396, 0.0), (2397, 0.013114629649936762), (2398, 0.041088745951514564), (2399, 0.005778490528836809), (2400, 0.0), (2401, 0.0), (2402, 0.0), (2403, 0.0), (2404, 0.0), (2405, 0.10491895068087581), (2406, 0.00685202915563212), (2407, 0.0), (2408, 0.015583407082417454), (2409, 0.0), (2410, 0.0), (2411, 0.018089723373136465), (2412, 0.010500760856956165), (2413, 0.04421694093772134), (2414, 0.008320225148748861), (2415, 0.007596099828009046), (2416, 0.0), (2417, 0.0), (2418, 0.0), (2419, 0.0), (2420, 0.0), (2421, 0.044981386236639775), (2422, 0.0), (2423, 0.0), (2424, 0.005674102786008643), (2425, 0.0), (2426, 0.013082145628239257), (2427, 0.023635032551041397), (2428, 0.02245519841745143), (2429, 0.011210274512433392), (2430, 0.0), (2431, 0.0164420767233958), (2432, 0.04510527155765897), (2433, 0.012710121420369206), (2434, 0.0), (2435, 0.0), (2436, 0.0), (2437, 0.0), (2438, 0.0), (2439, 0.02304281933266215), (2440, 0.0), (2441, 0.0), (2442, 0.11960239306456642), (2443, 0.018152180292655928), (2444, 0.014804922858630117), (2445, 0.034224596400205545), (2446, 0.0), (2447, 0.00500314956988419), (2448, 0.0), (2449, 0.0), (2450, 0.027944537561284608), (2451, 0.061806418074866164), (2452, 0.0), (2453, 0.01002094184901084), (2454, 0.0), (2455, 0.0), (2456, 0.0), (2457, 0.0), (2458, 0.0), (2459, 0.014719662772805005), (2460, 0.0), (2461, 0.0), (2462, 0.0), (2463, 0.0), (2464, 0.0), (2465, 0.0), (2466, 0.0), (2467, 0.0), (2468, 0.014130034577929582), (2469, 0.012507890157236152), (2470, 0.007070213613868512), (2471, 0.20312603405342294), (2472, 0.03234776925222668), (2473, 0.007860922368697357), (2474, 0.01622594155565462), (2475, 0.0), (2476, 0.013751118410182483), (2477, 0.006302534283841365), (2478, 0.0), (2479, 0.040557945562675), (2480, 0.00578325581009516), (2481, 0.010738529389259285), (2482, 0.0), (2483, 0.0), (2484, 0.029156486535166597), (2485, 0.0), (2486, 0.006660191326782539), (2487, 0.0), (2488, 0.0), (2489, 0.0), (2490, 0.0), (2491, 0.0), (2492, 0.0), (2493, 0.018942280648800255), (2494, 0.013902630044491254), (2495, 0.0), (2496, 0.03790702448725587), (2497, 0.020051736608169585), (2498, 0.0213857227054745), (2499, 0.006655837860597751), (2500, 0.030424514036636947), (2501, 0.04235651567540557), (2502, 0.0), (2503, 0.0), (2504, 0.00805889848911579), (2505, 0.0), (2506, 0.020413560056639746), (2507, 0.0), (2508, 0.0), (2509, 0.013128344052905276), (2510, 0.0), (2511, 0.0), (2512, 0.008194846100698164), (2513, 0.031298576934388575), (2514, 0.0), (2515, 0.0), (2516, 0.0), (2517, 0.012258283066948457), (2518, 0.0), (2519, 0.0), (2520, 0.0), (2521, 0.036539759953362276), (2522, 0.021685796836193115), (2523, 0.0), (2524, 0.017381563261021686), (2525, 0.0), (2526, 0.04170393921615844), (2527, 0.018755062695001292), (2528, 0.0), (2529, 0.0), (2530, 0.018447300207675658), (2531, 0.0), (2532, 0.009318315951202326), (2533, 0.0), (2534, 0.009567460315711417), (2535, 0.0), (2536, 0.0), (2537, 0.0), (2538, 0.0), (2539, 0.13661935772821923), (2540, 0.011525961090893716), (2541, 0.004950232672381825), (2542, 0.0), (2543, 0.0), (2544, 0.0392660904017075), (2545, 0.0), (2546, 0.0), (2547, 0.00824347068992792), (2548, 0.0), (2549, 0.023060155571166856), (2550, 0.0), (2551, 0.008386707204545556), (2552, 0.0), (2553, 0.0), (2554, 0.014641935928098867), (2555, 0.023138418117126577), (2556, 0.0), (2557, 0.01599276022815296), (2558, 0.005834160990847769), (2559, 0.019079762686268237), (2560, 0.01833539749497476), (2561, 0.0), (2562, 0.006214714451718428), (2563, 0.0), (2564, 0.0), (2565, 0.016946986480787043), (2566, 0.013632796394919532), (2567, 0.024145732828814596), (2568, 0.0), (2569, 0.008156012043161529), (2570, 0.0), (2571, 0.021068049302380352), (2572, 0.015133211048984551), (2573, 0.04068793160339585), (2574, 0.016091996842465817), (2575, 0.009021572877899736), (2576, 0.013681285699675201), (2577, 0.0), (2578, 0.020382773009315378), (2579, 0.0), (2580, 0.005209420190937336), (2581, 0.00782265273933966), (2582, 0.022149154909111846), (2583, 0.01578038960391526), (2584, 0.020993617418907845), (2585, 0.0), (2586, 0.01594503360655935), (2587, 0.025620549609214643), (2588, 0.0), (2589, 0.021461535030877037), (2590, 0.007683729011739593), (2591, 0.028237553558671347), (2592, 0.0), (2593, 0.0), (2594, 0.012078140452186586), (2595, 0.0), (2596, 0.0), (2597, 0.03585161706101551), (2598, 0.017719118913058933), (2599, 0.029873318331177453), (2600, 0.007897834399839298), (2601, 0.0), (2602, 0.0048402549451352795), (2603, 0.013417527731104436), (2604, 0.014033255548522137), (2605, 0.048056543875071106), (2606, 0.027469184315153276), (2607, 0.0052287347403887725), (2608, 0.011294278904451028), (2609, 0.008803975180996586), (2610, 0.0), (2611, 0.0), (2612, 0.015198901142609073), (2613, 0.0), (2614, 0.0), (2615, 0.019646050209473936), (2616, 0.014191198284299659), (2617, 0.005143050161038949), (2618, 0.026323955741049405), (2619, 0.0), (2620, 0.0), (2621, 0.005075140766221807), (2622, 0.028760944310481346), (2623, 0.0), (2624, 0.014109933497651217), (2625, 0.022007394365417644), (2626, 0.013272565902156726), (2627, 0.0), (2628, 0.01688066259585908), (2629, 0.0), (2630, 0.006212924676100762), (2631, 0.0), (2632, 0.005696275823204793), (2633, 0.016521593557959558), (2634, 0.005849260680019187), (2635, 0.040239825313177956), (2636, 0.009681105228496025), (2637, 0.008861943130765144), (2638, 0.006627918662329475), (2639, 0.0), (2640, 0.028678447771383564), (2641, 0.013908215427711985), (2642, 0.03490137142159822), (2643, 0.016677173267536597), (2644, 0.046324664668451185), (2645, 0.043165410706926644), (2646, 0.030939234635851548), (2647, 0.02060851611744822), (2648, 0.0), (2649, 0.0), (2650, 0.0), (2651, 0.012200208405057077), (2652, 0.0), (2653, 0.0), (2654, 0.0), (2655, 0.007730550372392073), (2656, 0.0), (2657, 0.00916963130037212), (2658, 0.0), (2659, 0.00901722273994506), (2660, 0.0), (2661, 0.0), (2662, 0.0), (2663, 0.0), (2664, 0.0), (2665, 0.0), (2666, 0.020045872139169855), (2667, 0.0085301646046407), (2668, 0.038979261454677776), (2669, 0.0), (2670, 0.0067005798734645705), (2671, 0.0), (2672, 0.01626798961687563), (2673, 0.0), (2674, 0.00576250911336784), (2675, 0.0), (2676, 0.007178299802675418), (2677, 0.0), (2678, 0.0), (2679, 0.02600975742146196), (2680, 0.03249480582746827), (2681, 0.0), (2682, 0.031628055479469966), (2683, 0.006534040563896727), (2684, 0.018674127984918944), (2685, 0.0), (2686, 0.030446465335988486), (2687, 0.027042541969676013), (2688, 0.0070814246586513195), (2689, 0.049604958067422496), (2690, 0.0), (2691, 0.051202871896499955), (2692, 0.00506551508596364), (2693, 0.0), (2694, 0.017176875554661564), (2695, 0.02757842276075572), (2696, 0.018293997248688437), (2697, 0.022978937010540837), (2698, 0.0), (2699, 0.0), (2700, 0.006553218794064588), (2701, 0.0), (2702, 0.0), (2703, 0.024730517364002804), (2704, 0.017028586203426708), (2705, 0.0), (2706, 0.005951384055433101), (2707, 0.017034587642303277), (2708, 0.022227132780513453), (2709, 0.0), (2710, 0.016319265131112495), (2711, 0.03225618106893262), (2712, 0.0), (2713, 0.03558111410278926), (2714, 0.012798893681793707), (2715, 0.03957347961395023), (2716, 0.0056188425098720185), (2717, 0.0), (2718, 0.031382559147417395), (2719, 0.0), (2720, 0.0073368941285798074), (2721, 0.0), (2722, 0.0), (2723, 0.0), (2724, 0.02456054754966317), (2725, 0.00882745021871549), (2726, 0.0), (2727, 0.007016213577318349), (2728, 0.019761982368673194), (2729, 0.03874875277371069), (2730, 0.019628664036311926), (2731, 0.0), (2732, 0.0), (2733, 0.006479925869833629), (2734, 0.0), (2735, 0.0), (2736, 0.0055544506589783075), (2737, 0.0), (2738, 0.0), (2739, 0.0), (2740, 0.03657456037084877), (2741, 0.007431875229846699), (2742, 0.031141096988160234), (2743, 0.0), (2744, 0.0), (2745, 0.0), (2746, 0.0), (2747, 0.0), (2748, 0.0), (2749, 0.03305513521208066), (2750, 0.0), (2751, 0.011468147267706435), (2752, 0.0), (2753, 0.027727943969780882), (2754, 0.006563006505726374), (2755, 0.008727962687566954), (2756, 0.026251008160857993), (2757, 0.0), (2758, 0.0), (2759, 0.021018813296287818), (2760, 0.0), (2761, 0.0), (2762, 0.04478554133996493), (2763, 0.008060920108214164), (2764, 0.0), (2765, 0.015185404273147338), (2766, 0.04678453018951098), (2767, 0.0250045758562489), (2768, 0.01719069387214603), (2769, 0.0), (2770, 0.01803236423065375), (2771, 0.004949805196471226), (2772, 0.04809663876812033), (2773, 0.0), (2774, 0.011597931670591491), (2775, 0.02911614251217661), (2776, 0.0), (2777, 0.005792361486410187), (2778, 0.014623050516771114), (2779, 0.0), (2780, 0.012521773358055608), (2781, 0.028679917843544185), (2782, 0.017518201233913434), (2783, 0.0), (2784, 0.005962396761544525), (2785, 0.0), (2786, 0.0), (2787, 0.011499423661524523), (2788, 0.01231185081994503), (2789, 0.022974542498614317), (2790, 0.05617697551119981), (2791, 0.022917009801143896), (2792, 0.0), (2793, 0.04335165649767547), (2794, 0.0), (2795, 0.01527241089916337), (2796, 0.0), (2797, 0.0), (2798, 0.022046900603459815), (2799, 0.017880530884295365), (2800, 0.0), (2801, 0.00500403100288849), (2802, 0.0), (2803, 0.01851705337746643), (2804, 0.03006954872088516), (2805, 0.0), (2806, 0.009141203085276123), (2807, 0.0), (2808, 0.0056524498865513405), (2809, 0.0), (2810, 0.03134839519271011), (2811, 0.0068553066281232), (2812, 0.0), (2813, 0.0), (2814, 0.0337765631819865), (2815, 0.006296964118907301), (2816, 0.0), (2817, 0.0), (2818, 0.0), (2819, 0.012811049214195363), (2820, 0.010577706067777505), (2821, 0.0), (2822, 0.012526044551311514), (2823, 0.0), (2824, 0.021244684028305205), (2825, 0.027371596662545336), (2826, 0.014591599055470169), (2827, 0.0), (2828, 0.02107808089863292), (2829, 0.0), (2830, 0.009186281091437943), (2831, 0.0), (2832, 0.0), (2833, 0.019117347824046334), (2834, 0.0), (2835, 0.0), (2836, 0.0), (2837, 0.02627047976229026), (2838, 0.0), (2839, 0.0), (2840, 0.01348799193350296), (2841, 0.007202598547238071), (2842, 0.016561187114751835), (2843, 0.0494983763009546), (2844, 0.023101587889271157), (2845, 0.0), (2846, 0.0), (2847, 0.020089381590229972), (2848, 0.0), (2849, 0.022952738883824427), (2850, 0.036098284997076666), (2851, 0.02638760812366272), (2852, 0.0), (2853, 0.0), (2854, 0.01343090273629427), (2855, 0.0), (2856, 0.0), (2857, 0.0), (2858, 0.0), (2859, 0.0), (2860, 0.039406159698650634), (2861, 0.0), (2862, 0.005834011904724848), (2863, 0.0), (2864, 0.007115752690704091), (2865, 0.0150100088018277), (2866, 0.0), (2867, 0.006437027566547853), (2868, 0.0), (2869, 0.0159806432875599), (2870, 0.0), (2871, 0.005186859261115923), (2872, 0.0), (2873, 0.039005327401606935), (2874, 0.0), (2875, 0.0), (2876, 0.01813272665046877), (2877, 0.0), (2878, 0.016840364037163172), (2879, 0.007104166423668837), (2880, 0.0301467235745909), (2881, 0.013696576655662502), (2882, 0.017101126004173624), (2883, 0.0), (2884, 0.0), (2885, 0.005868594796431146), (2886, 0.0), (2887, 0.030095330546367677), (2888, 0.01572218110009868), (2889, 0.0), (2890, 0.0), (2891, 0.0), (2892, 0.0), (2893, 0.0), (2894, 0.0), (2895, 0.03280790349380953), (2896, 0.016223099354673677), (2897, 0.015031778998916232), (2898, 0.0632397096623368), (2899, 0.03186708469393622), (2900, 0.0), (2901, 0.0), (2902, 0.0587479593128438), (2903, 0.013561944219715655), (2904, 0.032984832417964585), (2905, 0.0), (2906, 0.0), (2907, 0.0), (2908, 0.00971833132911952), (2909, 0.0), (2910, 0.01183241679789828), (2911, 0.013420465404969967), (2912, 0.0), (2913, 0.0051346227608241105), (2914, 0.0), (2915, 0.02804592411296254), (2916, 0.0), (2917, 0.004594714599875603), (2918, 0.01165106609899328), (2919, 0.006026200859446004), (2920, 0.007552168378114325), (2921, 0.024293589951375486), (2922, 0.008517697605352072), (2923, 0.0), (2924, 0.0), (2925, 0.004683608149210584), (2926, 0.0), (2927, 0.036427639829194405), (2928, 0.0), (2929, 0.03662666195755304), (2930, 0.0), (2931, 0.0), (2932, 0.007712684189270718), (2933, 0.0), (2934, 0.0), (2935, 0.005559708325528851), (2936, 0.0), (2937, 0.02084164407342426), (2938, 0.0), (2939, 0.007265338321037591), (2940, 0.015513250677439982), (2941, 0.0), (2942, 0.0), (2943, 0.006237524924982946), (2944, 0.04363195303893633), (2945, 0.0), (2946, 0.0), (2947, 0.012395135508514107), (2948, 0.008152158163417349), (2949, 0.0062328479900500755), (2950, 0.05514752642394332), (2951, 0.017337495697405517), (2952, 0.06517058469478032), (2953, 0.013649084620453833), (2954, 0.014369490035598467), (2955, 0.03708951287790707), (2956, 0.009238656808551321), (2957, 0.01925297139763123), (2958, 0.005831991040221145), (2959, 0.012731029367552937), (2960, 0.020752998680654045), (2961, 0.027112513730673582), (2962, 0.005957060404138567), (2963, 0.012912442163263517), (2964, 0.0), (2965, 0.0), (2966, 0.0), (2967, 0.0), (2968, 0.0), (2969, 0.005191992087232299), (2970, 0.0), (2971, 0.005446907237475246), (2972, 0.0), (2973, 0.0), (2974, 0.0), (2975, 0.0), (2976, 0.0), (2977, 0.0), (2978, 0.0063429229501069774), (2979, 0.006801139545147221), (2980, 0.0), (2981, 0.004983148748417978), (2982, 0.05740097595908717), (2983, 0.0), (2984, 0.005355596777281193), (2985, 0.0), (2986, 0.0), (2987, 0.0), (2988, 0.0060164769469982955), (2989, 0.008722798826079162), (2990, 0.025786035473649504), (2991, 0.005911075112065077), (2992, 0.011275994180388386), (2993, 0.0), (2994, 0.0), (2995, 0.02066691191996259), (2996, 0.0064196229969325355), (2997, 0.0), (2998, 0.021789443989591185), (2999, 0.0), (3000, 0.029559671684240084), (3001, 0.04822483273161239), (3002, 0.006326230940939863), (3003, 0.04160034237509763), (3004, 0.0), (3005, 0.027839705660969702), (3006, 0.0), (3007, 0.0), (3008, 0.014415920418154381), (3009, 0.0), (3010, 0.0), (3011, 0.005632982535726725), (3012, 0.006540114270995828), (3013, 0.0), (3014, 0.02049583945419308), (3015, 0.0), (3016, 0.0), (3017, 0.0), (3018, 0.0), (3019, 0.00679079992679974), (3020, 0.026357003947334423), (3021, 0.09144067948346102), (3022, 0.039437760194941274), (3023, 0.020291781695147837), (3024, 0.005178482363455998), (3025, 0.0), (3026, 0.0), (3027, 0.028322727712381753), (3028, 0.01520769862589075), (3029, 0.0), (3030, 0.0), (3031, 0.015751947939174546), (3032, 0.006529465639990077), (3033, 0.0), (3034, 0.0), (3035, 0.0055533440673360985), (3036, 0.0), (3037, 0.0), (3038, 0.0), (3039, 0.0), (3040, 0.0), (3041, 0.0), (3042, 0.0), (3043, 0.03771967598045496), (3044, 0.020879855400058135), (3045, 0.040990617474818594), (3046, 0.012647392675936939), (3047, 0.03151165296046818), (3048, 0.023099265722250666), (3049, 0.023253835944006603), (3050, 0.0), (3051, 0.04949919662924306), (3052, 0.0), (3053, 0.0), (3054, 0.0), (3055, 0.0), (3056, 0.010682551128819955), (3057, 0.0), (3058, 0.00818012769606463), (3059, 0.030067357570621955), (3060, 0.015996870436268087), (3061, 0.0), (3062, 0.01609121684257814), (3063, 0.03825076211383852), (3064, 0.00681165785897405), (3065, 0.01728305829106119), (3066, 0.0), (3067, 0.0), (3068, 0.01937693253069432), (3069, 0.0), (3070, 0.010802758773631075), (3071, 0.0), (3072, 0.0), (3073, 0.0), (3074, 0.0), (3075, 0.0), (3076, 0.0), (3077, 0.0), (3078, 0.01657011414101714), (3079, 0.025472837593869105), (3080, 0.048211902980435886), (3081, 0.0), (3082, 0.0), (3083, 0.026616613302753247), (3084, 0.0), (3085, 0.011552999051522938), (3086, 0.006301623089417544), (3087, 0.0), (3088, 0.0), (3089, 0.026494467215769032), (3090, 0.0), (3091, 0.006908779462835541), (3092, 0.0), (3093, 0.0), (3094, 0.0), (3095, 0.006262710368218374), (3096, 0.02629663097738378), (3097, 0.006902777997674084), (3098, 0.0), (3099, 0.018098589655367134), (3100, 0.0542989827132963), (3101, 0.017649812122692777), (3102, 0.0), (3103, 0.0), (3104, 0.0), (3105, 0.028704489666985696), (3106, 0.0), (3107, 0.0), (3108, 0.01957403194219838), (3109, 0.0), (3110, 0.006562225128676769), (3111, 0.014298425680229666), (3112, 0.013004181817165665), (3113, 0.0), (3114, 0.03357656759758872), (3115, 0.029819647477651003), (3116, 0.0), (3117, 0.006687350534310901), (3118, 0.00541333264703322), (3119, 0.0), (3120, 0.0), (3121, 0.007708470374807458), (3122, 0.020805081510325993), (3123, 0.049442368687106705), (3124, 0.021125213841775823), (3125, 0.005862206263377485), (3126, 0.011581472000988111), (3127, 0.021030251272278963), (3128, 0.0), (3129, 0.03100246716331243), (3130, 0.005710904882331109), (3131, 0.045098977104516796), (3132, 0.038507543193472875), (3133, 0.05441391330215986), (3134, 0.04399644288626711), (3135, 0.019057758118049106), (3136, 0.031004422813801683), (3137, 0.0), (3138, 0.0), (3139, 0.0), (3140, 0.01622833166672378), (3141, 0.028961096376614395), (3142, 0.0), (3143, 0.023207878591048243), (3144, 0.03346697293008238), (3145, 0.0), (3146, 0.0), (3147, 0.0), (3148, 0.0), (3149, 0.020941738033409308), (3150, 0.0), (3151, 0.0), (3152, 0.006441071839113222), (3153, 0.006006869707244672), (3154, 0.007139750392503195), (3155, 0.0), (3156, 0.01959770050568737), (3157, 0.0), (3158, 0.030978702242648825), (3159, 0.0), (3160, 0.0338556887618274), (3161, 0.011930358810018915), (3162, 0.0), (3163, 0.022146920349096468), (3164, 0.0), (3165, 0.0071901159736631045), (3166, 0.0), (3167, 0.0), (3168, 0.013617591542931271), (3169, 0.019636988693927625), (3170, 0.0), (3171, 0.0), (3172, 0.016900254428799385), (3173, 0.031231288670385857), (3174, 0.006243310981233523), (3175, 0.0), (3176, 0.0), (3177, 0.0), (3178, 0.0), (3179, 0.005989926245093419), (3180, 0.10299289588189253), (3181, 0.030583774326334728), (3182, 0.0), (3183, 0.014120649437784133), (3184, 0.0), (3185, 0.0512935249094123), (3186, 0.014621204296323718), (3187, 0.0), (3188, 0.0), (3189, 0.013547943593906531), (3190, 0.014942217081010097), (3191, 0.03489972832248178), (3192, 0.0069156448763581495), (3193, 0.07634109571156038), (3194, 0.0), (3195, 0.005740612619067664), (3196, 0.006541281015778489), (3197, 0.0), (3198, 0.0), (3199, 0.0), (3200, 0.0), (3201, 0.019436934925991526), (3202, 0.05968590282462639), (3203, 0.0), (3204, 0.029063125244767125), (3205, 0.026749579893180567), (3206, 0.043509731049387615), (3207, 0.0), (3208, 0.008676758000816655), (3209, 0.0), (3210, 0.01219849352743652), (3211, 0.0), (3212, 0.0), (3213, 0.04971269224355063), (3214, 0.0), (3215, 0.04831425226502951), (3216, 0.0), (3217, 0.0), (3218, 0.0), (3219, 0.028028473383629817), (3220, 0.0), (3221, 0.007001576001036198), (3222, 0.0), (3223, 0.009508630882953556), (3224, 0.0), (3225, 0.05692777325461983), (3226, 0.0), (3227, 0.012193636092638026), (3228, 0.02646676996184272), (3229, 0.0), (3230, 0.0), (3231, 0.04101139329729556), (3232, 0.017790208878377827), (3233, 0.028434567601436124), (3234, 0.0), (3235, 0.017030550588788333), (3236, 0.013714814254045046), (3237, 0.0), (3238, 0.0), (3239, 0.0), (3240, 0.0), (3241, 0.028905985245310076), (3242, 0.0), (3243, 0.0), (3244, 0.01441624699003226), (3245, 0.0), (3246, 0.0), (3247, 0.030659605211726608), (3248, 0.0), (3249, 0.0), (3250, 0.0), (3251, 0.018025492629299582), (3252, 0.0), (3253, 0.007118783103231624), (3254, 0.0), (3255, 0.0), (3256, 0.0), (3257, 0.0), (3258, 0.0), (3259, 0.006601934922106349), (3260, 0.0), (3261, 0.0), (3262, 0.0), (3263, 0.013174727201649486), (3264, 0.0), (3265, 0.0), (3266, 0.0), (3267, 0.005680186590864833), (3268, 0.0), (3269, 0.03811248914735469), (3270, 0.027883810518197057), (3271, 0.0), (3272, 0.008400787953637596), (3273, 0.0), (3274, 0.0), (3275, 0.03951055672283611), (3276, 0.04137515693436812), (3277, 0.0), (3278, 0.0), (3279, 0.018483651638623873), (3280, 0.0), (3281, 0.0), (3282, 0.0), (3283, 0.0), (3284, 0.005342605294875007), (3285, 0.0), (3286, 0.008013714998634909), (3287, 0.025048265312040508), (3288, 0.0), (3289, 0.0), (3290, 0.0), (3291, 0.0), (3292, 0.0), (3293, 0.0), (3294, 0.03462764694580313), (3295, 0.0), (3296, 0.0), (3297, 0.00665172974609101), (3298, 0.02106433358430336), (3299, 0.015874604135822944), (3300, 0.0), (3301, 0.0), (3302, 0.015711387565258587), (3303, 0.005936280873392074), (3304, 0.0), (3305, 0.02297890057027318), (3306, 0.020166738650342464), (3307, 0.01497883670034761), (3308, 0.015266206988874124), (3309, 0.0), (3310, 0.006530530591505758), (3311, 0.025063658475417326), (3312, 0.014046250822688244), (3313, 0.0), (3314, 0.013676128235057967), (3315, 0.0), (3316, 0.0), (3317, 0.004777862112862333), (3318, 0.019440944489101792), (3319, 0.020299301783588273), (3320, 0.0), (3321, 0.0), (3322, 0.0), (3323, 0.16332644042220698), (3324, 0.0), (3325, 0.010422251435000689), (3326, 0.0), (3327, 0.007403618717494648), (3328, 0.009539916669818387), (3329, 0.0), (3330, 0.005813526851765434), (3331, 0.023040174616207804), (3332, 0.028402402730942067), (3333, 0.0), (3334, 0.006137539845556233), (3335, 0.0), (3336, 0.0056345127972315945), (3337, 0.0), (3338, 0.02009638863542563), (3339, 0.0104073776293971), (3340, 0.03345229798508496), (3341, 0.0), (3342, 0.03272006921423691), (3343, 0.006253691860338119), (3344, 0.00495408177041001), (3345, 0.0), (3346, 0.008232132935092796), (3347, 0.0), (3348, 0.0), (3349, 0.00605203423406975), (3350, 0.0), (3351, 0.01345829629090673), (3352, 0.0), (3353, 0.03918031954622797), (3354, 0.0), (3355, 0.0), (3356, 0.03255148268371698), (3357, 0.0), (3358, 0.0), (3359, 0.0), (3360, 0.014663743952262786), (3361, 0.08082041402501365), (3362, 0.01265031920749939), (3363, 0.0), (3364, 0.0), (3365, 0.004414592174514592), (3366, 0.007971630511758011), (3367, 0.0422200753181657), (3368, 0.027401659241662046), (3369, 0.0), (3370, 0.005662291059223518), (3371, 0.0), (3372, 0.03700356847018508), (3373, 0.021559395905695757), (3374, 0.012001763872253091), (3375, 0.0), (3376, 0.0), (3377, 0.016484752862560785), (3378, 0.0), (3379, 0.0), (3380, 0.0), (3381, 0.0), (3382, 0.022654717441338734), (3383, 0.007088291874903231), (3384, 0.014177946203087058), (3385, 0.030977925651485536), (3386, 0.0), (3387, 0.015556573909331486), (3388, 0.0), (3389, 0.020055405799488855), (3390, 0.0), (3391, 0.0), (3392, 0.0), (3393, 0.048265372221585424), (3394, 0.007198373784073578), (3395, 0.007582564767845689), (3396, 0.0), (3397, 0.007407533418776958), (3398, 0.00601623509609291), (3399, 0.0), (3400, 0.0), (3401, 0.0), (3402, 0.0), (3403, 0.005110706302556968), (3404, 0.02070202602786266), (3405, 0.03582802429819515), (3406, 0.0), (3407, 0.014774100387595692), (3408, 0.04341631446161934), (3409, 0.0), (3410, 0.012855667681513184), (3411, 0.0), (3412, 0.02117446746011636), (3413, 0.0), (3414, 0.0), (3415, 0.0), (3416, 0.033509408016933084), (3417, 0.0), (3418, 0.0), (3419, 0.016749730227933145), (3420, 0.0), (3421, 0.0), (3422, 0.0), (3423, 0.0), (3424, 0.006858640399732607), (3425, 0.018234727124948853), (3426, 0.013104731622682267), (3427, 0.03645756905635685), (3428, 0.0), (3429, 0.008222343361027912), (3430, 0.0), (3431, 0.0), (3432, 0.027863361750531612), (3433, 0.005492680349937928), (3434, 0.0), (3435, 0.005776694754894411), (3436, 0.0058708983372094715), (3437, 0.006106794117319259), (3438, 0.021722186933388208), (3439, 0.010705935088768463), (3440, 0.014051059782316223), (3441, 0.006208607466884599), (3442, 0.0), (3443, 0.011928280863160133), (3444, 0.009098455956417343), (3445, 0.0064110670669591295), (3446, 0.0192339381879808), (3447, 0.0), (3448, 0.024683412107303355), (3449, 0.0), (3450, 0.0140452701375329), (3451, 0.012962154640049853), (3452, 0.046018542965914934), (3453, 0.030870334739116094), (3454, 0.01419759450226518), (3455, 0.0), (3456, 0.003984027544041268), (3457, 0.016777514498157658), (3458, 0.0), (3459, 0.01998807540118453), (3460, 0.005364109031175394), (3461, 0.00879830519973771), (3462, 0.0), (3463, 0.037466687072352706), (3464, 0.006634516514146667), (3465, 0.0114868097669882), (3466, 0.02620005496079661), (3467, 0.0367846527550427), (3468, 0.03653527925935419), (3469, 0.055115084364288795), (3470, 0.006547681718523104), (3471, 0.00463815220001954), (3472, 0.00793081696725621), (3473, 0.029292385423752496), (3474, 0.005300613349776745), (3475, 0.020961210509188935), (3476, 0.0), (3477, 0.015605051460789015), (3478, 0.0), (3479, 0.01722097424508113), (3480, 0.026820088195884675), (3481, 0.0), (3482, 0.0083046096231534), (3483, 0.045799274370814956), (3484, 0.022985922419427103), (3485, 0.011458690664238097), (3486, 0.020775363611688052), (3487, 0.00560861525222007), (3488, 0.006081468173048505), (3489, 0.0), (3490, 0.0), (3491, 0.0), (3492, 0.008243918081397955), (3493, 0.0), (3494, 0.0), (3495, 0.019180967206932815), (3496, 0.0), (3497, 0.017454978855706543), (3498, 0.0055735657521549875), (3499, 0.005730652622622551), (3500, 0.0), (3501, 0.09223183558545946), (3502, 0.033454698925214216), (3503, 0.012365050754152552), (3504, 0.10770374973039532), (3505, 0.0), (3506, 0.0), (3507, 0.012536586999198237), (3508, 0.0), (3509, 0.0), (3510, 0.0), (3511, 0.0), (3512, 0.0), (3513, 0.049028041211167855), (3514, 0.035290718366534635), (3515, 0.023708247795380003), (3516, 0.036868285296772815), (3517, 0.0), (3518, 0.0), (3519, 0.0), (3520, 0.03163580350126841), (3521, 0.007186463796428948), (3522, 0.019604377133806448), (3523, 0.0), (3524, 0.025234025784001413), (3525, 0.005442313610889225), (3526, 0.011158168346998416), (3527, 0.0), (3528, 0.025853999164501464), (3529, 0.0), (3530, 0.0), (3531, 0.02133581540193145), (3532, 0.041817576555960786), (3533, 0.0), (3534, 0.0), (3535, 0.0069075063054012086), (3536, 0.01657611245634863), (3537, 0.0), (3538, 0.010282057743868497), (3539, 0.0), (3540, 0.0), (3541, 0.0), (3542, 0.09024302747605537), (3543, 0.0), (3544, 0.0), (3545, 0.0), (3546, 0.006158172471804579), (3547, 0.0), (3548, 0.012941539015024569), (3549, 0.028426667081146172), (3550, 0.0), (3551, 0.016123866629934293), (3552, 0.0), (3553, 0.005781424964750436), (3554, 0.007577907032394336), (3555, 0.0463606928151591), (3556, 0.01081309830396095), (3557, 0.03646428429724334), (3558, 0.0), (3559, 0.01827762652403864), (3560, 0.016307932928411747), (3561, 0.017480509216939864), (3562, 0.0), (3563, 0.0), (3564, 0.0), (3565, 0.0), (3566, 0.007753328437906298), (3567, 0.007908159122932199), (3568, 0.04685511334074519), (3569, 0.013697030466966052), (3570, 0.0), (3571, 0.005964985872376747), (3572, 0.0), (3573, 0.0), (3574, 0.029150802139760505), (3575, 0.0), (3576, 0.02807203695953573), (3577, 0.0), (3578, 0.040699865073696245), (3579, 0.0), (3580, 0.0), (3581, 0.0), (3582, 0.019601754972231204), (3583, 0.026745367848645386), (3584, 0.020113612387449277), (3585, 0.0), (3586, 0.015620028597543582), (3587, 0.009297968630759159), (3588, 0.041209685503744216), (3589, 0.0), (3590, 0.0), (3591, 0.00653351848328393), (3592, 0.0), (3593, 0.05523902800635207), (3594, 0.02172013129942094), (3595, 0.02685291979008576), (3596, 0.0), (3597, 0.04298494761688999), (3598, 0.021448658770327454), (3599, 0.016680451204498865), (3600, 0.013087675496159603), (3601, 0.0), (3602, 0.011890980372814781), (3603, 0.006379496471395996), (3604, 0.061019814176345194), (3605, 0.03240727193004163), (3606, 0.0), (3607, 0.0), (3608, 0.0), (3609, 0.005886239212950496), (3610, 0.0), (3611, 0.0), (3612, 0.012899946478108028), (3613, 0.0), (3614, 0.0), (3615, 0.0), (3616, 0.04656852875620462), (3617, 0.0), (3618, 0.006183319499273805), (3619, 0.018925185863125298), (3620, 0.0), (3621, 0.01517367011907198), (3622, 0.0), (3623, 0.048272687286333535), (3624, 0.005779338016774975), (3625, 0.0212273118250446), (3626, 0.0), (3627, 0.0), (3628, 0.015871661494917793), (3629, 0.014177423689035117), (3630, 0.019651245888560445), (3631, 0.0), (3632, 0.0), (3633, 0.0), (3634, 0.05644003985696888), (3635, 0.027509973800538767), (3636, 0.0), (3637, 0.010575909843468515), (3638, 0.017563873528744996), (3639, 0.0), (3640, 0.006505584227114332), (3641, 0.02903166031020253), (3642, 0.027097193789016323), (3643, 0.0), (3644, 0.0), (3645, 0.004718452235245476), (3646, 0.0), (3647, 0.015483478624033323), (3648, 0.03281266185985578), (3649, 0.0), (3650, 0.01306602361771772), (3651, 0.018275405979109295), (3652, 0.0064455727522223), (3653, 0.01909111141100356), (3654, 0.0), (3655, 0.0), (3656, 0.0), (3657, 0.05208964185022062), (3658, 0.005260343565428236), (3659, 0.02041181786391556), (3660, 0.01166210148254783), (3661, 0.00665295862045814), (3662, 0.0), (3663, 0.0), (3664, 0.0056071327588538035), (3665, 0.021659383798628643), (3666, 0.019445938194786797), (3667, 0.0), (3668, 0.00529861471627219), (3669, 0.0), (3670, 0.005883263170471889), (3671, 0.027025401419442027), (3672, 0.0), (3673, 0.0), (3674, 0.03466566171317944), (3675, 0.00695365578817593), (3676, 0.006326089927568979), (3677, 0.0), (3678, 0.0), (3679, 0.012259633298343217), (3680, 0.042838780407699464), (3681, 0.0), (3682, 0.0), (3683, 0.0), (3684, 0.010495380116313246), (3685, 0.07358568210468286), (3686, 0.0), (3687, 0.0), (3688, 0.02416232875604971), (3689, 0.016524267925389434), (3690, 0.03711763046351456), (3691, 0.0), (3692, 0.0364999968172265), (3693, 0.05444129199394995), (3694, 0.020268444042364844), (3695, 0.023132816558548014), (3696, 0.00562558812229603), (3697, 0.015989714754605852), (3698, 0.0062174024451626415), (3699, 0.005958200948560558), (3700, 0.01378628445821689), (3701, 0.0), (3702, 0.0), (3703, 0.009343736859910978), (3704, 0.006303874534560052), (3705, 0.005278543540872545), (3706, 0.006109339701175063), (3707, 0.0063712814358985355), (3708, 0.01396310738143538), (3709, 0.029299097356005624), (3710, 0.012856696262738571), (3711, 0.017255449321981347), (3712, 0.020315962993641846), (3713, 0.004863575626856143), (3714, 0.03792966522551226), (3715, 0.015605173519970605), (3716, 0.0), (3717, 0.0), (3718, 0.04246715032408767), (3719, 0.0), (3720, 0.03271405135856392), (3721, 0.024844812927692857), (3722, 0.03823199485624201), (3723, 0.011413010987430215), (3724, 0.02975948684899532), (3725, 0.0), (3726, 0.007445097752738059), (3727, 0.0057837568120487045), (3728, 0.0), (3729, 0.0), (3730, 0.017203338391757875), (3731, 0.0), (3732, 0.014883805891198015), (3733, 0.0), (3734, 0.04413555913148435), (3735, 0.02681187261916937), (3736, 0.0), (3737, 0.0), (3738, 0.005725849892352375), (3739, 0.0), (3740, 0.016319507078396602), (3741, 0.02902643450596107), (3742, 0.018975545422107283), (3743, 0.037580793292384326), (3744, 0.05130180071665129), (3745, 0.0), (3746, 0.0), (3747, 0.0671746258355285), (3748, 0.0), (3749, 0.0), (3750, 0.0), (3751, 0.010598728213255849), (3752, 0.0), (3753, 0.0), (3754, 0.0), (3755, 0.0), (3756, 0.022315146296995887), (3757, 0.0), (3758, 0.0), (3759, 0.018017686207838394), (3760, 0.0), (3761, 0.0), (3762, 0.0), (3763, 0.0), (3764, 0.0), (3765, 0.0), (3766, 0.022334218528078896), (3767, 0.011845390758236249), (3768, 0.0062682905726748625), (3769, 0.00609926097338101), (3770, 0.013484553510434757), (3771, 0.01309868129561174), (3772, 0.0), (3773, 0.05091510227969723), (3774, 0.006246503388903284), (3775, 0.005413383044832015), (3776, 0.01035728084461296), (3777, 0.006163371317899175), (3778, 0.0), (3779, 0.0), (3780, 0.019996752300829167), (3781, 0.013816418726672035), (3782, 0.038652171475847624), (3783, 0.04641817552255769), (3784, 0.0), (3785, 0.0072952447892553375), (3786, 0.013926158230294859), (3787, 0.06991843721169404), (3788, 0.025501011803506002), (3789, 0.0), (3790, 0.013402688316948776), (3791, 0.0), (3792, 0.0), (3793, 0.005734737448825134), (3794, 0.011454378101449097), (3795, 0.03757086679629228), (3796, 0.0), (3797, 0.030585924919963724), (3798, 0.037674122314816504), (3799, 0.0), (3800, 0.0), (3801, 0.01953930672358359), (3802, 0.03711951202269238), (3803, 0.0072217150180179535), (3804, 0.0), (3805, 0.008230069838242617), (3806, 0.004921191464610117), (3807, 0.01203000750820115), (3808, 0.0), (3809, 0.0), (3810, 0.005944133368875525), (3811, 0.0), (3812, 0.0), (3813, 0.0), (3814, 0.011895052427769785), (3815, 0.0059473161160847506), (3816, 0.0), (3817, 0.01836380083310639), (3818, 0.0), (3819, 0.005507821615447368), (3820, 0.0), (3821, 0.0), (3822, 0.0), (3823, 0.005484711416434398), (3824, 0.005567622544622416), (3825, 0.0), (3826, 0.00793525939094617), (3827, 0.0), (3828, 0.03450194588562933), (3829, 0.0), (3830, 0.0), (3831, 0.0), (3832, 0.0), (3833, 0.005924056848038056), (3834, 0.055954730098923836), (3835, 0.0), (3836, 0.0), (3837, 0.0), (3838, 0.0), (3839, 0.0), (3840, 0.03723313533803801), (3841, 0.005231293801002137), (3842, 0.0), (3843, 0.0), (3844, 0.007309938242578325), (3845, 0.0), (3846, 0.0322374360308762), (3847, 0.0), (3848, 0.0), (3849, 0.043683869195910774), (3850, 0.050008754670798856), (3851, 0.0), (3852, 0.01879507455945242), (3853, 0.0176839279607944), (3854, 0.005394415143208678), (3855, 0.0), (3856, 0.01361968385269232), (3857, 0.0), (3858, 0.01804637940124941), (3859, 0.0), (3860, 0.02523332943538008), (3861, 0.0), (3862, 0.012630306793660576), (3863, 0.0), (3864, 0.014851163314504603), (3865, 0.021395748528179638), (3866, 0.01814025585679055), (3867, 0.0312249912674801), (3868, 0.0), (3869, 0.03981472858400484), (3870, 0.015173637889091134), (3871, 0.008615011902584539), (3872, 0.0), (3873, 0.023317067098017365), (3874, 0.0), (3875, 0.0), (3876, 0.020019189945984773), (3877, 0.009190028585612057), (3878, 0.020996816208569972), (3879, 0.0), (3880, 0.0), (3881, 0.005562937409030923), (3882, 0.0), (3883, 0.021348213412497388), (3884, 0.01858727519708912), (3885, 0.0), (3886, 0.04165788511455139), (3887, 0.0), (3888, 0.03433514120270753), (3889, 0.040716603858177526), (3890, 0.0), (3891, 0.0), (3892, 0.0), (3893, 0.0), (3894, 0.042032734406197945), (3895, 0.0), (3896, 0.0), (3897, 0.04297677460966255), (3898, 0.0), (3899, 0.0), (3900, 0.020968740819282194), (3901, 0.007035074205288259), (3902, 0.0), (3903, 0.009454360841658294), (3904, 0.022940235733464542), (3905, 0.0), (3906, 0.0), (3907, 0.04373431757072855), (3908, 0.07988474504001772), (3909, 0.0), (3910, 0.005121345378874659), (3911, 0.0), (3912, 0.0), (3913, 0.04096198414957237), (3914, 0.013775576558534085), (3915, 0.01735218634550553), (3916, 0.047819001194580386), (3917, 0.013961833491558611), (3918, 0.0), (3919, 0.02279544583178311), (3920, 0.0), (3921, 0.0), (3922, 0.0), (3923, 0.07467244637448625), (3924, 0.0), (3925, 0.0), (3926, 0.0), (3927, 0.0), (3928, 0.0), (3929, 0.0), (3930, 0.0), (3931, 0.0), (3932, 0.0), (3933, 0.0), (3934, 0.0), (3935, 0.0), (3936, 0.0), (3937, 0.03584558408574821), (3938, 0.020306310623719747), (3939, 0.0), (3940, 0.0), (3941, 0.0), (3942, 0.007115767050188796), (3943, 0.0), (3944, 0.004702243042397884), (3945, 0.0), (3946, 0.00937831937511106), (3947, 0.013975215815760465), (3948, 0.0), (3949, 0.01772581721977326), (3950, 0.017493794314874373), (3951, 0.0), (3952, 0.0), (3953, 0.005695738622541471), (3954, 0.0), (3955, 0.028008301123241038), (3956, 0.0), (3957, 0.02278196846625184), (3958, 0.005368330510337556), (3959, 0.0120837121977888), (3960, 0.006613254854798664), (3961, 0.006438634558220635), (3962, 0.0), (3963, 0.027203942997020218), (3964, 0.0), (3965, 0.05517066747637423), (3966, 0.0257777931996215), (3967, 0.0), (3968, 0.038141054331197605), (3969, 0.0), (3970, 0.005579199196292061), (3971, 0.0), (3972, 0.04160027243797567), (3973, 0.0), (3974, 0.005250395875733382), (3975, 0.007603473161794662), (3976, 0.0), (3977, 0.03922720179563768), (3978, 0.011534951900814865), (3979, 0.015409674144774493), (3980, 0.0116436090714611), (3981, 0.0), (3982, 0.03631127183441632), (3983, 0.011968348891120055), (3984, 0.0), (3985, 0.0), (3986, 0.0), (3987, 0.0), (3988, 0.0), (3989, 0.004699405940273489), (3990, 0.035597670070590844), (3991, 0.007784055956731418), (3992, 0.0), (3993, 0.04025376757595416), (3994, 0.02119113080051331), (3995, 0.0060478715443847), (3996, 0.0), (3997, 0.036089370941148946), (3998, 0.027039239970448336), (3999, 0.0), (4000, 0.005786112895432722), (4001, 0.019187286024544704), (4002, 0.0), (4003, 0.014244400864403359), (4004, 0.02211727606711554), (4005, 0.0129221825653262), (4006, 0.0), (4007, 0.022715976778868545), (4008, 0.0), (4009, 0.0076266381920107856), (4010, 0.014879039833647642), (4011, 0.0), (4012, 0.00590812955549077), (4013, 0.02039021581565806), (4014, 0.02206358525738789), (4015, 0.023152004215722992), (4016, 0.008231349794213702), (4017, 0.017498699000619927), (4018, 0.009293011701946078), (4019, 0.0), (4020, 0.0218141167351035), (4021, 0.0), (4022, 0.0), (4023, 0.0), (4024, 0.0), (4025, 0.02225048011435771), (4026, 0.0), (4027, 0.0), (4028, 0.0), (4029, 0.0), (4030, 0.0), (4031, 0.009648875727855088), (4032, 0.0), (4033, 0.006604139130790795), (4034, 0.009157230998679221), (4035, 0.0), (4036, 0.008064973936946437), (4037, 0.03196888575742401), (4038, 0.012928879007412856), (4039, 0.011788788956409946), (4040, 0.0), (4041, 0.04977867994799413), (4042, 0.0), (4043, 0.0065019897206851415), (4044, 0.010972852070102233), (4045, 0.006613470122533391), (4046, 0.05441556728631494), (4047, 0.04745624725478428), (4048, 0.0), (4049, 0.0), (4050, 0.006443917310309633), (4051, 0.017557293918125237), (4052, 0.0), (4053, 0.011700842442269398), (4054, 0.04006198394719919), (4055, 0.013091131232521177), (4056, 0.01443566956339), (4057, 0.0), (4058, 0.01603929254437796), (4059, 0.0), (4060, 0.0158719977748417), (4061, 0.028170317061136704), (4062, 0.01561852838662894), (4063, 0.020124342553173007), (4064, 0.01745799582259097), (4065, 0.0), (4066, 0.0), (4067, 0.0), (4068, 0.012286028136063797), (4069, 0.0), (4070, 0.049224452680340855), (4071, 0.005519418390633382), (4072, 0.0), (4073, 0.0), (4074, 0.02180496955516903), (4075, 0.0), (4076, 0.03866862779327378), (4077, 0.04002000494843045), (4078, 0.0), (4079, 0.0), (4080, 0.0), (4081, 0.0), (4082, 0.0), (4083, 0.0), (4084, 0.0), (4085, 0.0), (4086, 0.22003225574502908), (4087, 0.023705024196065006), (4088, 0.01239330925892417), (4089, 0.006073859350345786), (4090, 0.006285855522391494), (4091, 0.04631770380768595), (4092, 0.006601426460742325), (4093, 0.00640352987815528), (4094, 0.013417764650268633), (4095, 0.05032987742985415), (4096, 0.005053724913604512), (4097, 0.0), (4098, 0.012396288495173572), (4099, 0.014510264667490932), (4100, 0.029317951092217402), (4101, 0.02340871318671253), (4102, 0.0), (4103, 0.020457598244155734), (4104, 0.0), (4105, 0.0), (4106, 0.016767307425591037), (4107, 0.0), (4108, 0.0), (4109, 0.0), (4110, 0.0), (4111, 0.0), (4112, 0.014167119448829694), (4113, 0.0), (4114, 0.00543299565934469), (4115, 0.0), (4116, 0.013184571170734044), (4117, 0.0), (4118, 0.022806694386553278), (4119, 0.013441177186816991), (4120, 0.006502291016400175), (4121, 0.013754656866560662), (4122, 0.007774498680321284), (4123, 0.006159311173656427), (4124, 0.005519687641154483), (4125, 0.03293767600841879), (4126, 0.0), (4127, 0.0), (4128, 0.0361877469429792), (4129, 0.0), (4130, 0.015863817749942177), (4131, 0.006699023334959161), (4132, 0.013880040715325344), (4133, 0.006360666133717743), (4134, 0.008005444603646581), (4135, 0.0), (4136, 0.013433173819890282), (4137, 0.0), (4138, 0.014293203484394468), (4139, 0.021057365382637368), (4140, 0.0), (4141, 0.0), (4142, 0.038981138383337555), (4143, 0.04465890858793352), (4144, 0.006940170822492435), (4145, 0.0), (4146, 0.0), (4147, 0.015701353379955037), (4148, 0.01204609494942245), (4149, 0.0), (4150, 0.0), (4151, 0.0), (4152, 0.02868001315091108), (4153, 0.044849049297842294), (4154, 0.024975563766130544), (4155, 0.015262136384916419), (4156, 0.011303488372470418), (4157, 0.0), (4158, 0.01852123030479901), (4159, 0.012085138271103692), (4160, 0.009254376147447948), (4161, 0.0), (4162, 0.006714169415758549), (4163, 0.006763137044492625), (4164, 0.005327335730522974), (4165, 0.037380411730637574), (4166, 0.0), (4167, 0.0), (4168, 0.05294853954132365), (4169, 0.017017383181223398), (4170, 0.0), (4171, 0.05296083810218906), (4172, 0.0), (4173, 0.013796669469386782), (4174, 0.0), (4175, 0.0), (4176, 0.005363883109438664), (4177, 0.0), (4178, 0.006125176859915847), (4179, 0.0), (4180, 0.0), (4181, 0.04003501315714755), (4182, 0.0), (4183, 0.0), (4184, 0.0), (4185, 0.021480327645046014), (4186, 0.005730395229216231), (4187, 0.0), (4188, 0.014421165715330305), (4189, 0.005966908732642113), (4190, 0.0), (4191, 0.0), (4192, 0.0), (4193, 0.018504341864852572), (4194, 0.05217269681074125), (4195, 0.008249058834022972), (4196, 0.017974985617694044), (4197, 0.0), (4198, 0.0), (4199, 0.01800571317148155), (4200, 0.0), (4201, 0.0), (4202, 0.008753300718616401), (4203, 0.03675984243050277), (4204, 0.0), (4205, 0.0), (4206, 0.0), (4207, 0.08713124421354447), (4208, 0.007299192918180027), (4209, 0.01580130607246589), (4210, 0.014721724070255196), (4211, 0.019973621591466956), (4212, 0.0), (4213, 0.0), (4214, 0.0), (4215, 0.0), (4216, 0.005637403960926368), (4217, 0.0), (4218, 0.008073814744821831), (4219, 0.0074991332631316404), (4220, 0.0), (4221, 0.025610272986551108), (4222, 0.0), (4223, 0.0), (4224, 0.01419453345391933), (4225, 0.0), (4226, 0.0), (4227, 0.006439610042174896), (4228, 0.0), (4229, 0.0), (4230, 0.0), (4231, 0.006222673387145814), (4232, 0.0), (4233, 0.006630352301585937), (4234, 0.0), (4235, 0.005344870599320657), (4236, 0.013422935194265634), (4237, 0.0), (4238, 0.042382884401422904), (4239, 0.0), (4240, 0.08859761151812076), (4241, 0.006191118535784819), (4242, 0.007246980003871747), (4243, 0.0), (4244, 0.013854456422257072), (4245, 0.013854550099930734), (4246, 0.0), (4247, 0.013831884016328667), (4248, 0.0120218005790915), (4249, 0.012477883041214183), (4250, 0.02272504259928562), (4251, 0.005980618513328594), (4252, 0.0), (4253, 0.012335477056224552), (4254, 0.014776589424784967), (4255, 0.012259363408829844), (4256, 0.01368402892837271), (4257, 0.0), (4258, 0.0), (4259, 0.017745161728962733), (4260, 0.0), (4261, 0.020822969610485412), (4262, 0.0), (4263, 0.0), (4264, 0.03340632173471793), (4265, 0.006173552154472305), (4266, 0.03501600932438428), (4267, 0.0), (4268, 0.0), (4269, 0.05514681163390337), (4270, 0.015400536466185567), (4271, 0.0), (4272, 0.013769352144725367), (4273, 0.0), (4274, 0.02291302163377193), (4275, 0.006048330091809537), (4276, 0.03250886230855228), (4277, 0.0), (4278, 0.0), (4279, 0.04133420243468446), (4280, 0.0), (4281, 0.006742052073194031), (4282, 0.005369683249761798), (4283, 0.020741094606447283), (4284, 0.005723644176420792), (4285, 0.039781953969699906), (4286, 0.013633526791764258), (4287, 0.0), (4288, 0.02026739122605964), (4289, 0.015448013090182795), (4290, 0.005264942399800521), (4291, 0.0), (4292, 0.013272921508804), (4293, 0.006985422759303389), (4294, 0.01486527161195177), (4295, 0.014722694582912454), (4296, 0.0), (4297, 0.0), (4298, 0.01581979103400725), (4299, 0.005694623434430607), (4300, 0.008318593049282948), (4301, 0.0), (4302, 0.027406437003875492), (4303, 0.007926104268766148), (4304, 0.014338193290365108), (4305, 0.0), (4306, 0.0), (4307, 0.006549292488069757), (4308, 0.0), (4309, 0.005693564276924145), (4310, 0.01210566823751956), (4311, 0.0), (4312, 0.03642134347155798), (4313, 0.04482665904696284), (4314, 0.0), (4315, 0.0), (4316, 0.014918650699787104), (4317, 0.0), (4318, 0.0), (4319, 0.0), (4320, 0.0), (4321, 0.0), (4322, 0.005341104106314595), (4323, 0.0086941903789922), (4324, 0.03174127602887821), (4325, 0.026034920359878914), (4326, 0.0), (4327, 0.0), (4328, 0.011297538173159205), (4329, 0.0), (4330, 0.012902207132581407), (4331, 0.006719443598726753), (4332, 0.0), (4333, 0.0), (4334, 0.038803266660305494), (4335, 0.0), (4336, 0.0), (4337, 0.006477091622206965), (4338, 0.04423545748855612), (4339, 0.025247885659811127), (4340, 0.0), (4341, 0.009791111060189584), (4342, 0.0), (4343, 0.0), (4344, 0.034649659833607044), (4345, 0.005937910471751457), (4346, 0.025298893778894747), (4347, 0.008832662958243793), (4348, 0.014691488424739978), (4349, 0.0), (4350, 0.019569111424371552), (4351, 0.008851643698664423), (4352, 0.0), (4353, 0.016634772222078733), (4354, 0.008634642367593488), (4355, 0.0), (4356, 0.0148574116928466), (4357, 0.0), (4358, 0.0), (4359, 0.0), (4360, 0.005864513117046713), (4361, 0.0), (4362, 0.0057117899861230306), (4363, 0.0), (4364, 0.030088904458809917), (4365, 0.024345155968892675), (4366, 0.01683960917747128), (4367, 0.0), (4368, 0.029025379912649266), (4369, 0.01483544596089635), (4370, 0.013772011343459713), (4371, 0.0), (4372, 0.0), (4373, 0.021127987446731514), (4374, 0.005537281317352524), (4375, 0.005922998113897011), (4376, 0.02853341745151811), (4377, 0.005986526457086597), (4378, 0.03008126154924266), (4379, 0.012529929875545052), (4380, 0.005936514250030362), (4381, 0.0), (4382, 0.012469025654696214), (4383, 0.049258499206520395), (4384, 0.04192200915819258), (4385, 0.0), (4386, 0.0), (4387, 0.005687990993862889), (4388, 0.0), (4389, 0.006609328688627451), (4390, 0.0065051258334451545), (4391, 0.02203737998940768), (4392, 0.026312771268522238), (4393, 0.007061849962628249), (4394, 0.02128251119899661), (4395, 0.0), (4396, 0.0), (4397, 0.0), (4398, 0.0), (4399, 0.0), (4400, 0.0), (4401, 0.03358549520695335), (4402, 0.0053939566442832735), (4403, 0.007435105538447901), (4404, 0.0), (4405, 0.03632319850064678), (4406, 0.03670499546388399), (4407, 0.0), (4408, 0.0), (4409, 0.01564420232161175), (4410, 0.03996187926432127), (4411, 0.0), (4412, 0.0068333325283857415), (4413, 0.0), (4414, 0.0), (4415, 0.0), (4416, 0.025245666025032396), (4417, 0.0), (4418, 0.010840550494043342), (4419, 0.015130964558931141), (4420, 0.016845456856622438), (4421, 0.0), (4422, 0.0), (4423, 0.0), (4424, 0.0), (4425, 0.0), (4426, 0.005033301784847203), (4427, 0.0), (4428, 0.00783767054248971), (4429, 0.005435322627686209), (4430, 0.012661710877480808), (4431, 0.0062384608848748205), (4432, 0.01058504455318361), (4433, 0.0), (4434, 0.0), (4435, 0.006289888204872445), (4436, 0.013040518778835556), (4437, 0.0), (4438, 0.005592592541029502), (4439, 0.013339736448228435), (4440, 0.008005695773093052), (4441, 0.005541329719781356), (4442, 0.0), (4443, 0.03061138135221909), (4444, 0.032733471146849706), (4445, 0.004699459718370881), (4446, 0.01752493155286445), (4447, 0.017378411238037718), (4448, 0.0), (4449, 0.0), (4450, 0.010720259860985336), (4451, 0.0), (4452, 0.0), (4453, 0.045734965683000665), (4454, 0.009522578405506544), (4455, 0.009932961771288782), (4456, 0.014947245676262433), (4457, 0.008223650706246947), (4458, 0.0), (4459, 0.012405495967736702), (4460, 0.0), (4461, 0.0), (4462, 0.013666459825096462), (4463, 0.017732750896539647), (4464, 0.02381313771203275), (4465, 0.0), (4466, 0.05080327196857838), (4467, 0.04437079232020278), (4468, 0.024132701647767645), (4469, 0.0), (4470, 0.028126192697290102), (4471, 0.0), (4472, 0.021079091160341432), (4473, 0.0), (4474, 0.006142092949780048), (4475, 0.005245669794491119), (4476, 0.0), (4477, 0.007313497761976919), (4478, 0.008824665006160215), (4479, 0.011876479716428592), (4480, 0.0), (4481, 0.011554610785135963), (4482, 0.008186561721018937), (4483, 0.0), (4484, 0.0), (4485, 0.0), (4486, 0.006488610355520963), (4487, 0.0214837976164538), (4488, 0.005057336826583855), (4489, 0.02302659811011882), (4490, 0.04020245499814971), (4491, 0.015792540894046646), (4492, 0.008866781612850238), (4493, 0.03933456013616826), (4494, 0.006590029907722839), (4495, 0.0), (4496, 0.0), (4497, 0.0), (4498, 0.0), (4499, 0.0), (4500, 0.0), (4501, 0.008339181182170939), (4502, 0.0), (4503, 0.012196560767749706), (4504, 0.0), (4505, 0.0), (4506, 0.0), (4507, 0.0), (4508, 0.0), (4509, 0.014366940416690722), (4510, 0.035365925174525026), (4511, 0.0), (4512, 0.0065361960412491545), (4513, 0.02256702877490087), (4514, 0.0070558979818709545), (4515, 0.006491206731136687), (4516, 0.009464947912326912), (4517, 0.005868678021756836), (4518, 0.02273519468207693), (4519, 0.019247369175233058), (4520, 0.0), (4521, 0.0), (4522, 0.006357085021280997), (4523, 0.01347617742666421), (4524, 0.025741007196897675), (4525, 0.011808369022074973), (4526, 0.009414450401142945), (4527, 0.0067073815721625275), (4528, 0.0), (4529, 0.0), (4530, 0.0), (4531, 0.00646477777889715), (4532, 0.0), (4533, 0.027615094054077895), (4534, 0.011761962494992485), (4535, 0.03364564596767953), (4536, 0.0), (4537, 0.007593389853212116), (4538, 0.0), (4539, 0.0), (4540, 0.0), (4541, 0.0), (4542, 0.0), (4543, 0.011648406734767743), (4544, 0.01608631682458346), (4545, 0.023209416724311937), (4546, 0.03572715363340964), (4547, 0.025155949428517767), (4548, 0.005468247682365041), (4549, 0.006944458893863951), (4550, 0.014070543170975367), (4551, 0.0), (4552, 0.006046482894220069), (4553, 0.024335158747556096), (4554, 0.00693414737497759), (4555, 0.0), (4556, 0.0), (4557, 0.015395918783020338), (4558, 0.0), (4559, 0.0), (4560, 0.0), (4561, 0.0), (4562, 0.0), (4563, 0.013222903822871513), (4564, 0.01397505908443051), (4565, 0.0), (4566, 0.0), (4567, 0.0), (4568, 0.0058511823539338014), (4569, 0.0077482645958141996), (4570, 0.009866852184341619), (4571, 0.0), (4572, 0.0), (4573, 0.006068567098097091), (4574, 0.013806969265443062), (4575, 0.0), (4576, 0.020951200106263473), (4577, 0.0), (4578, 0.0), (4579, 0.006287669076608081), (4580, 0.014389524851969692), (4581, 0.03665867852824516), (4582, 0.0052033173396623285), (4583, 0.0), (4584, 0.015159968101910443), (4585, 0.0054584016617040855), (4586, 0.1144277668840059), (4587, 0.044046525357665275), (4588, 0.029112459078517693), (4589, 0.01698815027475682), (4590, 0.02237569895827942), (4591, 0.025884076291405496), (4592, 0.0), (4593, 0.006486549786950622), (4594, 0.0), (4595, 0.006312079299796423), (4596, 0.014080399543584367), (4597, 0.007253115254190686), (4598, 0.0), (4599, 0.0), (4600, 0.005728804002684187), (4601, 0.030148620636359896), (4602, 0.0), (4603, 0.0), (4604, 0.0), (4605, 0.0), (4606, 0.007925173947416113), (4607, 0.0), (4608, 0.005555171707875587), (4609, 0.014613870501167699), (4610, 0.01320780273647158), (4611, 0.0), (4612, 0.007262023086524991), (4613, 0.03112652035291133), (4614, 0.005571927077006591), (4615, 0.0), (4616, 0.0), (4617, 0.0), (4618, 0.0), (4619, 0.006906900493775693), (4620, 0.0), (4621, 0.019570596664446837), (4622, 0.023146974775788143), (4623, 0.0058123287004404655), (4624, 0.006116985433679787), (4625, 0.0), (4626, 0.02936472732429344), (4627, 0.0), (4628, 0.013309653174934268), (4629, 0.012615739069159002), (4630, 0.028022782219456307), (4631, 0.007601925364970977), (4632, 0.015202499525925601), (4633, 0.0), (4634, 0.0), (4635, 0.0), (4636, 0.0), (4637, 0.006921905963944341), (4638, 0.019891721952849918), (4639, 0.042039441421052134), (4640, 0.0), (4641, 0.0), (4642, 0.014271765878431857), (4643, 0.043816079773136944), (4644, 0.0), (4645, 0.0), (4646, 0.03186025369000681), (4647, 0.005660689831943741), (4648, 0.0), (4649, 0.017591229867151663), (4650, 0.024716781970105444), (4651, 0.0), (4652, 0.0), (4653, 0.014785813039579303), (4654, 0.0), (4655, 0.0), (4656, 0.006750347586923898), (4657, 0.0), (4658, 0.00560812149122428), (4659, 0.006755303069104173), (4660, 0.03408308498545008), (4661, 0.010719784291188505), (4662, 0.0), (4663, 0.008446044675213558), (4664, 0.010768166002468944), (4665, 0.02139402147632074), (4666, 0.04540856732696913), (4667, 0.0), (4668, 0.0), (4669, 0.006353345877134438), (4670, 0.02647611914722075), (4671, 0.0), (4672, 0.0), (4673, 0.01171303881222436), (4674, 0.004685199616217188), (4675, 0.0), (4676, 0.05342037058422695), (4677, 0.02793626587289213), (4678, 0.01914161956744364), (4679, 0.005128476832163365), (4680, 0.0), (4681, 0.0), (4682, 0.006074301636199469), (4683, 0.021879717895843323), (4684, 0.012341169836986753), (4685, 0.0), (4686, 0.0), (4687, 0.028229563483613447), (4688, 0.028430053837929938), (4689, 0.005322867176795305), (4690, 0.005870662488604575), (4691, 0.007901393995365436), (4692, 0.0), (4693, 0.0), (4694, 0.0), (4695, 0.006147727779994998), (4696, 0.0), (4697, 0.025692117383017146), (4698, 0.014590706062634991), (4699, 0.006581712124389973), (4700, 0.0), (4701, 0.0069524446901499115), (4702, 0.0), (4703, 0.0218082153149362), (4704, 0.0), (4705, 0.039614405085869456), (4706, 0.0), (4707, 0.0), (4708, 0.024797568447394513), (4709, 0.016438004348619296), (4710, 0.007373544612850098), (4711, 0.0), (4712, 0.0), (4713, 0.0), (4714, 0.024965321387545238), (4715, 0.005848442179631576), (4716, 0.006487988806849029), (4717, 0.0), (4718, 0.0), (4719, 0.0), (4720, 0.0), (4721, 0.026846751705374563), (4722, 0.0), (4723, 0.007653926718702518), (4724, 0.007190859173722438), (4725, 0.03426146167424861), (4726, 0.006731930955659076), (4727, 0.006724913199352178), (4728, 0.015908480186411944), (4729, 0.0), (4730, 0.0259764968698115), (4731, 0.0066046299908404426), (4732, 0.0), (4733, 0.010090594042888291), (4734, 0.0), (4735, 0.00690283892072294), (4736, 0.012887158073933787), (4737, 0.0), (4738, 0.015730157220988156), (4739, 0.012765497916981235), (4740, 0.0), (4741, 0.007133464115992556), (4742, 0.039923649447951834), (4743, 0.006108030966443509), (4744, 0.0), (4745, 0.0064578724463960685), (4746, 0.006616333924576541), (4747, 0.013917952268796127), (4748, 0.011167950793350166), (4749, 0.01730557086127581), (4750, 0.0), (4751, 0.0), (4752, 0.004484096898534882), (4753, 0.02445595152876872), (4754, 0.0959725742608372), (4755, 0.0), (4756, 0.0), (4757, 0.0061259151452741425), (4758, 0.0), (4759, 0.0)]\n"
          ]
        }
      ]
    },
    {
      "cell_type": "code",
      "source": [
        "len(Recommendation_Score)"
      ],
      "metadata": {
        "colab": {
          "base_uri": "https://localhost:8080/"
        },
        "id": "jIzDcu5vjVSI",
        "outputId": "bb69bc06-1a9c-48d1-88bd-77588feca02a"
      },
      "execution_count": null,
      "outputs": [
        {
          "output_type": "execute_result",
          "data": {
            "text/plain": [
              "4760"
            ]
          },
          "metadata": {},
          "execution_count": 42
        }
      ]
    },
    {
      "cell_type": "markdown",
      "source": [
        "### **Get All Movies Sort Based on Recommendation Score wrt Favourite Movie**"
      ],
      "metadata": {
        "id": "xzyuU6ivjZD-"
      }
    },
    {
      "cell_type": "code",
      "source": [
        "Sorted_Similar_Movies = sorted(Recommendation_Score, key = lambda x:x[1], reverse = True)\n",
        "print(Sorted_Similar_Movies)"
      ],
      "metadata": {
        "colab": {
          "base_uri": "https://localhost:8080/"
        },
        "id": "S9NKHwFYjk3V",
        "outputId": "0f008b9d-5965-4158-9505-b9132fc9c7d7"
      },
      "execution_count": null,
      "outputs": [
        {
          "output_type": "stream",
          "name": "stdout",
          "text": [
            "[(69, 1.0000000000000002), (75, 0.6377211480336923), (65, 0.5676675230049726), (78, 0.5544646529588741), (80, 0.5424491174909741), (67, 0.5225678536005721), (2233, 0.2539421668515507), (4086, 0.22003225574502908), (2471, 0.20312603405342294), (2099, 0.1823391524943373), (3323, 0.16332644042220698), (1296, 0.14541303850794848), (2539, 0.13661935772821923), (1230, 0.13461617800237272), (1692, 0.12157555623405829), (2442, 0.11960239306456642), (4586, 0.1144277668840059), (1991, 0.1141675640943994), (474, 0.11202364602618455), (3504, 0.10770374973039532), (1590, 0.10762844148232463), (2405, 0.10491895068087581), (546, 0.10463938971564954), (3180, 0.10299289588189253), (1822, 0.09623259601024195), (4754, 0.0959725742608372), (3501, 0.09223183558545946), (3021, 0.09144067948346102), (3542, 0.09024302747605537), (748, 0.09009152440601821), (4240, 0.08859761151812076), (380, 0.08796824508352472), (4207, 0.08713124421354447), (90, 0.0851738514334285), (1700, 0.08421409403106601), (815, 0.08415312730686261), (98, 0.08313541500679697), (494, 0.08171509987727561), (264, 0.08137981068524368), (3361, 0.08082041402501365), (2068, 0.08067678741624758), (3908, 0.07988474504001772), (1545, 0.07800143296705238), (1566, 0.07744945664987907), (913, 0.07744813018744195), (1789, 0.0769172902250686), (3193, 0.07634109571156038), (2330, 0.07509387709636606), (3923, 0.07467244637448625), (286, 0.07460534860590025), (2240, 0.07450576337157978), (3685, 0.07358568210468286), (1587, 0.07052269282357243), (3787, 0.06991843721169404), (1478, 0.0691387773360857), (28, 0.06777574584703054), (3747, 0.0671746258355285), (1025, 0.06690766346987127), (1396, 0.06678846827101512), (509, 0.06672299659468389), (537, 0.06616787190408581), (992, 0.06567243353609778), (1799, 0.06537478288386596), (2952, 0.06517058469478032), (1677, 0.06508643429952905), (303, 0.06477162846856724), (1069, 0.06438593983348756), (1696, 0.06433958570752045), (2898, 0.0632397096623368), (1903, 0.06212709889734652), (872, 0.061843708869546474), (2451, 0.061806418074866164), (152, 0.06176444396489565), (603, 0.061723509923078), (1535, 0.06139600894676695), (3604, 0.061019814176345194), (1559, 0.061019021938282125), (1055, 0.06095324965933107), (1102, 0.060772898581208705), (1007, 0.0601232237376847), (2232, 0.05997251367991292), (3202, 0.05968590282462639), (1791, 0.05950770227746396), (2902, 0.0587479593128438), (1466, 0.05799410525625696), (1860, 0.057958613054970534), (1269, 0.05793784609979541), (19, 0.05765968156229871), (811, 0.057589620121459864), (1134, 0.05756729090230961), (491, 0.05753593133568539), (2982, 0.05740097595908717), (1083, 0.057356669960490395), (1743, 0.05698409358950319), (3225, 0.05692777325461983), (686, 0.05692685109095916), (2180, 0.05690026131747206), (18, 0.056796746503834546), (497, 0.05678121637092872), (3634, 0.05644003985696888), (2342, 0.05630982153754768), (2790, 0.05617697551119981), (1651, 0.05609164234154438), (3834, 0.055954730098923836), (756, 0.055587142690570406), (2126, 0.05531236681950529), (3593, 0.05523902800635207), (3965, 0.05517066747637423), (2950, 0.05514752642394332), (4269, 0.05514681163390337), (3469, 0.055115084364288795), (2230, 0.05508164194805937), (600, 0.05502791145842674), (1082, 0.05461667203410174), (3693, 0.05444129199394995), (4046, 0.05441556728631494), (3133, 0.05441391330215986), (3100, 0.0542989827132963), (565, 0.05395548947631023), (608, 0.05351361371970687), (4676, 0.05342037058422695), (94, 0.05316274539056579), (1377, 0.053020539442325654), (4171, 0.05296083810218906), (4168, 0.05294853954132365), (1197, 0.05222817566771583), (4194, 0.05217269681074125), (3657, 0.05208964185022062), (128, 0.05191265409337089), (187, 0.051851947093195495), (1, 0.05183353554774124), (467, 0.05131881960081379), (3744, 0.05130180071665129), (3185, 0.0512935249094123), (1468, 0.051204641997097615), (2691, 0.051202871896499955), (102, 0.05112383648837865), (1934, 0.05110413317995481), (449, 0.050970136440591986), (3773, 0.05091510227969723), (4466, 0.05080327196857838), (977, 0.05079611239280267), (681, 0.050465002614116), (1011, 0.05033999331575849), (390, 0.05033342494748026), (4095, 0.05032987742985415), (2250, 0.05023469724321829), (1809, 0.05023126998496372), (973, 0.050217226410528906), (2033, 0.050205042133607665), (2269, 0.05020080957901282), (3850, 0.050008754670798856), (4041, 0.04977867994799413), (3213, 0.04971269224355063), (1640, 0.049618950842032626), (2689, 0.049604958067422496), (2088, 0.049584772180058835), (601, 0.04950553715267833), (3051, 0.04949919662924306), (2843, 0.0494983763009546), (3123, 0.049442368687106705), (619, 0.04940694493599407), (932, 0.04927890227969134), (4383, 0.049258499206520395), (4070, 0.049224452680340855), (241, 0.049199852848802295), (1760, 0.04904379530488535), (3513, 0.049028041211167855), (1114, 0.04890863588852591), (1381, 0.04837391079736614), (3215, 0.04831425226502951), (3623, 0.048272687286333535), (3393, 0.048265372221585424), (3001, 0.04822483273161239), (747, 0.04822350283811573), (3080, 0.048211902980435886), (2772, 0.04809663876812033), (2605, 0.048056543875071106), (1179, 0.047827531253567646), (3916, 0.047819001194580386), (305, 0.04778774160072418), (944, 0.04771050344777888), (1239, 0.047691360660969004), (451, 0.04753139508807531), (443, 0.04749945932353958), (4047, 0.04745624725478428), (666, 0.04743486854826924), (742, 0.047414667945174176), (2061, 0.04739603007843673), (472, 0.04739411154458664), (602, 0.04738068688141497), (118, 0.04734008394589595), (1254, 0.047133109050242), (599, 0.04689416162253032), (919, 0.046886427607148534), (3568, 0.04685511334074519), (2766, 0.04678453018951098), (232, 0.04671120462737381), (1575, 0.04669947012058602), (856, 0.046638018581640114), (963, 0.04662120622445863), (3616, 0.04656852875620462), (3783, 0.04641817552255769), (1554, 0.04641140990016371), (3555, 0.0463606928151591), (715, 0.04634751118615042), (2644, 0.046324664668451185), (4091, 0.04631770380768595), (2303, 0.04615138594037614), (3452, 0.046018542965914934), (680, 0.04589825465759154), (3483, 0.045799274370814956), (1137, 0.04573637662304458), (4453, 0.045734965683000665), (2136, 0.045685701856094565), (231, 0.045494278985290605), (545, 0.045479321587143864), (1150, 0.04546654739032443), (4666, 0.04540856732696913), (6, 0.04535433074740018), (2432, 0.04510527155765897), (3131, 0.045098977104516796), (692, 0.04499549476365129), (2421, 0.044981386236639775), (1280, 0.044887270479160135), (4153, 0.044849049297842294), (4313, 0.04482665904696284), (295, 0.044815358278198894), (2762, 0.04478554133996493), (4143, 0.04465890858793352), (1904, 0.04457949904806413), (4467, 0.04437079232020278), (2390, 0.044268496770799914), (4338, 0.04423545748855612), (1436, 0.044221871704730666), (2413, 0.04421694093772134), (3734, 0.04413555913148435), (4587, 0.044046525357665275), (3134, 0.04399644288626711), (4643, 0.043816079773136944), (3907, 0.04373431757072855), (3849, 0.043683869195910774), (179, 0.04367580564756893), (181, 0.043654101771635756), (189, 0.04365196766096284), (2944, 0.04363195303893633), (918, 0.04362376527065145), (1675, 0.043576781445909735), (347, 0.043523848213607524), (3206, 0.043509731049387615), (3408, 0.04341631446161934), (95, 0.04336189134723449), (2793, 0.04335165649767547), (774, 0.04327527363243365), (902, 0.043241466297417756), (762, 0.043230823236432056), (2645, 0.043165410706926644), (656, 0.0430333805350606), (3597, 0.04298494761688999), (3897, 0.04297677460966255), (466, 0.04296875504144118), (3680, 0.042838780407699464), (469, 0.042826475675431984), (79, 0.04282142882575432), (745, 0.04256383011412926), (3718, 0.04246715032408767), (4238, 0.042382884401422904), (2501, 0.04235651567540557), (777, 0.04234678901167879), (39, 0.04232679442661297), (625, 0.04224227805561351), (3367, 0.0422200753181657), (1262, 0.04204141132327547), (4639, 0.042039441421052134), (3894, 0.042032734406197945), (663, 0.041991588360673134), (4384, 0.04192200915819258), (3532, 0.041817576555960786), (2526, 0.04170393921615844), (486, 0.041699176995547156), (3886, 0.04165788511455139), (3003, 0.04160034237509763), (3972, 0.04160027243797567), (763, 0.04157842197692313), (883, 0.04147899738300046), (300, 0.041430768972668626), (1263, 0.041418419882117724), (3276, 0.04137515693436812), (4279, 0.04133420243468446), (3588, 0.041209685503744216), (2398, 0.041088745951514564), (1810, 0.04106762905221385), (555, 0.0410207498729643), (3231, 0.04101139329729556), (3045, 0.040990617474818594), (3913, 0.04096198414957237), (1281, 0.040892680630571235), (1039, 0.04086263672171689), (1211, 0.04076196155477335), (3889, 0.040716603858177526), (3578, 0.040699865073696245), (2573, 0.04068793160339585), (261, 0.040670315612044775), (2038, 0.04059908656914458), (2479, 0.040557945562675), (91, 0.040544511225971476), (410, 0.04043471930914416), (93, 0.0403744397062832), (1314, 0.04029698931086082), (1641, 0.040266211406486396), (3993, 0.04025376757595416), (2635, 0.040239825313177956), (4490, 0.04020245499814971), (435, 0.040151432854064785), (4054, 0.04006198394719919), (4181, 0.04003501315714755), (4077, 0.04002000494843045), (260, 0.03998247473024666), (4410, 0.03996187926432127), (1154, 0.03993410797913753), (4742, 0.039923649447951834), (591, 0.03988680703339334), (3869, 0.03981472858400484), (4285, 0.039781953969699906), (1091, 0.03976267156023508), (956, 0.03968908330414575), (4705, 0.039614405085869456), (2715, 0.03957347961395023), (1672, 0.03956896404121962), (1229, 0.03955012508928711), (3275, 0.03951055672283611), (3022, 0.039437760194941274), (2860, 0.039406159698650634), (468, 0.03935685452075162), (4493, 0.03933456013616826), (1308, 0.03932249171570278), (2544, 0.0392660904017075), (3977, 0.03922720179563768), (173, 0.039221171710884316), (3353, 0.03918031954622797), (46, 0.039179679338906585), (990, 0.039176677171363625), (475, 0.03909423092121587), (1305, 0.03903063150246634), (2123, 0.03900805913635915), (2873, 0.039005327401606935), (1703, 0.03899275986579818), (4142, 0.038981138383337555), (2668, 0.038979261454677776), (1095, 0.03889022986908819), (4334, 0.038803266660305494), (2729, 0.03874875277371069), (4076, 0.03866862779327378), (3782, 0.038652171475847624), (397, 0.03854217547033345), (3132, 0.038507543193472875), (110, 0.03827308942740557), (912, 0.03826630467293646), (8, 0.03826419901017991), (2283, 0.038251071047254316), (3063, 0.03825076211383852), (3722, 0.03823199485624201), (1871, 0.03814559764184614), (3968, 0.038141054331197605), (31, 0.03812170384214554), (3269, 0.03811248914735469), (2013, 0.038111672305048465), (1519, 0.03797583929904643), (853, 0.03793002777139949), (3714, 0.03792966522551226), (2496, 0.03790702448725587), (1976, 0.037869463520828366), (1662, 0.03777902508833239), (3043, 0.03771967598045496), (3798, 0.037674122314816504), (1555, 0.03764617900708567), (3743, 0.037580793292384326), (3795, 0.03757086679629228), (954, 0.037537838939117045), (151, 0.03751890974241548), (150, 0.037505921037672786), (452, 0.037468358015580946), (3463, 0.037466687072352706), (4165, 0.037380411730637574), (1345, 0.03736533497732334), (59, 0.037322493580380145), (27, 0.03728549546973496), (2254, 0.03724067960072881), (572, 0.03723388372379434), (3840, 0.03723313533803801), (73, 0.03718875901887205), (2021, 0.037156016767872516), (3802, 0.03711951202269238), (3690, 0.03711763046351456), (1111, 0.037115254147887314), (2955, 0.03708951287790707), (1108, 0.03705906913318803), (1498, 0.03704358556708809), (3372, 0.03700356847018508), (1205, 0.03692277355194182), (142, 0.03690673011309417), (1931, 0.03686845425305234), (3516, 0.036868285296772815), (270, 0.03684861248995787), (2277, 0.036817515234840406), (3467, 0.0367846527550427), (4203, 0.03675984243050277), (550, 0.036717962058323006), (4406, 0.03670499546388399), (4581, 0.03665867852824516), (2929, 0.03662666195755304), (1245, 0.03662328061208908), (1772, 0.03657951925220481), (2740, 0.03657456037084877), (258, 0.03656819658500363), (1515, 0.036557037696300525), (2521, 0.036539759953362276), (3468, 0.03653527925935419), (3692, 0.0364999968172265), (3557, 0.03646428429724334), (3427, 0.03645756905635685), (2067, 0.03644294568334125), (273, 0.03643521928875267), (2927, 0.036427639829194405), (575, 0.036427191812287055), (4312, 0.03642134347155798), (1151, 0.03641909108333186), (514, 0.03637356096446434), (4405, 0.03632319850064678), (979, 0.036313793023333575), (3982, 0.03631127183441632), (234, 0.036279599645128606), (751, 0.03627418920873819), (1015, 0.03625666758549639), (85, 0.036254966017134176), (4128, 0.0361877469429792), (2850, 0.036098284997076666), (3997, 0.036089370941148946), (368, 0.036082628013097494), (674, 0.03600355445224179), (965, 0.03588283863323538), (936, 0.03588053124791012), (2597, 0.03585161706101551), (3937, 0.03584558408574821), (220, 0.035839546010856566), (3405, 0.03582802429819515), (613, 0.03580009348136639), (1502, 0.03579854780501797), (1358, 0.0357958097805714), (4546, 0.03572715363340964), (891, 0.03570890390166986), (1948, 0.035670905148378604), (2044, 0.035627216241607904), (3990, 0.035597670070590844), (2713, 0.03558111410278926), (567, 0.035418190467294136), (4510, 0.035365925174525026), (314, 0.03533635087863958), (1315, 0.035328360666708594), (265, 0.03531647158018982), (3514, 0.035290718366534635), (1384, 0.03522671997411056), (1592, 0.03522537082093734), (130, 0.03517304336656463), (2050, 0.03517213914834526), (1655, 0.03511872434451456), (1469, 0.03509440173336964), (1645, 0.03508764085993692), (4266, 0.03501600932438428), (2642, 0.03490137142159822), (3191, 0.03489972832248178), (320, 0.03484993080062232), (198, 0.03484442925727141), (1202, 0.034833908125667196), (1735, 0.03480183128408999), (1210, 0.034783039634873676), (3674, 0.03466566171317944), (4344, 0.034649659833607044), (3294, 0.03462764694580313), (1443, 0.034604875109136096), (1412, 0.034572882217819303), (1174, 0.0345583217109499), (1530, 0.03452155539512524), (3828, 0.03450194588562933), (776, 0.03448382291773535), (171, 0.034476572191540565), (199, 0.0344524973744552), (1413, 0.034404103885029846), (2091, 0.034371531494096906), (263, 0.03437090971243818), (1295, 0.03436113436578346), (3888, 0.03433514120270753), (1302, 0.03428583337779234), (4725, 0.03426146167424861), (1782, 0.0342274395580307), (2445, 0.034224596400205545), (1740, 0.034215015539850874), (662, 0.03416126376530112), (1579, 0.03414002583537961), (1261, 0.034113101431318626), (2393, 0.03409749335918035), (4660, 0.03408308498545008), (1074, 0.03400382388812361), (1327, 0.0339868076110727), (1129, 0.0339124949987454), (374, 0.03388311015417424), (1895, 0.03387639537437291), (135, 0.03387054099941586), (3160, 0.0338556887618274), (1649, 0.03384923632119386), (779, 0.03383339819249699), (2814, 0.0337765631819865), (108, 0.03375938552526988), (1966, 0.033718882389233415), (1027, 0.03369145832472748), (612, 0.033670378175274636), (4535, 0.03364564596767953), (4401, 0.03358549520695335), (3114, 0.03357656759758872), (3416, 0.033509408016933084), (1354, 0.03350520408262018), (375, 0.03350236401644805), (3144, 0.03346697293008238), (3502, 0.033454698925214216), (3340, 0.03345229798508496), (379, 0.033448408792425166), (676, 0.03341369975620312), (4264, 0.03340632173471793), (315, 0.033344747056196826), (422, 0.03328993231216254), (2245, 0.0332893078997646), (106, 0.033273162591578996), (1982, 0.03326751862053522), (2125, 0.033218139263695545), (84, 0.033191906152354386), (1653, 0.033057940915941546), (2749, 0.03305513521208066), (2904, 0.032984832417964585), (2178, 0.03297350757244961), (2170, 0.03294929093739053), (4125, 0.03293767600841879), (2022, 0.03293406635930633), (3648, 0.03281266185985578), (2895, 0.03280790349380953), (1256, 0.03276440317184191), (1249, 0.03275543560220279), (795, 0.03274844617901395), (4444, 0.032733471146849706), (3342, 0.03272006921423691), (3720, 0.03271405135856392), (1688, 0.032580902000564495), (1828, 0.03255978521175369), (3356, 0.03255148268371698), (307, 0.0325496368590082), (842, 0.032534337663801434), (1014, 0.03251662673165427), (4276, 0.03250886230855228), (1276, 0.032496504089455626), (2680, 0.03249480582746827), (3605, 0.03240727193004163), (1846, 0.03238331310282977), (2089, 0.0323659420921602), (2472, 0.03234776925222668), (561, 0.032300947246369845), (2711, 0.03225618106893262), (3846, 0.0322374360308762), (1467, 0.032223958336507444), (614, 0.03220198770329189), (905, 0.032194151230025406), (1572, 0.03218883087496695), (125, 0.032133683229266394), (247, 0.03211826820151282), (1701, 0.03200803932233805), (4037, 0.03196888575742401), (1940, 0.031884643233203155), (1068, 0.03187387355689283), (2899, 0.03186708469393622), (4646, 0.03186025369000681), (2337, 0.03182569311544575), (938, 0.031788038174756846), (1013, 0.03176280683707686), (1845, 0.03175084024439217), (1109, 0.031749044439357596), (4324, 0.03174127602887821), (1398, 0.03172925778382826), (1351, 0.031724626384705384), (1625, 0.031682444625307525), (2287, 0.03166590877351531), (974, 0.0316452898473841), (1408, 0.03163684027403545), (3520, 0.03163580350126841), (2682, 0.031628055479469966), (3047, 0.03151165296046818), (911, 0.03149340721243012), (855, 0.031450724435792665), (876, 0.0314396019603534), (2016, 0.03140474766019442), (2718, 0.031382559147417395), (1181, 0.03137042835076859), (2810, 0.03134839519271011), (2513, 0.031298576934388575), (107, 0.031239914287410606), (3173, 0.031231288670385857), (3867, 0.0312249912674801), (1911, 0.031216805363966486), (1195, 0.031159771404977873), (2060, 0.03115499879356645), (2742, 0.031141096988160234), (4613, 0.03112652035291133), (1745, 0.031087416089138217), (160, 0.03107229927498263), (528, 0.03104526883856746), (3136, 0.031004422813801683), (3129, 0.03100246716331243), (1716, 0.03099767138112332), (3158, 0.030978702242648825), (3385, 0.030977925651485536), (2646, 0.030939234635851548), (1802, 0.030935273692901152), (647, 0.030913952300374914), (1486, 0.030909058401961613), (3453, 0.030870334739116094), (316, 0.03080899988941629), (670, 0.03079540689576465), (3247, 0.030659605211726608), (306, 0.03062820334281903), (4443, 0.03061138135221909), (3797, 0.030585924919963724), (3181, 0.030583774326334728), (2381, 0.03055931909267743), (553, 0.030547834591523222), (2124, 0.030538464519445092), (1056, 0.030536483319372566), (981, 0.030519116531060084), (1265, 0.03050387128293926), (997, 0.03048823970137805), (639, 0.030470647332859944), (2686, 0.030446465335988486), (2500, 0.030424514036636947), (334, 0.03041805255293998), (191, 0.030246125311586755), (802, 0.030242951846515164), (1908, 0.030220110470883216), (333, 0.030153121783852963), (4601, 0.030148620636359896), (2880, 0.0301467235745909), (376, 0.030143855721665308), (70, 0.030126887943066206), (1057, 0.030115321761673048), (731, 0.03010774267209804), (2887, 0.030095330546367677), (4364, 0.030088904458809917), (4378, 0.03008126154924266), (610, 0.030077573014427823), (2804, 0.03006954872088516), (3059, 0.030067357570621955), (1022, 0.02992286753801953), (952, 0.02987816381211698), (2599, 0.029873318331177453), (495, 0.029847676445284084), (1031, 0.029840724495723153), (3115, 0.029819647477651003), (1341, 0.029809757897542963), (284, 0.02980308877404041), (448, 0.02976806175142482), (3724, 0.02975948684899532), (704, 0.029720743489757926), (539, 0.02960251833643994), (1140, 0.029594473970379252), (3000, 0.029559671684240084), (1238, 0.0294989841470191), (724, 0.029496643423718855), (57, 0.029476436995209538), (2217, 0.029382020245942567), (4626, 0.02936472732429344), (4100, 0.029317951092217402), (1157, 0.02931617867551634), (2313, 0.029311460010343113), (3709, 0.029299097356005624), (3473, 0.029292385423752496), (516, 0.02925527692789765), (826, 0.029231580476118596), (768, 0.029209208136452766), (1536, 0.02918554944087498), (1266, 0.029179830171629145), (517, 0.029166620419101903), (1546, 0.029163150645985812), (2484, 0.029156486535166597), (1552, 0.029151165484256912), (3574, 0.029150802139760505), (2775, 0.02911614251217661), (4588, 0.029112459078517693), (3204, 0.029063125244767125), (3641, 0.02903166031020253), (3741, 0.02902643450596107), (4368, 0.029025379912649266), (3141, 0.028961096376614395), (1188, 0.028910701597714437), (3241, 0.028905985245310076), (386, 0.028851198657007908), (2622, 0.028760944310481346), (879, 0.02873668110340444), (3105, 0.028704489666985696), (4152, 0.02868001315091108), (2781, 0.028679917843544185), (2640, 0.028678447771383564), (1342, 0.028677641557845572), (1971, 0.02860363828803116), (490, 0.028588530855094482), (966, 0.028562667476109443), (606, 0.02854137528062756), (4376, 0.02853341745151811), (45, 0.028529472973708607), (1215, 0.02852075716598071), (906, 0.028512692973222908), (1664, 0.028469958409090782), (3233, 0.028434567601436124), (4688, 0.028430053837929938), (3549, 0.028426667081146172), (3332, 0.028402402730942067), (1470, 0.028370546868544164), (137, 0.028358499058549334), (3027, 0.028322727712381753), (1244, 0.028271992605912163), (1569, 0.02826002158998079), (1003, 0.028251766357034226), (2156, 0.028238682446895078), (2591, 0.028237553558671347), (4687, 0.028229563483613447), (980, 0.02819538615419986), (903, 0.028177615470923918), (4061, 0.028170317061136704), (750, 0.028158618300662436), (418, 0.028144188637285277), (4470, 0.028126192697290102), (2055, 0.02811626985846377), (533, 0.02810570462736819), (1616, 0.02807834566938855), (3576, 0.02807203695953573), (568, 0.028057275082874644), (2915, 0.02804592411296254), (2227, 0.028041767844856996), (2278, 0.028040427486322544), (1455, 0.028034868288151604), (3219, 0.028028473383629817), (4630, 0.028022782219456307), (3955, 0.028008301123241038), (2450, 0.027944537561284608), (4677, 0.02793626587289213), (1771, 0.0279146952428216), (1678, 0.027908609226825105), (259, 0.027905600164517666), (3270, 0.027883810518197057), (2286, 0.02786752090682963), (3432, 0.027863361750531612), (1251, 0.027851722409772874), (1930, 0.027844661608871956), (3005, 0.027839705660969702), (2753, 0.027727943969780882), (76, 0.027660319859172833), (921, 0.02764266098073115), (935, 0.027626106290182494), (4533, 0.027615094054077895), (1488, 0.027613698330958864), (2040, 0.027606326964112124), (2695, 0.02757842276075572), (1164, 0.027564684322151856), (389, 0.02751686762359757), (460, 0.02751119887560131), (3635, 0.027509973800538767), (2606, 0.027469184315153276), (4302, 0.027406437003875492), (3368, 0.027401659241662046), (2280, 0.027379871504650932), (2825, 0.027371596662545336), (1387, 0.027309220272205566), (769, 0.02727784143485389), (1650, 0.027265009162629167), (1162, 0.02726206590567308), (931, 0.027261939221220312), (554, 0.027225361412626284), (3963, 0.027203942997020218), (2961, 0.027112513730673582), (3642, 0.027097193789016323), (2687, 0.027042541969676013), (3998, 0.027039239970448336), (3671, 0.027025401419442027), (1939, 0.027003448647226105), (2078, 0.026960662912865193), (995, 0.026926952322925368), (1788, 0.026895302493398734), (1842, 0.026893607743371458), (1285, 0.026870369272865763), (3595, 0.02685291979008576), (4721, 0.026846751705374563), (661, 0.026830851282399253), (3480, 0.026820088195884675), (3735, 0.02681187261916937), (2062, 0.026763149007064144), (3205, 0.026749579893180567), (3583, 0.026745367848645386), (633, 0.026725971259393144), (1146, 0.02672483650750916), (72, 0.026713448959039637), (1861, 0.026706714454206623), (2075, 0.026661317629326005), (252, 0.026626975700474155), (3083, 0.026616613302753247), (1864, 0.026584367854620244), (1365, 0.0265784911265367), (1725, 0.026523125512450445), (3089, 0.026494467215769032), (4670, 0.02647611914722075), (3228, 0.02646676996184272), (2285, 0.026457591021253907), (1301, 0.026429107589215326), (396, 0.026413758780274493), (1125, 0.026413273563467295), (1585, 0.026391043735300965), (2851, 0.02638760812366272), (3020, 0.026357003947334423), (1347, 0.02635048450936778), (2618, 0.026323955741049405), (4392, 0.026312771268522238), (3096, 0.02629663097738378), (2117, 0.026291188050152788), (759, 0.02628580375569779), (2205, 0.02627128025621441), (2837, 0.02627047976229026), (2756, 0.026251008160857993), (257, 0.02624541866672132), (363, 0.026215957906650683), (492, 0.026203807548500047), (3466, 0.02620005496079661), (914, 0.02618600457658376), (4325, 0.026034920359878914), (2679, 0.02600975742146196), (2236, 0.025981805691127267), (4730, 0.0259764968698115), (1132, 0.02592668831719709), (4591, 0.025884076291405496), (364, 0.02586107959469591), (3528, 0.025853999164501464), (1066, 0.025849151972110622), (2177, 0.02584298929670709), (2990, 0.025786035473649504), (3966, 0.0257777931996215), (4524, 0.025741007196897675), (1433, 0.02571430879914497), (4697, 0.025692117383017146), (571, 0.025690289644336704), (2587, 0.025620549609214643), (4221, 0.025610272986551108), (1333, 0.025584188960916847), (3788, 0.025501011803506002), (3079, 0.025472837593869105), (2210, 0.025406460422568472), (1657, 0.02534824946302158), (2058, 0.02532752823241202), (2158, 0.025314059397961403), (4346, 0.025298893778894747), (1475, 0.025258956393955437), (4339, 0.025247885659811127), (4416, 0.025245666025032396), (101, 0.02524476925171036), (3524, 0.025234025784001413), (3860, 0.02523332943538008), (1510, 0.025226732453904985), (170, 0.02521626134979727), (672, 0.02519710535675699), (511, 0.025172499243266283), (1932, 0.025159549652575355), (4547, 0.025155949428517767), (3311, 0.025063658475417326), (3287, 0.025048265312040508), (2767, 0.0250045758562489), (801, 0.024989766329513337), (4154, 0.024975563766130544), (4714, 0.024965321387545238), (721, 0.024876256522101077), (1220, 0.02486067542945472), (3721, 0.024844812927692857), (4708, 0.024797568447394513), (2357, 0.024755676350503512), (2703, 0.024730517364002804), (4650, 0.024716781970105444), (3448, 0.024683412107303355), (2724, 0.02456054754966317), (4753, 0.02445595152876872), (1706, 0.024450312588648913), (1798, 0.024442455178239744), (182, 0.024422841692659576), (162, 0.024422171887751726), (1495, 0.024408356107864723), (1608, 0.024397074380359273), (2316, 0.024387455531435252), (4365, 0.024345155968892675), (4553, 0.024335158747556096), (2921, 0.024293589951375486), (2304, 0.024258014664354167), (1212, 0.02421249689995013), (1175, 0.024212090139172762), (1836, 0.02421167766596596), (3688, 0.02416232875604971), (2567, 0.024145732828814596), (4468, 0.024132701647767645), (1925, 0.02412837557219489), (948, 0.024118531549987138), (1283, 0.02410396440082053), (237, 0.02409615202547958), (2364, 0.024092550841345435), (394, 0.023985523487419055), (733, 0.023914594855730387), (1511, 0.023886523184199735), (1046, 0.023838464712946057), (1709, 0.023825679062849592), (4464, 0.02381313771203275), (269, 0.02377482660727249), (1764, 0.023758543875202168), (1379, 0.02375697679567315), (3515, 0.023708247795380003), (4087, 0.023705024196065006), (1897, 0.023646225570862264), (2427, 0.023635032551041397), (2114, 0.02362847471838399), (1120, 0.023564663835657824), (642, 0.023564145047741167), (430, 0.023470698207354403), (10, 0.023442037229107152), (4101, 0.02340871318671253), (405, 0.0233773659582876), (44, 0.023365406800323868), (2097, 0.023339018366281383), (3873, 0.023317067098017365), (413, 0.023285305352653052), (3049, 0.023253835944006603), (2086, 0.023224903168284676), (4545, 0.023209416724311937), (3143, 0.023207878591048243), (868, 0.02320078718359293), (74, 0.023191773473048148), (622, 0.023173866216260764), (4015, 0.023152004215722992), (4622, 0.023146974775788143), (2555, 0.023138418117126577), (3695, 0.023132816558548014), (2190, 0.023118281983561993), (1713, 0.02310514516080795), (424, 0.023103226486492996), (2844, 0.023101587889271157), (3048, 0.023099265722250666), (425, 0.023083181867954737), (1300, 0.023067901776936434), (2549, 0.023060155571166856), (1734, 0.02304908540422023), (2355, 0.023043070530933178), (2439, 0.02304281933266215), (3331, 0.023040174616207804), (1896, 0.023032278623818125), (4489, 0.02302659811011882), (24, 0.02301197909700517), (1234, 0.022990531745234265), (3484, 0.022985922419427103), (2697, 0.022978937010540837), (3305, 0.02297890057027318), (2789, 0.022974542498614317), (421, 0.022970750268612096), (1779, 0.02296556883854292), (2288, 0.02296461762844665), (1847, 0.022957500276770945), (2849, 0.022952738883824427), (3904, 0.022940235733464542), (1902, 0.022923471662148087), (319, 0.022918604943934065), (2791, 0.022917009801143896), (4274, 0.02291302163377193), (2066, 0.022889930545885128), (1192, 0.022849810756462204), (1233, 0.022847942258533448), (4118, 0.022806694386553278), (3919, 0.02279544583178311), (0, 0.02279024863203891), (1374, 0.022784630742970904), (3957, 0.02278196846625184), (2090, 0.022758562370294465), (440, 0.022738136273372466), (4518, 0.02273519468207693), (4250, 0.02272504259928562), (4007, 0.022715976778868545), (1613, 0.022681934827213885), (3382, 0.022654717441338734), (1893, 0.02262114343488876), (438, 0.022595648996103442), (884, 0.02258831936370693), (4513, 0.02256702877490087), (1588, 0.022538469970485617), (784, 0.022511530753722836), (2072, 0.022497201402346664), (2428, 0.02245519841745143), (778, 0.022441303590096617), (293, 0.02237928739621695), (4590, 0.02237569895827942), (377, 0.022369809676675737), (3766, 0.022334218528078896), (875, 0.022332327079348152), (3756, 0.022315146296995887), (1172, 0.022262606292630882), (4025, 0.02225048011435771), (2708, 0.022227132780513453), (1250, 0.02222557857278882), (635, 0.02221494002323053), (1942, 0.022188311665332076), (1765, 0.022182246298675656), (1101, 0.022164709215942557), (2017, 0.02215721700809297), (1361, 0.022150714059114313), (2582, 0.022149154909111846), (3163, 0.022146920349096468), (2249, 0.022117318219864828), (4004, 0.02211727606711554), (877, 0.022103537249945755), (4014, 0.02206358525738789), (2798, 0.022046900603459815), (4391, 0.02203737998940768), (1294, 0.022017241703464162), (2625, 0.022007394365417644), (283, 0.021998234857446945), (1473, 0.021990778559619544), (864, 0.02193830488019308), (378, 0.021899671949816523), (4683, 0.021879717895843323), (1505, 0.021869401158959374), (104, 0.021848115119308384), (1288, 0.021828848828164406), (1472, 0.021821476677310242), (4020, 0.0218141167351035), (4703, 0.0218082153149362), (4074, 0.02180496955516903), (2998, 0.021789443989591185), (1131, 0.021783507488832867), (1232, 0.021737088842340747), (1812, 0.021736023727042544), (3438, 0.021722186933388208), (3594, 0.02172013129942094), (1304, 0.021718265833074245), (2326, 0.021703493318160502), (2026, 0.02169379281427472), (1253, 0.021690339066456867), (2522, 0.021685796836193115), (439, 0.021677947434042655), (3665, 0.021659383798628643), (22, 0.021651895718226427), (1638, 0.021626845265264615), (683, 0.021624632672026866), (758, 0.0216137509046456), (1275, 0.021609831160239405), (208, 0.021602177802941443), (1099, 0.021575965966634143), (2208, 0.02156586594019562), (3373, 0.021559395905695757), (880, 0.02149578096626544), (4487, 0.0214837976164538), (4185, 0.021480327645046014), (1889, 0.021471539359001913), (1225, 0.021465438683650983), (1297, 0.02146534192886248), (2589, 0.021461535030877037), (1380, 0.021459135372398297), (1411, 0.021454163702925372), (718, 0.021448788100203252), (3598, 0.021448658770327454), (1185, 0.021437051426998865), (1227, 0.02142561793128749), (1811, 0.021397225978415955), (3865, 0.021395748528179638), (4665, 0.02139402147632074), (282, 0.021388784628063862), (2498, 0.0213857227054745), (1097, 0.021385598272868254), (3883, 0.021348213412497388), (716, 0.021337129127806057), (3531, 0.02133581540193145), (870, 0.021325197355270553), (4394, 0.02128251119899661), (1781, 0.021261763285693677), (2015, 0.02124672942701637), (2824, 0.021244684028305205), (651, 0.021237343976043575), (201, 0.021229173181779144), (3625, 0.0212273118250446), (3994, 0.02119113080051331), (3412, 0.02117446746011636), (1148, 0.02114561260231572), (1383, 0.02114116175679348), (793, 0.02113159738986589), (4373, 0.021127987446731514), (3124, 0.021125213841775823), (4472, 0.021079091160341432), (2828, 0.02107808089863292), (2571, 0.021068049302380352), (3298, 0.02106433358430336), (4139, 0.021057365382637368), (1090, 0.021047815987847128), (3127, 0.021030251272278963), (1493, 0.021025802544959598), (2759, 0.021018813296287818), (3878, 0.020996816208569972), (2584, 0.020993617418907845), (3900, 0.020968740819282194), (3475, 0.020961210509188935), (4576, 0.020951200106263473), (3149, 0.020941738033409308), (1198, 0.020934778555851817), (427, 0.020916204511621486), (701, 0.02090608534342993), (1850, 0.020898748036696235), (367, 0.020889910763738414), (3044, 0.020879855400058135), (1901, 0.020853355600808594), (1818, 0.020845191537249366), (2937, 0.02084164407342426), (77, 0.020831234161717532), (4261, 0.020822969610485412), (36, 0.020806418029731308), (3122, 0.020805081510325993), (3486, 0.020775363611688052), (2960, 0.020752998680654045), (4283, 0.020741094606447283), (798, 0.020718868290461354), (3404, 0.02070202602786266), (562, 0.02069655803580575), (2045, 0.0206787273331489), (2995, 0.02066691191996259), (812, 0.020618624034200093), (2647, 0.02060851611744822), (1993, 0.020595177073234314), (738, 0.02058544080671391), (1756, 0.020563448877260533), (2243, 0.020546147660139385), (1833, 0.02054352272937382), (1647, 0.020523012676115514), (1783, 0.020517847490717774), (3014, 0.02049583945419308), (1255, 0.02049545478073425), (122, 0.020482981708324653), (1041, 0.020471514141431616), (896, 0.02045941865535842), (4103, 0.020457598244155734), (2506, 0.020413560056639746), (3659, 0.02041181786391556), (2037, 0.020410156411129237), (702, 0.020401806950120557), (1073, 0.020390385064929243), (4013, 0.02039021581565806), (1693, 0.02038482883786031), (2578, 0.020382773009315378), (1385, 0.020373081298319582), (687, 0.020362477727034083), (849, 0.020334069575617217), (1118, 0.02032064299384153), (3712, 0.020315962993641846), (3938, 0.020306310623719747), (3319, 0.020299301783588273), (3023, 0.020291781695147837), (1914, 0.020272638976216596), (3694, 0.020268444042364844), (4288, 0.02026739122605964), (3306, 0.020166738650342464), (1012, 0.020156917250890506), (1992, 0.020152075197877723), (154, 0.02013178211120292), (573, 0.020131756815805042), (4063, 0.020124342553173007), (3584, 0.020113612387449277), (15, 0.02011337612273347), (1477, 0.020113220110465065), (1793, 0.020101887572340587), (3338, 0.02009638863542563), (2847, 0.020089381590229972), (1430, 0.020057301251414486), (3389, 0.020055405799488855), (2497, 0.020051736608169585), (2666, 0.020045872139169855), (1984, 0.02004234422198647), (322, 0.02003643547466124), (1086, 0.020032099765307582), (3876, 0.020019189945984773), (1121, 0.020014868769146123), (3780, 0.019996752300829167), (3459, 0.01998807540118453), (1562, 0.01997993366958771), (4211, 0.019973621591466956), (1673, 0.019966614665936716), (213, 0.019961552520718302), (1875, 0.01993723213678215), (1584, 0.019914463855116957), (416, 0.019895423988082174), (4638, 0.019891721952849918), (1152, 0.019883876932700495), (570, 0.01982420768734789), (829, 0.01981545766400989), (2135, 0.01979876321047622), (1977, 0.01979748875767777), (2265, 0.019796185201672166), (765, 0.019793334751907546), (1531, 0.019788331481223175), (558, 0.019777014504510807), (2728, 0.019761982368673194), (1171, 0.01975289980230866), (321, 0.019749429016439335), (1063, 0.01965975796568889), (3630, 0.019651245888560445), (2615, 0.019646050209473936), (3169, 0.019636988693927625), (1061, 0.019633897786791785), (2730, 0.019628664036311926), (255, 0.019611751286324218), (3522, 0.019604377133806448), (3582, 0.019601754972231204), (3156, 0.01959770050568737), (915, 0.019579485280359778), (3108, 0.01957403194219838), (4621, 0.019570596664446837), (4350, 0.019569111424371552), (2191, 0.019558744291181186), (310, 0.01954949582681831), (482, 0.01954816637230966), (3801, 0.01953930672358359), (2248, 0.019518696668690546), (1964, 0.019498977750774523), (1750, 0.019488093477870453), (3666, 0.019445938194786797), (3318, 0.019440944489101792), (1207, 0.01943887733114274), (3201, 0.019436934925991526), (1599, 0.019394068767309383), (1001, 0.019392722763116068), (3068, 0.01937693253069432), (597, 0.019279520406169818), (2957, 0.01925297139763123), (4519, 0.019247369175233058), (1414, 0.019243716327987805), (3446, 0.0192339381879808), (808, 0.019226383218631255), (4001, 0.019187286024544704), (3495, 0.019180967206932815), (4678, 0.01914161956744364), (1761, 0.019138889506984648), (2833, 0.019117347824046334), (2139, 0.01909683982905589), (3653, 0.01909111141100356), (2559, 0.019079762686268237), (3135, 0.019057758118049106), (97, 0.019052928564985756), (657, 0.019045715526386106), (426, 0.01903180038266351), (3742, 0.018975545422107283), (2493, 0.018942280648800255), (3619, 0.018925185863125298), (417, 0.018900182452797808), (2284, 0.01882945737142787), (582, 0.018820508662434246), (2093, 0.018818453449375803), (3852, 0.01879507455945242), (861, 0.01878023845477958), (540, 0.01877939129940387), (2527, 0.018755062695001292), (332, 0.018710506102226375), (2239, 0.018684791147103485), (2684, 0.018674127984918944), (217, 0.01867013562167044), (230, 0.01865411795034671), (1323, 0.018653936540638173), (1509, 0.018636831581841352), (988, 0.018602131921004655), (3884, 0.01858727519708912), (2312, 0.018564961241532337), (4158, 0.01852123030479901), (2803, 0.01851705337746643), (4193, 0.018504341864852572), (3279, 0.018483651638623873), (432, 0.018469967769562105), (1852, 0.018468657110875454), (2530, 0.018447300207675658), (1857, 0.01843739079360568), (823, 0.01841425134047638), (1173, 0.018413746941910804), (3817, 0.01836380083310639), (274, 0.01834316660148507), (2560, 0.01833539749497476), (2696, 0.018293997248688437), (3559, 0.01827762652403864), (2137, 0.018276425614501986), (3651, 0.018275405979109295), (501, 0.018271524072037873), (64, 0.018263632803794613), (327, 0.01825286634160065), (3425, 0.018234727124948853), (1497, 0.018232415475247832), (566, 0.01821472503455666), (323, 0.01820093896513147), (403, 0.018178598361778025), (477, 0.01816158417581909), (2443, 0.018152180292655928), (2051, 0.01815080575841439), (643, 0.018148329988138638), (3866, 0.01814025585679055), (2876, 0.01813272665046877), (1981, 0.018131129622545462), (2221, 0.018128422865666075), (3099, 0.018098589655367134), (2411, 0.018089723373136465), (3858, 0.01804637940124941), (2770, 0.01803236423065375), (3251, 0.018025492629299582), (737, 0.018018731685819255), (3759, 0.018017686207838394), (4199, 0.01800571317148155), (4196, 0.017974985617694044), (519, 0.01796575736729042), (2799, 0.017880530884295365), (1600, 0.017813191621264424), (3232, 0.017790208878377827), (2018, 0.017786473563045347), (4259, 0.017745161728962733), (4463, 0.017732750896539647), (3949, 0.01772581721977326), (2598, 0.017719118913058933), (3853, 0.0176839279607944), (3101, 0.017649812122692777), (433, 0.01764469465665646), (4649, 0.017591229867151663), (3638, 0.017563873528744996), (1258, 0.017558197654700913), (4051, 0.017557293918125237), (4446, 0.01752493155286445), (2782, 0.017518201233913434), (4017, 0.017498699000619927), (3950, 0.017493794314874373), (3561, 0.017480509216939864), (253, 0.017466425383604166), (4064, 0.01745799582259097), (1043, 0.017457986790196566), (3497, 0.017454978855706543), (1819, 0.017448126445047146), (1309, 0.017414446021782735), (342, 0.017403142852531677), (2524, 0.017381563261021686), (4447, 0.017378411238037718), (3915, 0.01735218634550553), (2951, 0.017337495697405517), (744, 0.01731976453251825), (4749, 0.01730557086127581), (3065, 0.01728305829106119), (288, 0.017279886070146327), (3711, 0.017255449321981347), (2116, 0.017242145583254802), (1458, 0.017221578511221174), (3479, 0.01722097424508113), (3730, 0.017203338391757875), (2768, 0.01719069387214603), (2694, 0.017176875554661564), (2259, 0.017161425003110985), (485, 0.01712021973965264), (2882, 0.017101126004173624), (996, 0.017064951800134537), (153, 0.017058661163122695), (2707, 0.017034587642303277), (640, 0.017033992720543352), (3235, 0.017030550588788333), (2704, 0.017028586203426708), (4169, 0.017017383181223398), (1697, 0.016992381383331517), (4589, 0.01698815027475682), (623, 0.016967311750943216), (1103, 0.01695820826416933), (2565, 0.016946986480787043), (1547, 0.016904444432683845), (3172, 0.016900254428799385), (193, 0.016890811587142947), (563, 0.016887799906492074), (2628, 0.01688066259585908), (4420, 0.016845456856622438), (2878, 0.016840364037163172), (4366, 0.01683960917747128), (3457, 0.016777514498157658), (1299, 0.016770263472925786), (4106, 0.016767307425591037), (3419, 0.016749730227933145), (752, 0.016717753872203686), (1321, 0.01670420152464167), (1006, 0.016690381222957427), (369, 0.01668888790281315), (3599, 0.016680451204498865), (2643, 0.016677173267536597), (453, 0.016674547861770674), (1116, 0.01667199910128578), (4353, 0.016634772222078733), (290, 0.01660388805774385), (1048, 0.016601232644598146), (551, 0.016591311248589362), (3536, 0.01657611245634863), (3078, 0.01657011414101714), (2842, 0.016561187114751835), (2294, 0.016548042026176983), (2198, 0.0165396012837697), (3689, 0.016524267925389434), (2633, 0.016521593557959558), (3377, 0.016484752862560785), (1774, 0.01647014366017274), (1717, 0.01645306482010654), (1437, 0.01644644384065698), (2431, 0.0164420767233958), (4709, 0.016438004348619296), (814, 0.016410750523085223), (865, 0.016403681867438506), (2275, 0.016377077965610665), (1115, 0.01634961400813603), (289, 0.016330892562454045), (3740, 0.016319507078396602), (2710, 0.016319265131112495), (684, 0.016316162839070086), (947, 0.016313178259737878), (3560, 0.016307932928411747), (2672, 0.01626798961687563), (1322, 0.0162626603636533), (2222, 0.016255147156770042), (2164, 0.016245557073718168), (3140, 0.01622833166672378), (2474, 0.01622594155565462), (2356, 0.016225143583190466), (2896, 0.016223099354673677), (294, 0.016201120450379157), (1476, 0.016185389983062532), (2234, 0.016163224290051854), (41, 0.016150136593701243), (1769, 0.016143906417309378), (2308, 0.016137708922699494), (3551, 0.016123866629934293), (2144, 0.016114395314571418), (897, 0.016097056694910565), (343, 0.016096709819855125), (2574, 0.016091996842465817), (3062, 0.01609121684257814), (2192, 0.016088251394114586), (4544, 0.01608631682458346), (1240, 0.016085605685436963), (1460, 0.016067876812430028), (822, 0.016043154606343847), (697, 0.01604234258729225), (1166, 0.016041777944683356), (4058, 0.01603929254437796), (3060, 0.015996870436268087), (2557, 0.01599276022815296), (3697, 0.015989714754605852), (2869, 0.0159806432875599), (226, 0.015973369670857593), (2586, 0.01594503360655935), (2095, 0.015943118494546465), (4728, 0.015908480186411944), (630, 0.01590116319363069), (3299, 0.015874604135822944), (346, 0.01587435542327349), (4060, 0.0158719977748417), (3628, 0.015871661494917793), (1669, 0.015866282258192685), (4130, 0.015863817749942177), (2109, 0.015863634530206762), (1891, 0.01583694488680196), (4298, 0.01581979103400725), (617, 0.015812213575156067), (4209, 0.01580130607246589), (4491, 0.015792540894046646), (464, 0.015791058681492862), (2583, 0.01578038960391526), (2340, 0.015776284767935356), (665, 0.015772427903482964), (1329, 0.015764908465784665), (3031, 0.015751947939174546), (785, 0.015746624373153745), (867, 0.015744636067876933), (1757, 0.015737602826042047), (4738, 0.015730157220988156), (1894, 0.01572801825273166), (2888, 0.01572218110009868), (713, 0.01571666843061419), (3302, 0.015711387565258587), (4147, 0.015701353379955037), (7, 0.015664808304333394), (4409, 0.01564420232161175), (1094, 0.015634255092066927), (3586, 0.015620028597543582), (4062, 0.01561852838662894), (2102, 0.015617868399185653), (3715, 0.015605173519970605), (3477, 0.015605051460789015), (618, 0.015596128115223875), (400, 0.015592807869038976), (2408, 0.015583407082417454), (3387, 0.015556573909331486), (1705, 0.015542201198357124), (50, 0.015541413917133585), (1028, 0.015531877941231571), (755, 0.015525494777633347), (1666, 0.015519194271745518), (2940, 0.015513250677439982), (404, 0.015503492325320584), (3647, 0.015483478624033323), (1324, 0.015482266732430295), (840, 0.015466963817604061), (2318, 0.015463513270836629), (4289, 0.015448013090182795), (167, 0.015433330081581903), (1206, 0.01543205053071779), (17, 0.015417793128333128), (3979, 0.015409674144774493), (4270, 0.015400536466185567), (4557, 0.015395918783020338), (521, 0.015381277844238329), (2131, 0.015346758383286857), (620, 0.015343963883978403), (949, 0.015338113907923973), (2322, 0.015329715672575276), (1328, 0.015305663312932415), (1813, 0.015278506421426825), (2795, 0.01527241089916337), (3308, 0.015266206988874124), (1570, 0.015264076977062939), (349, 0.015263189855009894), (4155, 0.015262136384916419), (1654, 0.015249241398241613), (1603, 0.01523143229964682), (29, 0.015213315884965764), (3028, 0.01520769862589075), (4632, 0.015202499525925601), (2612, 0.015198901142609073), (984, 0.015196046036141646), (1969, 0.015187297396864866), (2765, 0.015185404273147338), (1060, 0.015183826313617298), (3621, 0.01517367011907198), (3870, 0.015173637889091134), (55, 0.015165690846342353), (4584, 0.015159968101910443), (2572, 0.015133211048984551), (1787, 0.01513099209536069), (4419, 0.015130964558931141), (1785, 0.015116795698582394), (1841, 0.015095767658361766), (1529, 0.015072006742873026), (1526, 0.015038677220454771), (615, 0.015034914198841193), (2897, 0.015031778998916232), (2865, 0.0150100088018277), (3307, 0.01497883670034761), (4456, 0.014947245676262433), (2353, 0.01494348413331608), (239, 0.014942539867493904), (3190, 0.014942217081010097), (648, 0.014930069162881603), (2149, 0.01492671599193221), (631, 0.01492323389729017), (4316, 0.014918650699787104), (3732, 0.014883805891198015), (895, 0.014883774045432417), (1045, 0.014882786811171438), (4010, 0.014879039833647642), (4294, 0.01486527161195177), (4356, 0.0148574116928466), (838, 0.014855030878475515), (3864, 0.014851163314504603), (4369, 0.01483544596089635), (1936, 0.014834031445332817), (2444, 0.014804922858630117), (399, 0.014803028835308379), (4653, 0.014785813039579303), (56, 0.01477740274719765), (4254, 0.014776589424784967), (3407, 0.014774100387595692), (1920, 0.01477121739955987), (2188, 0.01475903863549284), (1386, 0.014755884491539806), (136, 0.014752738127771179), (592, 0.014741515807513834), (54, 0.014739740519684854), (1440, 0.014738162172714363), (975, 0.014732524509915629), (355, 0.01473098619717943), (212, 0.014727693742210649), (324, 0.014724409915613867), (4295, 0.014722694582912454), (4210, 0.014721724070255196), (2459, 0.014719662772805005), (945, 0.014696426111400396), (4348, 0.014691488424739978), (714, 0.01468578312974169), (1899, 0.014671020219738987), (1611, 0.014667850620453558), (3360, 0.014663743952262786), (1522, 0.014656477902131123), (2554, 0.014641935928098867), (1577, 0.014640801178291255), (1909, 0.014636310395246294), (1820, 0.014634975902390315), (1945, 0.014624275016666018), (2778, 0.014623050516771114), (3186, 0.014621204296323718), (4609, 0.014613870501167699), (2301, 0.014613580033281514), (1346, 0.014597016079617005), (478, 0.014593862593110862), (2153, 0.014593429587921591), (2826, 0.014591599055470169), (4698, 0.014590706062634991), (96, 0.01456525886425705), (4099, 0.014510264667490932), (1935, 0.014501058837873263), (1538, 0.01450085746053251), (1941, 0.014474356350655727), (922, 0.014467376681495331), (1869, 0.014464269322176081), (1827, 0.01444640769986586), (946, 0.0144433714433096), (359, 0.0144422097263412), (2014, 0.014435677899633646), (4056, 0.01443566956339), (4188, 0.014421165715330305), (3244, 0.01441624699003226), (3008, 0.014415920418154381), (1690, 0.014393424701068884), (1604, 0.014390363599569595), (4580, 0.014389524851969692), (1974, 0.014381980031450501), (512, 0.014373697023622931), (957, 0.01437002117720809), (2954, 0.014369490035598467), (4509, 0.014366940416690722), (4304, 0.014338193290365108), (158, 0.014330159483150294), (2298, 0.014322462423188263), (3111, 0.014298425680229666), (4138, 0.014293203484394468), (1459, 0.014286551106935212), (4642, 0.014271765878431857), (1626, 0.014259616011974995), (1762, 0.014251834470621371), (4003, 0.014244400864403359), (2130, 0.014240265056469484), (119, 0.014239645999671627), (904, 0.01423577508868205), (1580, 0.014229159846651147), (254, 0.01421295252557423), (1968, 0.014202118176818638), (3454, 0.01419759450226518), (4224, 0.01419453345391933), (2616, 0.014191198284299659), (1423, 0.01417816859871121), (3384, 0.014177946203087058), (3629, 0.014177423689035117), (4112, 0.014167119448829694), (476, 0.01415494427172411), (1350, 0.014137998445258447), (2103, 0.014132767787902314), (2468, 0.014130034577929582), (3183, 0.014120649437784133), (2624, 0.014109933497651217), (292, 0.014081802282238029), (4596, 0.014080399543584367), (4550, 0.014070543170975367), (184, 0.014067815487451082), (2150, 0.014055198886121154), (3440, 0.014051059782316223), (3312, 0.014046250822688244), (3450, 0.0140452701375329), (2604, 0.014033255548522137), (499, 0.014033223389653182), (753, 0.01401871979011966), (1113, 0.014011358135642093), (1591, 0.014005971237941848), (1368, 0.01400377598597406), (1815, 0.013999197367056158), (703, 0.013979074959187904), (3947, 0.013975215815760465), (4564, 0.01397505908443051), (3708, 0.01396310738143538), (3917, 0.013961833491558611), (1293, 0.013950557552204389), (3786, 0.013926158230294859), (4747, 0.013917952268796127), (924, 0.013915460292359318), (2641, 0.013908215427711985), (2012, 0.013907689709579969), (2494, 0.013902630044491254), (1272, 0.013880360738353381), (4132, 0.013880040715325344), (4245, 0.013854550099930734), (4244, 0.013854456422257072), (498, 0.013836962013600733), (4247, 0.013831884016328667), (3781, 0.013816418726672035), (1273, 0.013813330042533649), (4574, 0.013806969265443062), (2270, 0.013803168965716685), (4173, 0.013796669469386782), (3700, 0.01378628445821689), (3914, 0.013775576558534085), (4370, 0.013772011343459713), (4272, 0.013769352144725367), (4121, 0.013754656866560662), (2476, 0.013751118410182483), (2181, 0.013726919849427593), (3236, 0.013714814254045046), (862, 0.013710016839221685), (3569, 0.013697030466966052), (2881, 0.013696576655662502), (4256, 0.01368402892837271), (2576, 0.013681285699675201), (206, 0.013678811265858144), (3314, 0.013676128235057967), (4462, 0.013666459825096462), (60, 0.01366592844673691), (2953, 0.013649084620453833), (1465, 0.013643920266890831), (4286, 0.013633526791764258), (2566, 0.013632796394919532), (3856, 0.01361968385269232), (3168, 0.013617591542931271), (548, 0.013610513597921094), (682, 0.013601123695034974), (1898, 0.013571513959470278), (2903, 0.013561944219715655), (3189, 0.013547943593906531), (2, 0.013503340759716277), (458, 0.013493903639620917), (2840, 0.01348799193350296), (729, 0.01348552250866224), (3770, 0.013484553510434757), (4523, 0.01347617742666421), (1332, 0.01347412543214663), (547, 0.01346914394943681), (1135, 0.013468642210920468), (3351, 0.01345829629090673), (2383, 0.013446593364914331), (4119, 0.013441177186816991), (23, 0.013437706536819029), (707, 0.013437067895497062), (4136, 0.013433173819890282), (9, 0.013431410793363834), (2854, 0.01343090273629427), (1851, 0.013424802997091497), (4236, 0.013422935194265634), (2911, 0.013420465404969967), (4094, 0.013417764650268633), (2603, 0.013417527731104436), (3790, 0.013402688316948776), (688, 0.013396726695558938), (35, 0.013392544775229043), (1364, 0.013389634511796939), (2211, 0.013386153164522362), (216, 0.013368730714001326), (382, 0.01334958242181861), (1367, 0.013341051563109356), (4439, 0.013339736448228435), (48, 0.013325133341931309), (1987, 0.013322950934320314), (616, 0.013313136364480439), (4628, 0.013309653174934268), (595, 0.013300235217081463), (569, 0.01329880654614277), (821, 0.013292548104913371), (1454, 0.013283040560089766), (730, 0.013277645654291367), (1681, 0.013277042658543785), (971, 0.01327294658890969), (4292, 0.013272921508804), (2626, 0.013272565902156726), (37, 0.01324969077339522), (1777, 0.013247760536219505), (1334, 0.013237425329509011), (245, 0.013226928433656488), (4563, 0.013222903822871513), (1957, 0.01322113491679725), (4610, 0.01320780273647158), (1355, 0.013205154791379648), (673, 0.013197081677092283), (1222, 0.013192650210303716), (4116, 0.013184571170734044), (538, 0.013178145530013362), (3263, 0.013174727201649486), (1077, 0.01317371809075683), (350, 0.013165623661889645), (186, 0.013160555798040733), (2290, 0.01315886018456198), (1567, 0.013147597447473198), (513, 0.013146259298695086), (2359, 0.01313521843681753), (2509, 0.013128344052905276), (2397, 0.013114629649936762), (3426, 0.013104731622682267), (1310, 0.01309970999883538), (3771, 0.01309868129561174), (1366, 0.013092353612369543), (4055, 0.013091131232521177), (3600, 0.013087675496159603), (2426, 0.013082145628239257), (579, 0.013071680071285577), (3650, 0.01306602361771772), (1950, 0.013049101520958376), (728, 0.013043543165137946), (4436, 0.013040518778835556), (2065, 0.013039763532686297), (210, 0.013033665606929232), (3112, 0.013004181817165665), (2185, 0.01300247408251484), (3451, 0.012962154640049853), (1537, 0.012947585356819294), (2389, 0.012946547687379281), (3548, 0.012941539015024569), (4038, 0.012928879007412856), (1732, 0.012925333499642071), (1141, 0.012923897003189237), (4005, 0.0129221825653262), (2963, 0.012912442163263517), (4330, 0.012902207132581407), (3612, 0.012899946478108028), (1659, 0.01289017773341914), (4736, 0.012887158073933787), (1644, 0.012880438779097201), (3710, 0.012856696262738571), (109, 0.012855946608177684), (3410, 0.012855667681513184), (68, 0.01282568904787033), (1687, 0.012822255937647978), (2819, 0.012811049214195363), (1853, 0.012800717931365554), (2714, 0.012798893681793707), (1484, 0.01279241087543773), (81, 0.012776339561418718), (4739, 0.012765497916981235), (470, 0.012754733217854818), (654, 0.012746071434388353), (1500, 0.012740936590839873), (1695, 0.012737766901087872), (2237, 0.01273589155746765), (2959, 0.012731029367552937), (32, 0.012727994687019434), (1797, 0.012724442183957779), (1447, 0.012718899943702264), (2433, 0.012710121420369206), (1508, 0.01269916965755088), (706, 0.012688839055758504), (1453, 0.012662236356508188), (4430, 0.012661710877480808), (845, 0.012660688780794287), (3362, 0.01265031920749939), (1881, 0.012648970747658396), (3046, 0.012647392675936939), (3862, 0.012630306793660576), (928, 0.012620110516981347), (4629, 0.012615739069159002), (1432, 0.012597119436283373), (1024, 0.012595681715176025), (446, 0.012579186825450759), (1880, 0.012572368936914026), (165, 0.01254687777341304), (358, 0.01254131236562803), (2000, 0.012540869431524613), (1949, 0.012537492633446536), (3507, 0.012536586999198237), (4379, 0.012529929875545052), (2822, 0.012526044551311514), (2780, 0.012521773358055608), (522, 0.012517192173379297), (2469, 0.012507890157236152), (4249, 0.012477883041214183), (773, 0.012474355920427914), (4382, 0.012469025654696214), (2276, 0.012422197689489172), (809, 0.012415487161930836), (4459, 0.012405495967736702), (4098, 0.012396288495173572), (2947, 0.012395135508514107), (4088, 0.01239330925892417), (496, 0.012391407584809264), (1117, 0.012387659764189847), (3503, 0.012365050754152552), (725, 0.012346842064512444), (1337, 0.012341404812113623), (4684, 0.012341169836986753), (4253, 0.012335477056224552), (1352, 0.012328825629827442), (2788, 0.01231185081994503), (4068, 0.012286028136063797), (3679, 0.012259633298343217), (4255, 0.012259363408829844), (2517, 0.012258283066948457), (1363, 0.012237912207704987), (972, 0.012236702573810739), (1138, 0.012233335678881515), (1985, 0.012220051453503862), (1988, 0.01221979010333159), (1335, 0.012213832340769601), (2651, 0.012200208405057077), (3210, 0.01219849352743652), (4503, 0.012196560767749706), (3227, 0.012193636092638026), (2296, 0.012192317857896248), (859, 0.012189156000857206), (325, 0.012185362126731483), (2127, 0.012184496121555692), (1876, 0.012162889272201282), (560, 0.01212999013153609), (1824, 0.012121103729319288), (2004, 0.012119658093950055), (1496, 0.01211735980809618), (1419, 0.012107826576259889), (4310, 0.01210566823751956), (4159, 0.012085138271103692), (986, 0.01208418503287412), (3959, 0.0120837121977888), (2594, 0.012078140452186586), (4148, 0.01204609494942245), (3807, 0.01203000750820115), (4248, 0.0120218005790915), (3374, 0.012001763872253091), (1483, 0.01199961585175265), (1252, 0.011981710444202324), (1442, 0.01197264687458413), (1226, 0.011971659346711766), (3983, 0.011968348891120055), (2034, 0.011957774860047909), (1291, 0.011944637278887534), (534, 0.011944223824333406), (82, 0.01194230192399205), (233, 0.011935779328271223), (3161, 0.011930358810018915), (3443, 0.011928280863160133), (805, 0.01192435684583375), (155, 0.011921197150357945), (1257, 0.011916958042012808), (1278, 0.01190891528468553), (1127, 0.011902900470221306), (3814, 0.011895052427769785), (1292, 0.01189234805222112), (3602, 0.011890980372814781), (727, 0.011881551438480936), (1805, 0.011879171679722975), (1937, 0.011878854859066321), (4479, 0.011876479716428592), (1326, 0.011848335118858942), (3767, 0.011845390758236249), (788, 0.011839736052410461), (2910, 0.01183241679789828), (244, 0.011830606773803189), (1406, 0.011819358926031314), (4525, 0.011808369022074973), (500, 0.011791797666781165), (4039, 0.011788788956409946), (4534, 0.011761962494992485), (1017, 0.011754561403560388), (934, 0.011752249555233973), (1035, 0.011748454461283364), (1729, 0.011744737652195332), (2036, 0.011738428614406911), (825, 0.011729000748633218), (1044, 0.011715149217778737), (4673, 0.01171303881222436), (4053, 0.011700842442269398), (2043, 0.011677107536525415), (3660, 0.01166210148254783), (2918, 0.01165106609899328), (4543, 0.011648406734767743), (3980, 0.0116436090714611), (689, 0.011602796170389024), (2774, 0.011597931670591491), (3126, 0.011581472000988111), (2024, 0.011580597784408737), (2206, 0.011559386519906838), (4481, 0.011554610785135963), (3085, 0.011552999051522938), (63, 0.011551287099049085), (1886, 0.011536119561103671), (3978, 0.011534951900814865), (2540, 0.011525961090893716), (2787, 0.011499423661524523), (144, 0.011492555893445942), (644, 0.011488228051869831), (3465, 0.0114868097669882), (2224, 0.011475531877232392), (827, 0.011472687839860968), (2751, 0.011468147267706435), (2010, 0.011461993082739447), (3485, 0.011458690664238097), (3794, 0.011454378101449097), (2094, 0.011443977648737395), (878, 0.011422387602030133), (1054, 0.01141939762820467), (3723, 0.011413010987430215), (1749, 0.011342586535862013), (455, 0.011336289310616893), (1665, 0.011323171675557438), (1989, 0.011314867766948917), (4156, 0.011303488372470418), (4328, 0.011297538173159205), (2608, 0.011294278904451028), (2992, 0.011275994180388386), (690, 0.011251792174331973), (866, 0.011242554122946436), (1900, 0.011232374393985285), (532, 0.011229739253921327), (1183, 0.011225100330705692), (2365, 0.011221461143774541), (2429, 0.011210274512433392), (627, 0.011176702188412659), (4748, 0.011167950793350166), (3526, 0.011158168346998416), (1418, 0.011156445352710587), (669, 0.011127304616388252), (1259, 0.011053402658372584), (1065, 0.011053327704673136), (1796, 0.011034119609549534), (1680, 0.010983197884622209), (148, 0.010974342485498986), (4044, 0.010972852070102233), (1000, 0.010877297890164797), (804, 0.010877084431913719), (330, 0.010873836792337225), (800, 0.01086995791374322), (4418, 0.010840550494043342), (3556, 0.01081309830396095), (803, 0.010808756827382979), (3070, 0.010802758773631075), (775, 0.010777402102572036), (4664, 0.010768166002468944), (2481, 0.010738529389259285), (4450, 0.010720259860985336), (4661, 0.010719784291188505), (3439, 0.010705935088768463), (3056, 0.010682551128819955), (2324, 0.010649666579410366), (858, 0.010625787850482134), (843, 0.010604463165001245), (3751, 0.010598728213255849), (4432, 0.01058504455318361), (2820, 0.010577706067777505), (3637, 0.010575909843468515), (1348, 0.010533953071571683), (653, 0.010521918455076999), (2412, 0.010500760856956165), (3684, 0.010495380116313246), (3325, 0.010422251435000689), (3339, 0.0104073776293971), (3776, 0.01035728084461296), (1627, 0.010337547646008513), (202, 0.010326382609569513), (3538, 0.010282057743868497), (723, 0.010237645347799505), (621, 0.010232081452436089), (2197, 0.010228395200387402), (1051, 0.010094669674602569), (4733, 0.010090594042888291), (1092, 0.01007990217022389), (442, 0.010027533827849947), (2453, 0.01002094184901084), (88, 0.009974554485476425), (4455, 0.009932961771288782), (837, 0.009912483254006203), (1369, 0.009898101951901411), (4570, 0.009866852184341619), (4341, 0.009791111060189584), (2118, 0.00978755796472073), (461, 0.009774603929069564), (1615, 0.009774601877458426), (2908, 0.00971833132911952), (719, 0.009715592738303695), (1576, 0.00968651068739004), (2636, 0.009681105228496025), (4031, 0.009648875727855088), (668, 0.00956756644241311), (2534, 0.009567460315711417), (1758, 0.009544647567165113), (3328, 0.009539916669818387), (4454, 0.009522578405506544), (3223, 0.009508630882953556), (4516, 0.009464947912326912), (3903, 0.009454360841658294), (1417, 0.009440058660139127), (4526, 0.009414450401142945), (3946, 0.00937831937511106), (3703, 0.009343736859910978), (1999, 0.009323806548524558), (2532, 0.009318315951202326), (266, 0.009305065275989762), (3587, 0.009297968630759159), (419, 0.00929626057130255), (4018, 0.009293011701946078), (271, 0.009268145209402707), (4160, 0.009254376147447948), (2956, 0.009238656808551321), (1474, 0.009205040681689682), (3877, 0.009190028585612057), (2830, 0.009186281091437943), (2218, 0.00917630172801429), (2657, 0.00916963130037212), (365, 0.00916606329519565), (4034, 0.009157230998679221), (2806, 0.009141203085276123), (362, 0.009113203006571495), (3444, 0.009098455956417343), (296, 0.009063757458884648), (1844, 0.009062052980989825), (700, 0.009055891675439407), (677, 0.009045800735826942), (2575, 0.009021572877899736), (2659, 0.00901722273994506), (1471, 0.00896800432375112), (2171, 0.00891698339717882), (340, 0.008868479061693359), (4492, 0.008866781612850238), (2637, 0.008861943130765144), (1228, 0.008857485314247224), (4351, 0.008851643698664423), (1731, 0.00884932391420567), (4347, 0.008832662958243793), (2725, 0.00882745021871549), (4478, 0.008824665006160215), (2609, 0.008803975180996586), (3461, 0.00879830519973771), (1926, 0.008770739286675249), (361, 0.008761836093134374), (4202, 0.008753300718616401), (297, 0.008732401475274758), (301, 0.008731249326769532), (2755, 0.008727962687566954), (2989, 0.008722798826079162), (1401, 0.008715896909619162), (4323, 0.0086941903789922), (1389, 0.008691792169628579), (3208, 0.008676758000816655), (1955, 0.0086700810018264), (4354, 0.008634642367593488), (298, 0.008622284574270602), (1965, 0.008621537002333373), (3871, 0.008615011902584539), (586, 0.008598052042738601), (1165, 0.00854999444621529), (2667, 0.0085301646046407), (2922, 0.008517697605352072), (2332, 0.008505910302766102), (1961, 0.008503209785293266), (2048, 0.008495548524558022), (871, 0.008480908183946397), (542, 0.008480462278772425), (1153, 0.008479167333180193), (2172, 0.008452782685135312), (4663, 0.008446044675213558), (1686, 0.008438548575148613), (1085, 0.008414657786203797), (3272, 0.008400787953637596), (219, 0.008398151607773475), (1087, 0.008391522181355998), (2551, 0.008386707204545556), (401, 0.008365624342978696), (484, 0.008345200516281064), (909, 0.008342445769600956), (4501, 0.008339181182170939), (2414, 0.008320225148748861), (4300, 0.008318593049282948), (3482, 0.0083046096231534), (1388, 0.00829001516867462), (299, 0.008252742701731966), (4195, 0.008249058834022972), (3492, 0.008243918081397955), (2547, 0.00824347068992792), (3346, 0.008232132935092796), (4016, 0.008231349794213702), (3805, 0.008230069838242617), (4457, 0.008223650706246947), (3429, 0.008222343361027912), (2019, 0.008197460459523822), (2512, 0.008194846100698164), (4482, 0.008186561721018937), (3058, 0.00818012769606463), (2569, 0.008156012043161529), (2948, 0.008152158163417349), (1126, 0.008150552072017932), (1598, 0.0081479663405497), (2329, 0.008096055400874868), (4218, 0.008073814744821831), (4036, 0.008064973936946437), (2763, 0.008060920108214164), (2504, 0.00805889848911579), (1607, 0.008038091798456394), (3286, 0.008013714998634909), (4440, 0.008005695773093052), (4134, 0.008005444603646581), (345, 0.00799976668276101), (1373, 0.007996534791891285), (3366, 0.007971630511758011), (1287, 0.00795244175099998), (720, 0.007938535824269444), (2100, 0.007936984281060037), (3826, 0.00793525939094617), (3472, 0.00793081696725621), (4303, 0.007926104268766148), (4606, 0.007925173947416113), (1548, 0.007923984465341793), (1231, 0.007909484188544081), (3567, 0.007908159122932199), (1912, 0.007902535683034189), (4691, 0.007901393995365436), (2600, 0.007897834399839298), (852, 0.007895646427454384), (1490, 0.007886418700221108), (1067, 0.00787242688107784), (2473, 0.007860922368697357), (1755, 0.007854465284568804), (4428, 0.00783767054248971), (1738, 0.007835810960163439), (2581, 0.00782265273933966), (53, 0.007821480345815379), (185, 0.007803401672705585), (3991, 0.007784055956731418), (4122, 0.007774498680321284), (1307, 0.007767587756328945), (3566, 0.007753328437906298), (4569, 0.0077482645958141996), (2363, 0.007736097660290762), (2655, 0.007730550372392073), (650, 0.007728142841305077), (1855, 0.0077203752260242104), (2932, 0.007712684189270718), (3121, 0.007708470374807458), (2590, 0.007683729011739593), (2183, 0.007654141654075128), (4723, 0.007653926718702518), (1514, 0.0076388800416826), (2077, 0.00763447359163546), (4009, 0.0076266381920107856), (3975, 0.007603473161794662), (4631, 0.007601925364970977), (409, 0.007599214473775802), (2415, 0.007596099828009046), (4537, 0.007593389853212116), (1079, 0.007590393828196107), (3395, 0.007582564767845689), (3554, 0.007577907032394336), (920, 0.007577374845343728), (457, 0.007575673098869014), (2920, 0.007552168378114325), (1242, 0.0075509030197572395), (218, 0.007535588537436946), (2255, 0.007526057399306053), (4219, 0.0074991332631316404), (1503, 0.007483702111309724), (2154, 0.0074719673735343705), (428, 0.0074520638914554235), (3726, 0.007445097752738059), (4403, 0.007435105538447901), (2741, 0.007431875229846699), (699, 0.007422767614560967), (1016, 0.0074141532763816725), (3397, 0.007407533418776958), (1219, 0.007404765767823886), (3327, 0.007403618717494648), (594, 0.007377633142415056), (4710, 0.007373544612850098), (2378, 0.007367102652619742), (2720, 0.0073368941285798074), (1601, 0.0073265492923079096), (882, 0.007316699615134903), (4477, 0.007313497761976919), (1540, 0.007312775215252471), (3844, 0.007309938242578325), (4208, 0.007299192918180027), (3785, 0.0072952447892553375), (2939, 0.007265338321037591), (4612, 0.007262023086524991), (277, 0.007255478289965495), (4597, 0.007253115254190686), (4242, 0.007246980003871747), (3803, 0.0072217150180179535), (1194, 0.0072116017483448485), (2841, 0.007202598547238071), (3394, 0.007198373784073578), (4724, 0.007190859173722438), (3165, 0.0071901159736631045), (3521, 0.007186463796428948), (2676, 0.007178299802675418), (2328, 0.007159715143201497), (38, 0.007154001711750878), (1058, 0.007149947394025644), (242, 0.007146409524653753), (3154, 0.007139750392503195), (1397, 0.007137833050593715), (4741, 0.007133464115992556), (1521, 0.00712876168005319), (3253, 0.007118783103231624), (3942, 0.007115767050188796), (2864, 0.007115752690704091), (2879, 0.007104166423668837), (3383, 0.007088291874903231), (2688, 0.0070814246586513195), (2470, 0.007070213613868512), (1064, 0.007067353878968117), (4393, 0.007061849962628249), (4514, 0.0070558979818709545), (1560, 0.007054283373205622), (2352, 0.0070541561445110175), (2006, 0.007039234200252717), (1023, 0.0070366964419201405), (3901, 0.007035074205288259), (2182, 0.007032509024547038), (1050, 0.00703185087388049), (139, 0.007023604170477681), (40, 0.007022197746988544), (2727, 0.007016213577318349), (1429, 0.007012764868016142), (3221, 0.007001576001036198), (4293, 0.006985422759303389), (951, 0.006967990783903171), (3675, 0.00695365578817593), (4701, 0.0069524446901499115), (4549, 0.006944458893863951), (4144, 0.006940170822492435), (1343, 0.006934529563734995), (4554, 0.00693414737497759), (4637, 0.006921905963944341), (58, 0.00692093940431794), (3192, 0.0069156448763581495), (3091, 0.006908779462835541), (3535, 0.0069075063054012086), (4619, 0.006906900493775693), (4735, 0.00690283892072294), (3097, 0.006902777997674084), (726, 0.006901684974840743), (2273, 0.006885131527800575), (1221, 0.0068622409853701), (3424, 0.006858640399732607), (2811, 0.0068553066281232), (2406, 0.00685202915563212), (123, 0.006848946492555924), (4412, 0.0068333325283857415), (937, 0.006815302562561592), (3064, 0.00681165785897405), (1883, 0.006805025502929676), (2979, 0.006801139545147221), (2082, 0.006791221724365192), (3019, 0.00679079992679974), (4163, 0.006763137044492625), (860, 0.006758797407175458), (4659, 0.006755303069104173), (4656, 0.006750347586923898), (4281, 0.006742052073194031), (381, 0.006741555793536194), (4726, 0.006731930955659076), (1770, 0.006731193141367686), (4727, 0.006724913199352178), (1708, 0.006723576325515226), (4331, 0.006719443598726753), (4162, 0.006714169415758549), (4527, 0.0067073815721625275), (2028, 0.00670429072488182), (2670, 0.0067005798734645705), (4131, 0.006699023334959161), (760, 0.0066919528851945445), (180, 0.006689477044060447), (3117, 0.006687350534310901), (1924, 0.006664315920054043), (2486, 0.006660191326782539), (2499, 0.006655837860597751), (1184, 0.006654907827263744), (3661, 0.00665295862045814), (3297, 0.00665172974609101), (2361, 0.006640008880163693), (3464, 0.006634516514146667), (4233, 0.006630352301585937), (2638, 0.006627918662329475), (4746, 0.006616333924576541), (4045, 0.006613470122533391), (3960, 0.006613254854798664), (4389, 0.006609328688627451), (4731, 0.0066046299908404426), (4033, 0.006604139130790795), (3259, 0.006601934922106349), (4092, 0.006601426460742325), (4494, 0.006590029907722839), (207, 0.0065889102169375885), (4699, 0.006581712124389973), (89, 0.006577260281557956), (1393, 0.006573086549392944), (143, 0.00656688654879369), (2754, 0.006563006505726374), (3110, 0.006562225128676769), (1489, 0.006554776172634979), (1736, 0.006553364291587873), (2700, 0.006553218794064588), (2083, 0.006551207594239133), (4307, 0.006549292488069757), (3470, 0.006547681718523104), (3196, 0.006541281015778489), (3012, 0.006540114270995828), (4512, 0.0065361960412491545), (2683, 0.006534040563896727), (3591, 0.00653351848328393), (3310, 0.006530530591505758), (3032, 0.006529465639990077), (250, 0.006527518517726681), (436, 0.0065265654321654595), (2085, 0.006522164988762667), (1513, 0.0065210838317787375), (1158, 0.006517314899501859), (2241, 0.006509632783595974), (1727, 0.006508712039338933), (1391, 0.006507978124108987), (3640, 0.006505584227114332), (4390, 0.0065051258334451545), (4120, 0.006502291016400175), (4043, 0.0065019897206851415), (1962, 0.006498518031035837), (4515, 0.006491206731136687), (4486, 0.006488610355520963), (4716, 0.006487988806849029), (4593, 0.006486549786950622), (2238, 0.006482954181080212), (2733, 0.006479925869833629), (4337, 0.006477091622206965), (888, 0.006465159111490547), (4531, 0.00646477777889715), (1960, 0.006458682717257062), (4745, 0.0064578724463960685), (1516, 0.006446960870037776), (2231, 0.006446281730946724), (3652, 0.0064455727522223), (4050, 0.006443917310309633), (3152, 0.006441071839113222), (967, 0.006440391789246071), (4227, 0.006439610042174896), (3961, 0.006438634558220635), (2112, 0.0064384376579630235), (926, 0.006437797589221405), (2867, 0.006437027566547853), (2996, 0.0064196229969325355), (371, 0.006419005867616902), (869, 0.0064183674100800414), (2314, 0.006417129973532555), (1564, 0.006411312685868903), (3445, 0.0064110670669591295), (4093, 0.00640352987815528), (450, 0.006400914055328696), (908, 0.006395177612303744), (1167, 0.00639083422373452), (3603, 0.006379496471395996), (2229, 0.0063749227035576035), (1122, 0.006373267270238409), (3707, 0.0063712814358985355), (1866, 0.006369615651854645), (994, 0.006361695036577852), (675, 0.0063615251395737265), (4133, 0.006360666133717743), (678, 0.006359376040236031), (353, 0.006357843962028089), (4522, 0.006357085021280997), (4669, 0.006353345877134438), (1829, 0.006349670054420196), (481, 0.006343858364473549), (2978, 0.0063429229501069774), (2214, 0.006342516046995194), (1997, 0.006337781561871661), (1751, 0.006333594939090113), (3002, 0.006326230940939863), (3676, 0.006326089927568979), (1325, 0.006322705855529899), (848, 0.006313247626245398), (4595, 0.006312079299796423), (3704, 0.006303874534560052), (2477, 0.006302534283841365), (3086, 0.006301623089417544), (1512, 0.006300800158403336), (2815, 0.006296964118907301), (2084, 0.006295473641006664), (4435, 0.006289888204872445), (4579, 0.006287669076608081), (4090, 0.006285855522391494), (2252, 0.006285159758348199), (1661, 0.006281761211261982), (1952, 0.006281565383583893), (341, 0.00628101336100659), (1724, 0.006280972486451723), (420, 0.0062726624620253035), (3768, 0.0062682905726748625), (2081, 0.006266645298978924), (749, 0.006263786757352226), (3095, 0.006262710368218374), (991, 0.006261718788898447), (3343, 0.006253691860338119), (3774, 0.006246503388903284), (2212, 0.006246452812333119), (3174, 0.006243310981233523), (1581, 0.00624180738936457), (1614, 0.006240453828778705), (4431, 0.0062384608848748205), (21, 0.0062381466133505335), (2943, 0.006237524924982946), (2949, 0.0062328479900500755), (2104, 0.00622988030466837), (1119, 0.006228117889332498), (1071, 0.00622512846618704), (4231, 0.006222673387145814), (2096, 0.0062176390494139335), (3698, 0.0062174024451626415), (2562, 0.006214714451718428), (2630, 0.006212924676100762), (3441, 0.006208607466884599), (1504, 0.006200068180811399), (1407, 0.006199169845552789), (493, 0.0061935517736363445), (930, 0.006191634202165408), (4241, 0.006191118535784819), (3618, 0.006183319499273805), (1426, 0.006180276481527975), (4265, 0.006173552154472305), (2196, 0.0061687924534383305), (1452, 0.006165824940816456), (3777, 0.006163371317899175), (1918, 0.006161692990588623), (4123, 0.006159311173656427), (3546, 0.006158172471804579), (1338, 0.006157019981073164), (1859, 0.006151050099762654), (1400, 0.0061490421789710415), (976, 0.006148392447856669), (4695, 0.006147727779994998), (1975, 0.006144297399044143), (4474, 0.006142092949780048), (1449, 0.006141149255833768), (1104, 0.006139918592025769), (3334, 0.006137539845556233), (51, 0.0061374140582461005), (667, 0.006132967679870319), (523, 0.00613206460562458), (1527, 0.006126510064139997), (4757, 0.0061259151452741425), (4178, 0.006125176859915847), (1643, 0.006124227269636126), (4624, 0.006116985433679787), (429, 0.006113552735626927), (3706, 0.006109339701175063), (4743, 0.006108030966443509), (502, 0.006106913057912018), (3437, 0.006106794117319259), (3769, 0.00609926097338101), (580, 0.006095660120763533), (660, 0.006093445187325523), (1096, 0.006090144064711094), (1224, 0.006089296651343557), (3488, 0.006081468173048505), (328, 0.006079824038234951), (1047, 0.006077724355042994), (543, 0.006075556258104762), (1983, 0.006075377897159792), (4682, 0.006074301636199469), (4089, 0.006073859350345786), (34, 0.0060700475120917695), (4573, 0.006068567098097091), (447, 0.006057224531184499), (3349, 0.00605203423406975), (4275, 0.006048330091809537), (3995, 0.0060478715443847), (4552, 0.006046482894220069), (313, 0.006045437602039497), (637, 0.006040734124792748), (1542, 0.006039602283071701), (584, 0.0060359400958173515), (1076, 0.006034298706996109), (223, 0.0060280881679087555), (2919, 0.006026200859446004), (2053, 0.006022511276868028), (1629, 0.006021502746774121), (2988, 0.0060164769469982955), (3398, 0.00601623509609291), (1544, 0.006009269472683557), (3153, 0.006006869707244672), (2334, 0.006004150593307122), (743, 0.005994344567133927), (2235, 0.005994184979561676), (685, 0.005992396885682275), (3179, 0.005989926245093419), (4377, 0.005986526457086597), (4251, 0.005980618513328594), (854, 0.005974274337603069), (1431, 0.005973301466671758), (4189, 0.005966908732642113), (652, 0.005966665431431934), (3571, 0.005964985872376747), (1435, 0.005963857674512256), (2784, 0.005962396761544525), (3699, 0.005958200948560558), (1832, 0.0059577059432736465), (2962, 0.005957060404138567), (1958, 0.005954267709929291), (406, 0.005951614173689911), (2706, 0.005951384055433101), (238, 0.00594964872081768), (3815, 0.0059473161160847506), (145, 0.00594672955668862), (1274, 0.005945043878730778), (3810, 0.005944133368875525), (1970, 0.005943449317860682), (4345, 0.005937910471751457), (4380, 0.005936514250030362), (3303, 0.005936280873392074), (832, 0.005931297753474301), (2295, 0.005926137737909782), (3833, 0.005924056848038056), (4375, 0.005922998113897011), (336, 0.00591971584080782), (2374, 0.0059119270144201656), (83, 0.005911290468076839), (2991, 0.005911075112065077), (641, 0.005910727466214391), (4012, 0.00590812955549077), (1998, 0.0059037793948165), (2166, 0.005895581712311343), (636, 0.005891262608924382), (1973, 0.005888896324415646), (3609, 0.005886239212950496), (3670, 0.005883263170471889), (628, 0.005881357588990988), (2184, 0.005880454664273089), (30, 0.005878212229164657), (696, 0.005871635628867513), (3436, 0.0058708983372094715), (4690, 0.005870662488604575), (4517, 0.005868678021756836), (2885, 0.005868594796431146), (4360, 0.005864513117046713), (3125, 0.005862206263377485), (1721, 0.005857800838905857), (1191, 0.005856398898697791), (1223, 0.005855955520010998), (4568, 0.0058511823539338014), (2634, 0.005849260680019187), (4715, 0.005848442179631576), (2344, 0.0058455179893506), (1873, 0.005839166397244257), (2052, 0.0058380814821425205), (761, 0.005834259178366569), (2558, 0.005834160990847769), (2862, 0.005834011904724848), (2958, 0.005831991040221145), (370, 0.005823943738810898), (2246, 0.0058224316451381), (3330, 0.005813526851765434), (4623, 0.0058123287004404655), (1420, 0.005809647884883466), (2336, 0.005800650777914478), (2777, 0.005792361486410187), (1823, 0.005791926927828034), (4000, 0.005786112895432722), (3727, 0.0057837568120487045), (2480, 0.00578325581009516), (2174, 0.005782150764785639), (3553, 0.005781424964750436), (3624, 0.005779338016774975), (2399, 0.005778490528836809), (3435, 0.005776694754894411), (2315, 0.005770000922648393), (1357, 0.005768907026931277), (2674, 0.00576250911336784), (2274, 0.0057599757445159225), (1621, 0.005750687341620213), (1573, 0.005746803951980252), (1927, 0.005746742218070225), (411, 0.005745874695891234), (530, 0.005742263314410208), (3195, 0.005740612619067664), (989, 0.005737580623477569), (3793, 0.005734737448825134), (1622, 0.005734229517387136), (1551, 0.0057332894636161775), (2069, 0.005731406545798471), (3499, 0.005730652622622551), (634, 0.005730501354883382), (4186, 0.005730395229216231), (4600, 0.005728804002684187), (3738, 0.005725849892352375), (4284, 0.005723644176420792), (1714, 0.005723393563792819), (927, 0.0057219411500251), (1635, 0.005720886961391536), (2216, 0.005717038147588493), (1773, 0.005715328736093591), (4362, 0.0057117899861230306), (3130, 0.005710904882331109), (2632, 0.005696275823204793), (3953, 0.005695738622541471), (4299, 0.005694623434430607), (4309, 0.005693564276924145), (4387, 0.005687990993862889), (799, 0.005686668508410964), (1933, 0.005686156137484133), (3267, 0.005680186590864833), (2424, 0.005674102786008643), (2008, 0.005672941553679116), (1953, 0.00566793039489802), (1967, 0.005666973232226343), (3370, 0.005662291059223518), (4647, 0.005660689831943741), (329, 0.005658844122672905), (632, 0.005657740997964647), (2057, 0.005657167247109974), (790, 0.005653911846593743), (2808, 0.0056524498865513405), (1671, 0.005647715587308633), (1030, 0.00564667167197664), (1481, 0.005645924722797936), (515, 0.005642706210640613), (4216, 0.005637403960926368), (3336, 0.0056345127972315945), (3011, 0.005632982535726725), (87, 0.0056312516894796855), (3696, 0.00562558812229603), (1421, 0.005623589925308526), (2716, 0.0056188425098720185), (923, 0.005617687319856037), (112, 0.005616007146272161), (3487, 0.00560861525222007), (4658, 0.00560812149122428), (3664, 0.0056071327588538035), (1996, 0.005605036706260948), (1248, 0.005604653344251796), (138, 0.005601070852879239), (1870, 0.005595079504228205), (1632, 0.005592981025338134), (4438, 0.005592592541029502), (3970, 0.005579199196292061), (52, 0.005577567893101354), (1633, 0.00557391271884571), (3498, 0.0055735657521549875), (4614, 0.005571927077006591), (3824, 0.005567622544622416), (356, 0.005564217214871696), (3881, 0.005562937409030923), (2935, 0.005559708325528851), (4608, 0.005555171707875587), (2736, 0.0055544506589783075), (2121, 0.005553479993737966), (3035, 0.0055533440673360985), (1290, 0.005545944574967146), (1375, 0.005544320693732844), (1123, 0.005544001302633797), (4441, 0.005541329719781356), (4374, 0.005537281317352524), (360, 0.005535151848494459), (1630, 0.0055350126786019626), (1631, 0.005534458218364504), (1428, 0.005529695866386855), (4124, 0.005519687641154483), (4071, 0.005519418390633382), (92, 0.005509064315179985), (3819, 0.005507821615447368), (116, 0.0055055791387881095), (276, 0.005500240692675997), (1177, 0.005495072933215386), (2348, 0.005494579095154577), (3433, 0.005492680349937928), (694, 0.005485560150397683), (3823, 0.005484711416434398), (851, 0.005484007623890149), (236, 0.005479397554108687), (1451, 0.005479383840449847), (1723, 0.00547613915557616), (4548, 0.005468247682365041), (4585, 0.0054584016617040855), (900, 0.005454133386339361), (810, 0.005450080943338649), (2971, 0.005446907237475246), (3525, 0.005442313610889225), (4429, 0.005435322627686209), (4114, 0.00543299565934469), (1107, 0.005427433829020866), (1480, 0.005422020241473913), (3775, 0.005413383044832015), (3118, 0.00541333264703322), (2119, 0.0054114314303306), (463, 0.005406219561268151), (916, 0.005405205101290149), (1623, 0.005401731733102457), (240, 0.005399399981233049), (3854, 0.005394415143208678), (4402, 0.0053939566442832735), (1448, 0.005390096480364524), (304, 0.005378076116661725), (590, 0.0053764259764686375), (1667, 0.005376098050921549), (695, 0.005372930352007706), (4282, 0.005369683249761798), (3958, 0.005368330510337556), (604, 0.005364918912830856), (3460, 0.005364109031175394), (4176, 0.005363883109438664), (2984, 0.005355596777281193), (2110, 0.005352213056438951), (1462, 0.005350509081081849), (1270, 0.0053478364212803265), (4235, 0.005344870599320657), (3284, 0.005342605294875007), (4322, 0.005341104106314595), (910, 0.005339872670967124), (2020, 0.005339759950022187), (354, 0.0053383109948301165), (863, 0.005332206192859885), (4164, 0.005327335730522974), (124, 0.005326546252743293), (1568, 0.005323314948363793), (4689, 0.005322867176795305), (291, 0.005317184538927374), (1990, 0.00531455325456653), (1360, 0.005309085735803277), (1840, 0.0053075364046793775), (1236, 0.005305060267825631), (3474, 0.005300613349776745), (3668, 0.00529861471627219), (1784, 0.005296994584943189), (1892, 0.005296987671182413), (1237, 0.005295312722337591), (1010, 0.005294668735286047), (1865, 0.0052920119350617694), (968, 0.005284188725654247), (1595, 0.005279046385896543), (3705, 0.005278543540872545), (4290, 0.005264942399800521), (2031, 0.005263946994094885), (3658, 0.005260343565428236), (893, 0.005260119152864853), (581, 0.005256821001453751), (898, 0.005254952986831871), (3974, 0.005250395875733382), (1214, 0.005249146624735725), (4475, 0.005245669794491119), (1739, 0.0052450910786378865), (1817, 0.005235022010092494), (3841, 0.005231293801002137), (2607, 0.0052287347403887725), (2580, 0.005209420190937336), (732, 0.0052074689696294555), (4582, 0.0052033173396623285), (559, 0.0051969921127796226), (2969, 0.005191992087232299), (2871, 0.005186859261115923), (1694, 0.005179253196232879), (3024, 0.005178482363455998), (47, 0.005177765881451375), (1009, 0.0051749559380538605), (2025, 0.005163982344745679), (200, 0.005154422284909463), (166, 0.005151790627314005), (2074, 0.0051498019001561274), (1241, 0.0051462245732759255), (2617, 0.005143050161038949), (2913, 0.0051346227608241105), (222, 0.0051343207912470275), (4679, 0.005128476832163365), (3910, 0.005121345378874659), (3403, 0.005110706302556968), (1018, 0.005086874075494155), (2621, 0.005075140766221807), (2692, 0.00506551508596364), (4488, 0.005057336826583855), (4096, 0.005053724913604512), (1699, 0.005047012980586914), (147, 0.0050468297644060715), (99, 0.00504499556311914), (629, 0.005037217960720561), (4426, 0.005033301784847203), (1838, 0.005027129517741868), (1753, 0.005014199804682052), (2801, 0.00500403100288849), (2447, 0.00500314956988419), (2070, 0.00498956980514256), (2981, 0.004983148748417978), (190, 0.004977992718033566), (3344, 0.00495408177041001), (2541, 0.004950232672381825), (2771, 0.004949805196471226), (1356, 0.004937314681656845), (970, 0.004928565840440017), (1910, 0.004928050366630645), (3806, 0.004921191464610117), (1320, 0.004914128893257099), (1279, 0.004911354294842273), (159, 0.004899408286802977), (2113, 0.004898679096724302), (3713, 0.004863575626856143), (16, 0.0048620603269227), (2602, 0.0048402549451352795), (1728, 0.004835781727836072), (149, 0.004817135560688994), (1005, 0.004784832624255225), (3317, 0.004777862112862333), (942, 0.004742353072490378), (3645, 0.004718452235245476), (1303, 0.004703220690907846), (3944, 0.004702243042397884), (4445, 0.004699459718370881), (3989, 0.004699405940273489), (953, 0.004696789980760008), (1395, 0.004695553998600168), (4674, 0.004685199616217188), (2925, 0.004683608149210584), (3471, 0.00463815220001954), (2917, 0.004594714599875603), (929, 0.004515759979994442), (4752, 0.004484096898534882), (3365, 0.004414592174514592), (831, 0.004118127252893152), (243, 0.004106886412128067), (1506, 0.003994783444709513), (3456, 0.003984027544041268), (3, 0.0), (4, 0.0), (5, 0.0), (11, 0.0), (12, 0.0), (13, 0.0), (14, 0.0), (20, 0.0), (25, 0.0), (26, 0.0), (33, 0.0), (42, 0.0), (43, 0.0), (49, 0.0), (61, 0.0), (62, 0.0), (66, 0.0), (71, 0.0), (86, 0.0), (100, 0.0), (103, 0.0), (105, 0.0), (111, 0.0), (113, 0.0), (114, 0.0), (115, 0.0), (117, 0.0), (120, 0.0), (121, 0.0), (126, 0.0), (127, 0.0), (129, 0.0), (131, 0.0), (132, 0.0), (133, 0.0), (134, 0.0), (140, 0.0), (141, 0.0), (146, 0.0), (156, 0.0), (157, 0.0), (161, 0.0), (163, 0.0), (164, 0.0), (168, 0.0), (169, 0.0), (172, 0.0), (174, 0.0), (175, 0.0), (176, 0.0), (177, 0.0), (178, 0.0), (183, 0.0), (188, 0.0), (192, 0.0), (194, 0.0), (195, 0.0), (196, 0.0), (197, 0.0), (203, 0.0), (204, 0.0), (205, 0.0), (209, 0.0), (211, 0.0), (214, 0.0), (215, 0.0), (221, 0.0), (224, 0.0), (225, 0.0), (227, 0.0), (228, 0.0), (229, 0.0), (235, 0.0), (246, 0.0), (248, 0.0), (249, 0.0), (251, 0.0), (256, 0.0), (262, 0.0), (267, 0.0), (268, 0.0), (272, 0.0), (275, 0.0), (278, 0.0), (279, 0.0), (280, 0.0), (281, 0.0), (285, 0.0), (287, 0.0), (302, 0.0), (308, 0.0), (309, 0.0), (311, 0.0), (312, 0.0), (317, 0.0), (318, 0.0), (326, 0.0), (331, 0.0), (335, 0.0), (337, 0.0), (338, 0.0), (339, 0.0), (344, 0.0), (348, 0.0), (351, 0.0), (352, 0.0), (357, 0.0), (366, 0.0), (372, 0.0), (373, 0.0), (383, 0.0), (384, 0.0), (385, 0.0), (387, 0.0), (388, 0.0), (391, 0.0), (392, 0.0), (393, 0.0), (395, 0.0), (398, 0.0), (402, 0.0), (407, 0.0), (408, 0.0), (412, 0.0), (414, 0.0), (415, 0.0), (423, 0.0), (431, 0.0), (434, 0.0), (437, 0.0), (441, 0.0), (444, 0.0), (445, 0.0), (454, 0.0), (456, 0.0), (459, 0.0), (462, 0.0), (465, 0.0), (471, 0.0), (473, 0.0), (479, 0.0), (480, 0.0), (483, 0.0), (487, 0.0), (488, 0.0), (489, 0.0), (503, 0.0), (504, 0.0), (505, 0.0), (506, 0.0), (507, 0.0), (508, 0.0), (510, 0.0), (518, 0.0), (520, 0.0), (524, 0.0), (525, 0.0), (526, 0.0), (527, 0.0), (529, 0.0), (531, 0.0), (535, 0.0), (536, 0.0), (541, 0.0), (544, 0.0), (549, 0.0), (552, 0.0), (556, 0.0), (557, 0.0), (564, 0.0), (574, 0.0), (576, 0.0), (577, 0.0), (578, 0.0), (583, 0.0), (585, 0.0), (587, 0.0), (588, 0.0), (589, 0.0), (593, 0.0), (596, 0.0), (598, 0.0), (605, 0.0), (607, 0.0), (609, 0.0), (611, 0.0), (624, 0.0), (626, 0.0), (638, 0.0), (645, 0.0), (646, 0.0), (649, 0.0), (655, 0.0), (658, 0.0), (659, 0.0), (664, 0.0), (671, 0.0), (679, 0.0), (691, 0.0), (693, 0.0), (698, 0.0), (705, 0.0), (708, 0.0), (709, 0.0), (710, 0.0), (711, 0.0), (712, 0.0), (717, 0.0), (722, 0.0), (734, 0.0), (735, 0.0), (736, 0.0), (739, 0.0), (740, 0.0), (741, 0.0), (746, 0.0), (754, 0.0), (757, 0.0), (764, 0.0), (766, 0.0), (767, 0.0), (770, 0.0), (771, 0.0), (772, 0.0), (780, 0.0), (781, 0.0), (782, 0.0), (783, 0.0), (786, 0.0), (787, 0.0), (789, 0.0), (791, 0.0), (792, 0.0), (794, 0.0), (796, 0.0), (797, 0.0), (806, 0.0), (807, 0.0), (813, 0.0), (816, 0.0), (817, 0.0), (818, 0.0), (819, 0.0), (820, 0.0), (824, 0.0), (828, 0.0), (830, 0.0), (833, 0.0), (834, 0.0), (835, 0.0), (836, 0.0), (839, 0.0), (841, 0.0), (844, 0.0), (846, 0.0), (847, 0.0), (850, 0.0), (857, 0.0), (873, 0.0), (874, 0.0), (881, 0.0), (885, 0.0), (886, 0.0), (887, 0.0), (889, 0.0), (890, 0.0), (892, 0.0), (894, 0.0), (899, 0.0), (901, 0.0), (907, 0.0), (917, 0.0), (925, 0.0), (933, 0.0), (939, 0.0), (940, 0.0), (941, 0.0), (943, 0.0), (950, 0.0), (955, 0.0), (958, 0.0), (959, 0.0), (960, 0.0), (961, 0.0), (962, 0.0), (964, 0.0), (969, 0.0), (978, 0.0), (982, 0.0), (983, 0.0), (985, 0.0), (987, 0.0), (993, 0.0), (998, 0.0), (999, 0.0), (1002, 0.0), (1004, 0.0), (1008, 0.0), (1019, 0.0), (1020, 0.0), (1021, 0.0), (1026, 0.0), (1029, 0.0), (1032, 0.0), (1033, 0.0), (1034, 0.0), (1036, 0.0), (1037, 0.0), (1038, 0.0), (1040, 0.0), (1042, 0.0), (1049, 0.0), (1052, 0.0), (1053, 0.0), (1059, 0.0), (1062, 0.0), (1070, 0.0), (1072, 0.0), (1075, 0.0), (1078, 0.0), (1080, 0.0), (1081, 0.0), (1084, 0.0), (1088, 0.0), (1089, 0.0), (1093, 0.0), (1098, 0.0), (1100, 0.0), (1105, 0.0), (1106, 0.0), (1110, 0.0), (1112, 0.0), (1124, 0.0), (1128, 0.0), (1130, 0.0), (1133, 0.0), (1136, 0.0), (1139, 0.0), (1142, 0.0), (1143, 0.0), (1144, 0.0), (1145, 0.0), (1147, 0.0), (1149, 0.0), (1155, 0.0), (1156, 0.0), (1159, 0.0), (1160, 0.0), (1161, 0.0), (1163, 0.0), (1168, 0.0), (1169, 0.0), (1170, 0.0), (1176, 0.0), (1178, 0.0), (1180, 0.0), (1182, 0.0), (1186, 0.0), (1187, 0.0), (1189, 0.0), (1190, 0.0), (1193, 0.0), (1196, 0.0), (1199, 0.0), (1200, 0.0), (1201, 0.0), (1203, 0.0), (1204, 0.0), (1208, 0.0), (1209, 0.0), (1213, 0.0), (1216, 0.0), (1217, 0.0), (1218, 0.0), (1235, 0.0), (1243, 0.0), (1246, 0.0), (1247, 0.0), (1260, 0.0), (1264, 0.0), (1267, 0.0), (1268, 0.0), (1271, 0.0), (1277, 0.0), (1282, 0.0), (1284, 0.0), (1286, 0.0), (1289, 0.0), (1298, 0.0), (1306, 0.0), (1311, 0.0), (1312, 0.0), (1313, 0.0), (1316, 0.0), (1317, 0.0), (1318, 0.0), (1319, 0.0), (1330, 0.0), (1331, 0.0), (1336, 0.0), (1339, 0.0), (1340, 0.0), (1344, 0.0), (1349, 0.0), (1353, 0.0), (1359, 0.0), (1362, 0.0), (1370, 0.0), (1371, 0.0), (1372, 0.0), (1376, 0.0), (1378, 0.0), (1382, 0.0), (1390, 0.0), (1392, 0.0), (1394, 0.0), (1399, 0.0), (1402, 0.0), (1403, 0.0), (1404, 0.0), (1405, 0.0), (1409, 0.0), (1410, 0.0), (1415, 0.0), (1416, 0.0), (1422, 0.0), (1424, 0.0), (1425, 0.0), (1427, 0.0), (1434, 0.0), (1438, 0.0), (1439, 0.0), (1441, 0.0), (1444, 0.0), (1445, 0.0), (1446, 0.0), (1450, 0.0), (1456, 0.0), (1457, 0.0), (1461, 0.0), (1463, 0.0), (1464, 0.0), (1479, 0.0), (1482, 0.0), (1485, 0.0), (1487, 0.0), (1491, 0.0), (1492, 0.0), (1494, 0.0), (1499, 0.0), (1501, 0.0), (1507, 0.0), (1517, 0.0), (1518, 0.0), (1520, 0.0), (1523, 0.0), (1524, 0.0), (1525, 0.0), (1528, 0.0), (1532, 0.0), (1533, 0.0), (1534, 0.0), (1539, 0.0), (1541, 0.0), (1543, 0.0), (1549, 0.0), (1550, 0.0), (1553, 0.0), (1556, 0.0), (1557, 0.0), (1558, 0.0), (1561, 0.0), (1563, 0.0), (1565, 0.0), (1571, 0.0), (1574, 0.0), (1578, 0.0), (1582, 0.0), (1583, 0.0), (1586, 0.0), (1589, 0.0), (1593, 0.0), (1594, 0.0), (1596, 0.0), (1597, 0.0), (1602, 0.0), (1605, 0.0), (1606, 0.0), (1609, 0.0), (1610, 0.0), (1612, 0.0), (1617, 0.0), (1618, 0.0), (1619, 0.0), (1620, 0.0), (1624, 0.0), (1628, 0.0), (1634, 0.0), (1636, 0.0), (1637, 0.0), (1639, 0.0), (1642, 0.0), (1646, 0.0), (1648, 0.0), (1652, 0.0), (1656, 0.0), (1658, 0.0), (1660, 0.0), (1663, 0.0), (1668, 0.0), (1670, 0.0), (1674, 0.0), (1676, 0.0), (1679, 0.0), (1682, 0.0), (1683, 0.0), (1684, 0.0), (1685, 0.0), (1689, 0.0), (1691, 0.0), (1698, 0.0), (1702, 0.0), (1704, 0.0), (1707, 0.0), (1710, 0.0), (1711, 0.0), (1712, 0.0), (1715, 0.0), (1718, 0.0), (1719, 0.0), (1720, 0.0), (1722, 0.0), (1726, 0.0), (1730, 0.0), (1733, 0.0), (1737, 0.0), (1741, 0.0), (1742, 0.0), (1744, 0.0), (1746, 0.0), (1747, 0.0), (1748, 0.0), (1752, 0.0), (1754, 0.0), (1759, 0.0), (1763, 0.0), (1766, 0.0), (1767, 0.0), (1768, 0.0), (1775, 0.0), (1776, 0.0), (1778, 0.0), (1780, 0.0), (1786, 0.0), (1790, 0.0), (1792, 0.0), (1794, 0.0), (1795, 0.0), (1800, 0.0), (1801, 0.0), (1803, 0.0), (1804, 0.0), (1806, 0.0), (1807, 0.0), (1808, 0.0), (1814, 0.0), (1816, 0.0), (1821, 0.0), (1825, 0.0), (1826, 0.0), (1830, 0.0), (1831, 0.0), (1834, 0.0), (1835, 0.0), (1837, 0.0), (1839, 0.0), (1843, 0.0), (1848, 0.0), (1849, 0.0), (1854, 0.0), (1856, 0.0), (1858, 0.0), (1862, 0.0), (1863, 0.0), (1867, 0.0), (1868, 0.0), (1872, 0.0), (1874, 0.0), (1877, 0.0), (1878, 0.0), (1879, 0.0), (1882, 0.0), (1884, 0.0), (1885, 0.0), (1887, 0.0), (1888, 0.0), (1890, 0.0), (1905, 0.0), (1906, 0.0), (1907, 0.0), (1913, 0.0), (1915, 0.0), (1916, 0.0), (1917, 0.0), (1919, 0.0), (1921, 0.0), (1922, 0.0), (1923, 0.0), (1928, 0.0), (1929, 0.0), (1938, 0.0), (1943, 0.0), (1944, 0.0), (1946, 0.0), (1947, 0.0), (1951, 0.0), (1954, 0.0), (1956, 0.0), (1959, 0.0), (1963, 0.0), (1972, 0.0), (1978, 0.0), (1979, 0.0), (1980, 0.0), (1986, 0.0), (1994, 0.0), (1995, 0.0), (2001, 0.0), (2002, 0.0), (2003, 0.0), (2005, 0.0), (2007, 0.0), (2009, 0.0), (2011, 0.0), (2023, 0.0), (2027, 0.0), (2029, 0.0), (2030, 0.0), (2032, 0.0), (2035, 0.0), (2039, 0.0), (2041, 0.0), (2042, 0.0), (2046, 0.0), (2047, 0.0), (2049, 0.0), (2054, 0.0), (2056, 0.0), (2059, 0.0), (2063, 0.0), (2064, 0.0), (2071, 0.0), (2073, 0.0), (2076, 0.0), (2079, 0.0), (2080, 0.0), (2087, 0.0), (2092, 0.0), (2098, 0.0), (2101, 0.0), (2105, 0.0), (2106, 0.0), (2107, 0.0), (2108, 0.0), (2111, 0.0), (2115, 0.0), (2120, 0.0), (2122, 0.0), (2128, 0.0), (2129, 0.0), (2132, 0.0), (2133, 0.0), (2134, 0.0), (2138, 0.0), (2140, 0.0), (2141, 0.0), (2142, 0.0), (2143, 0.0), (2145, 0.0), (2146, 0.0), (2147, 0.0), (2148, 0.0), (2151, 0.0), (2152, 0.0), (2155, 0.0), (2157, 0.0), (2159, 0.0), (2160, 0.0), (2161, 0.0), (2162, 0.0), (2163, 0.0), (2165, 0.0), (2167, 0.0), (2168, 0.0), (2169, 0.0), (2173, 0.0), (2175, 0.0), (2176, 0.0), (2179, 0.0), (2186, 0.0), (2187, 0.0), (2189, 0.0), (2193, 0.0), (2194, 0.0), (2195, 0.0), (2199, 0.0), (2200, 0.0), (2201, 0.0), (2202, 0.0), (2203, 0.0), (2204, 0.0), (2207, 0.0), (2209, 0.0), (2213, 0.0), (2215, 0.0), (2219, 0.0), (2220, 0.0), (2223, 0.0), (2225, 0.0), (2226, 0.0), (2228, 0.0), (2242, 0.0), (2244, 0.0), (2247, 0.0), (2251, 0.0), (2253, 0.0), (2256, 0.0), (2257, 0.0), (2258, 0.0), (2260, 0.0), (2261, 0.0), (2262, 0.0), (2263, 0.0), (2264, 0.0), (2266, 0.0), (2267, 0.0), (2268, 0.0), (2271, 0.0), (2272, 0.0), (2279, 0.0), (2281, 0.0), (2282, 0.0), (2289, 0.0), (2291, 0.0), (2292, 0.0), (2293, 0.0), (2297, 0.0), (2299, 0.0), (2300, 0.0), (2302, 0.0), (2305, 0.0), (2306, 0.0), (2307, 0.0), (2309, 0.0), (2310, 0.0), (2311, 0.0), (2317, 0.0), (2319, 0.0), (2320, 0.0), (2321, 0.0), (2323, 0.0), (2325, 0.0), (2327, 0.0), (2331, 0.0), (2333, 0.0), (2335, 0.0), (2338, 0.0), (2339, 0.0), (2341, 0.0), (2343, 0.0), (2345, 0.0), (2346, 0.0), (2347, 0.0), (2349, 0.0), (2350, 0.0), (2351, 0.0), (2354, 0.0), (2358, 0.0), (2360, 0.0), (2362, 0.0), (2366, 0.0), (2367, 0.0), (2368, 0.0), (2369, 0.0), (2370, 0.0), (2371, 0.0), (2372, 0.0), (2373, 0.0), (2375, 0.0), (2376, 0.0), (2377, 0.0), (2379, 0.0), (2380, 0.0), (2382, 0.0), (2384, 0.0), (2385, 0.0), (2386, 0.0), (2387, 0.0), (2388, 0.0), (2391, 0.0), (2392, 0.0), (2394, 0.0), (2395, 0.0), (2396, 0.0), (2400, 0.0), (2401, 0.0), (2402, 0.0), (2403, 0.0), (2404, 0.0), (2407, 0.0), (2409, 0.0), (2410, 0.0), (2416, 0.0), (2417, 0.0), (2418, 0.0), (2419, 0.0), (2420, 0.0), (2422, 0.0), (2423, 0.0), (2425, 0.0), (2430, 0.0), (2434, 0.0), (2435, 0.0), (2436, 0.0), (2437, 0.0), (2438, 0.0), (2440, 0.0), (2441, 0.0), (2446, 0.0), (2448, 0.0), (2449, 0.0), (2452, 0.0), (2454, 0.0), (2455, 0.0), (2456, 0.0), (2457, 0.0), (2458, 0.0), (2460, 0.0), (2461, 0.0), (2462, 0.0), (2463, 0.0), (2464, 0.0), (2465, 0.0), (2466, 0.0), (2467, 0.0), (2475, 0.0), (2478, 0.0), (2482, 0.0), (2483, 0.0), (2485, 0.0), (2487, 0.0), (2488, 0.0), (2489, 0.0), (2490, 0.0), (2491, 0.0), (2492, 0.0), (2495, 0.0), (2502, 0.0), (2503, 0.0), (2505, 0.0), (2507, 0.0), (2508, 0.0), (2510, 0.0), (2511, 0.0), (2514, 0.0), (2515, 0.0), (2516, 0.0), (2518, 0.0), (2519, 0.0), (2520, 0.0), (2523, 0.0), (2525, 0.0), (2528, 0.0), (2529, 0.0), (2531, 0.0), (2533, 0.0), (2535, 0.0), (2536, 0.0), (2537, 0.0), (2538, 0.0), (2542, 0.0), (2543, 0.0), (2545, 0.0), (2546, 0.0), (2548, 0.0), (2550, 0.0), (2552, 0.0), (2553, 0.0), (2556, 0.0), (2561, 0.0), (2563, 0.0), (2564, 0.0), (2568, 0.0), (2570, 0.0), (2577, 0.0), (2579, 0.0), (2585, 0.0), (2588, 0.0), (2592, 0.0), (2593, 0.0), (2595, 0.0), (2596, 0.0), (2601, 0.0), (2610, 0.0), (2611, 0.0), (2613, 0.0), (2614, 0.0), (2619, 0.0), (2620, 0.0), (2623, 0.0), (2627, 0.0), (2629, 0.0), (2631, 0.0), (2639, 0.0), (2648, 0.0), (2649, 0.0), (2650, 0.0), (2652, 0.0), (2653, 0.0), (2654, 0.0), (2656, 0.0), (2658, 0.0), (2660, 0.0), (2661, 0.0), (2662, 0.0), (2663, 0.0), (2664, 0.0), (2665, 0.0), (2669, 0.0), (2671, 0.0), (2673, 0.0), (2675, 0.0), (2677, 0.0), (2678, 0.0), (2681, 0.0), (2685, 0.0), (2690, 0.0), (2693, 0.0), (2698, 0.0), (2699, 0.0), (2701, 0.0), (2702, 0.0), (2705, 0.0), (2709, 0.0), (2712, 0.0), (2717, 0.0), (2719, 0.0), (2721, 0.0), (2722, 0.0), (2723, 0.0), (2726, 0.0), (2731, 0.0), (2732, 0.0), (2734, 0.0), (2735, 0.0), (2737, 0.0), (2738, 0.0), (2739, 0.0), (2743, 0.0), (2744, 0.0), (2745, 0.0), (2746, 0.0), (2747, 0.0), (2748, 0.0), (2750, 0.0), (2752, 0.0), (2757, 0.0), (2758, 0.0), (2760, 0.0), (2761, 0.0), (2764, 0.0), (2769, 0.0), (2773, 0.0), (2776, 0.0), (2779, 0.0), (2783, 0.0), (2785, 0.0), (2786, 0.0), (2792, 0.0), (2794, 0.0), (2796, 0.0), (2797, 0.0), (2800, 0.0), (2802, 0.0), (2805, 0.0), (2807, 0.0), (2809, 0.0), (2812, 0.0), (2813, 0.0), (2816, 0.0), (2817, 0.0), (2818, 0.0), (2821, 0.0), (2823, 0.0), (2827, 0.0), (2829, 0.0), (2831, 0.0), (2832, 0.0), (2834, 0.0), (2835, 0.0), (2836, 0.0), (2838, 0.0), (2839, 0.0), (2845, 0.0), (2846, 0.0), (2848, 0.0), (2852, 0.0), (2853, 0.0), (2855, 0.0), (2856, 0.0), (2857, 0.0), (2858, 0.0), (2859, 0.0), (2861, 0.0), (2863, 0.0), (2866, 0.0), (2868, 0.0), (2870, 0.0), (2872, 0.0), (2874, 0.0), (2875, 0.0), (2877, 0.0), (2883, 0.0), (2884, 0.0), (2886, 0.0), (2889, 0.0), (2890, 0.0), (2891, 0.0), (2892, 0.0), (2893, 0.0), (2894, 0.0), (2900, 0.0), (2901, 0.0), (2905, 0.0), (2906, 0.0), (2907, 0.0), (2909, 0.0), (2912, 0.0), (2914, 0.0), (2916, 0.0), (2923, 0.0), (2924, 0.0), (2926, 0.0), (2928, 0.0), (2930, 0.0), (2931, 0.0), (2933, 0.0), (2934, 0.0), (2936, 0.0), (2938, 0.0), (2941, 0.0), (2942, 0.0), (2945, 0.0), (2946, 0.0), (2964, 0.0), (2965, 0.0), (2966, 0.0), (2967, 0.0), (2968, 0.0), (2970, 0.0), (2972, 0.0), (2973, 0.0), (2974, 0.0), (2975, 0.0), (2976, 0.0), (2977, 0.0), (2980, 0.0), (2983, 0.0), (2985, 0.0), (2986, 0.0), (2987, 0.0), (2993, 0.0), (2994, 0.0), (2997, 0.0), (2999, 0.0), (3004, 0.0), (3006, 0.0), (3007, 0.0), (3009, 0.0), (3010, 0.0), (3013, 0.0), (3015, 0.0), (3016, 0.0), (3017, 0.0), (3018, 0.0), (3025, 0.0), (3026, 0.0), (3029, 0.0), (3030, 0.0), (3033, 0.0), (3034, 0.0), (3036, 0.0), (3037, 0.0), (3038, 0.0), (3039, 0.0), (3040, 0.0), (3041, 0.0), (3042, 0.0), (3050, 0.0), (3052, 0.0), (3053, 0.0), (3054, 0.0), (3055, 0.0), (3057, 0.0), (3061, 0.0), (3066, 0.0), (3067, 0.0), (3069, 0.0), (3071, 0.0), (3072, 0.0), (3073, 0.0), (3074, 0.0), (3075, 0.0), (3076, 0.0), (3077, 0.0), (3081, 0.0), (3082, 0.0), (3084, 0.0), (3087, 0.0), (3088, 0.0), (3090, 0.0), (3092, 0.0), (3093, 0.0), (3094, 0.0), (3098, 0.0), (3102, 0.0), (3103, 0.0), (3104, 0.0), (3106, 0.0), (3107, 0.0), (3109, 0.0), (3113, 0.0), (3116, 0.0), (3119, 0.0), (3120, 0.0), (3128, 0.0), (3137, 0.0), (3138, 0.0), (3139, 0.0), (3142, 0.0), (3145, 0.0), (3146, 0.0), (3147, 0.0), (3148, 0.0), (3150, 0.0), (3151, 0.0), (3155, 0.0), (3157, 0.0), (3159, 0.0), (3162, 0.0), (3164, 0.0), (3166, 0.0), (3167, 0.0), (3170, 0.0), (3171, 0.0), (3175, 0.0), (3176, 0.0), (3177, 0.0), (3178, 0.0), (3182, 0.0), (3184, 0.0), (3187, 0.0), (3188, 0.0), (3194, 0.0), (3197, 0.0), (3198, 0.0), (3199, 0.0), (3200, 0.0), (3203, 0.0), (3207, 0.0), (3209, 0.0), (3211, 0.0), (3212, 0.0), (3214, 0.0), (3216, 0.0), (3217, 0.0), (3218, 0.0), (3220, 0.0), (3222, 0.0), (3224, 0.0), (3226, 0.0), (3229, 0.0), (3230, 0.0), (3234, 0.0), (3237, 0.0), (3238, 0.0), (3239, 0.0), (3240, 0.0), (3242, 0.0), (3243, 0.0), (3245, 0.0), (3246, 0.0), (3248, 0.0), (3249, 0.0), (3250, 0.0), (3252, 0.0), (3254, 0.0), (3255, 0.0), (3256, 0.0), (3257, 0.0), (3258, 0.0), (3260, 0.0), (3261, 0.0), (3262, 0.0), (3264, 0.0), (3265, 0.0), (3266, 0.0), (3268, 0.0), (3271, 0.0), (3273, 0.0), (3274, 0.0), (3277, 0.0), (3278, 0.0), (3280, 0.0), (3281, 0.0), (3282, 0.0), (3283, 0.0), (3285, 0.0), (3288, 0.0), (3289, 0.0), (3290, 0.0), (3291, 0.0), (3292, 0.0), (3293, 0.0), (3295, 0.0), (3296, 0.0), (3300, 0.0), (3301, 0.0), (3304, 0.0), (3309, 0.0), (3313, 0.0), (3315, 0.0), (3316, 0.0), (3320, 0.0), (3321, 0.0), (3322, 0.0), (3324, 0.0), (3326, 0.0), (3329, 0.0), (3333, 0.0), (3335, 0.0), (3337, 0.0), (3341, 0.0), (3345, 0.0), (3347, 0.0), (3348, 0.0), (3350, 0.0), (3352, 0.0), (3354, 0.0), (3355, 0.0), (3357, 0.0), (3358, 0.0), (3359, 0.0), (3363, 0.0), (3364, 0.0), (3369, 0.0), (3371, 0.0), (3375, 0.0), (3376, 0.0), (3378, 0.0), (3379, 0.0), (3380, 0.0), (3381, 0.0), (3386, 0.0), (3388, 0.0), (3390, 0.0), (3391, 0.0), (3392, 0.0), (3396, 0.0), (3399, 0.0), (3400, 0.0), (3401, 0.0), (3402, 0.0), (3406, 0.0), (3409, 0.0), (3411, 0.0), (3413, 0.0), (3414, 0.0), (3415, 0.0), (3417, 0.0), (3418, 0.0), (3420, 0.0), (3421, 0.0), (3422, 0.0), (3423, 0.0), (3428, 0.0), (3430, 0.0), (3431, 0.0), (3434, 0.0), (3442, 0.0), (3447, 0.0), (3449, 0.0), (3455, 0.0), (3458, 0.0), (3462, 0.0), (3476, 0.0), (3478, 0.0), (3481, 0.0), (3489, 0.0), (3490, 0.0), (3491, 0.0), (3493, 0.0), (3494, 0.0), (3496, 0.0), (3500, 0.0), (3505, 0.0), (3506, 0.0), (3508, 0.0), (3509, 0.0), (3510, 0.0), (3511, 0.0), (3512, 0.0), (3517, 0.0), (3518, 0.0), (3519, 0.0), (3523, 0.0), (3527, 0.0), (3529, 0.0), (3530, 0.0), (3533, 0.0), (3534, 0.0), (3537, 0.0), (3539, 0.0), (3540, 0.0), (3541, 0.0), (3543, 0.0), (3544, 0.0), (3545, 0.0), (3547, 0.0), (3550, 0.0), (3552, 0.0), (3558, 0.0), (3562, 0.0), (3563, 0.0), (3564, 0.0), (3565, 0.0), (3570, 0.0), (3572, 0.0), (3573, 0.0), (3575, 0.0), (3577, 0.0), (3579, 0.0), (3580, 0.0), (3581, 0.0), (3585, 0.0), (3589, 0.0), (3590, 0.0), (3592, 0.0), (3596, 0.0), (3601, 0.0), (3606, 0.0), (3607, 0.0), (3608, 0.0), (3610, 0.0), (3611, 0.0), (3613, 0.0), (3614, 0.0), (3615, 0.0), (3617, 0.0), (3620, 0.0), (3622, 0.0), (3626, 0.0), (3627, 0.0), (3631, 0.0), (3632, 0.0), (3633, 0.0), (3636, 0.0), (3639, 0.0), (3643, 0.0), (3644, 0.0), (3646, 0.0), (3649, 0.0), (3654, 0.0), (3655, 0.0), (3656, 0.0), (3662, 0.0), (3663, 0.0), (3667, 0.0), (3669, 0.0), (3672, 0.0), (3673, 0.0), (3677, 0.0), (3678, 0.0), (3681, 0.0), (3682, 0.0), (3683, 0.0), (3686, 0.0), (3687, 0.0), (3691, 0.0), (3701, 0.0), (3702, 0.0), (3716, 0.0), (3717, 0.0), (3719, 0.0), (3725, 0.0), (3728, 0.0), (3729, 0.0), (3731, 0.0), (3733, 0.0), (3736, 0.0), (3737, 0.0), (3739, 0.0), (3745, 0.0), (3746, 0.0), (3748, 0.0), (3749, 0.0), (3750, 0.0), (3752, 0.0), (3753, 0.0), (3754, 0.0), (3755, 0.0), (3757, 0.0), (3758, 0.0), (3760, 0.0), (3761, 0.0), (3762, 0.0), (3763, 0.0), (3764, 0.0), (3765, 0.0), (3772, 0.0), (3778, 0.0), (3779, 0.0), (3784, 0.0), (3789, 0.0), (3791, 0.0), (3792, 0.0), (3796, 0.0), (3799, 0.0), (3800, 0.0), (3804, 0.0), (3808, 0.0), (3809, 0.0), (3811, 0.0), (3812, 0.0), (3813, 0.0), (3816, 0.0), (3818, 0.0), (3820, 0.0), (3821, 0.0), (3822, 0.0), (3825, 0.0), (3827, 0.0), (3829, 0.0), (3830, 0.0), (3831, 0.0), (3832, 0.0), (3835, 0.0), (3836, 0.0), (3837, 0.0), (3838, 0.0), (3839, 0.0), (3842, 0.0), (3843, 0.0), (3845, 0.0), (3847, 0.0), (3848, 0.0), (3851, 0.0), (3855, 0.0), (3857, 0.0), (3859, 0.0), (3861, 0.0), (3863, 0.0), (3868, 0.0), (3872, 0.0), (3874, 0.0), (3875, 0.0), (3879, 0.0), (3880, 0.0), (3882, 0.0), (3885, 0.0), (3887, 0.0), (3890, 0.0), (3891, 0.0), (3892, 0.0), (3893, 0.0), (3895, 0.0), (3896, 0.0), (3898, 0.0), (3899, 0.0), (3902, 0.0), (3905, 0.0), (3906, 0.0), (3909, 0.0), (3911, 0.0), (3912, 0.0), (3918, 0.0), (3920, 0.0), (3921, 0.0), (3922, 0.0), (3924, 0.0), (3925, 0.0), (3926, 0.0), (3927, 0.0), (3928, 0.0), (3929, 0.0), (3930, 0.0), (3931, 0.0), (3932, 0.0), (3933, 0.0), (3934, 0.0), (3935, 0.0), (3936, 0.0), (3939, 0.0), (3940, 0.0), (3941, 0.0), (3943, 0.0), (3945, 0.0), (3948, 0.0), (3951, 0.0), (3952, 0.0), (3954, 0.0), (3956, 0.0), (3962, 0.0), (3964, 0.0), (3967, 0.0), (3969, 0.0), (3971, 0.0), (3973, 0.0), (3976, 0.0), (3981, 0.0), (3984, 0.0), (3985, 0.0), (3986, 0.0), (3987, 0.0), (3988, 0.0), (3992, 0.0), (3996, 0.0), (3999, 0.0), (4002, 0.0), (4006, 0.0), (4008, 0.0), (4011, 0.0), (4019, 0.0), (4021, 0.0), (4022, 0.0), (4023, 0.0), (4024, 0.0), (4026, 0.0), (4027, 0.0), (4028, 0.0), (4029, 0.0), (4030, 0.0), (4032, 0.0), (4035, 0.0), (4040, 0.0), (4042, 0.0), (4048, 0.0), (4049, 0.0), (4052, 0.0), (4057, 0.0), (4059, 0.0), (4065, 0.0), (4066, 0.0), (4067, 0.0), (4069, 0.0), (4072, 0.0), (4073, 0.0), (4075, 0.0), (4078, 0.0), (4079, 0.0), (4080, 0.0), (4081, 0.0), (4082, 0.0), (4083, 0.0), (4084, 0.0), (4085, 0.0), (4097, 0.0), (4102, 0.0), (4104, 0.0), (4105, 0.0), (4107, 0.0), (4108, 0.0), (4109, 0.0), (4110, 0.0), (4111, 0.0), (4113, 0.0), (4115, 0.0), (4117, 0.0), (4126, 0.0), (4127, 0.0), (4129, 0.0), (4135, 0.0), (4137, 0.0), (4140, 0.0), (4141, 0.0), (4145, 0.0), (4146, 0.0), (4149, 0.0), (4150, 0.0), (4151, 0.0), (4157, 0.0), (4161, 0.0), (4166, 0.0), (4167, 0.0), (4170, 0.0), (4172, 0.0), (4174, 0.0), (4175, 0.0), (4177, 0.0), (4179, 0.0), (4180, 0.0), (4182, 0.0), (4183, 0.0), (4184, 0.0), (4187, 0.0), (4190, 0.0), (4191, 0.0), (4192, 0.0), (4197, 0.0), (4198, 0.0), (4200, 0.0), (4201, 0.0), (4204, 0.0), (4205, 0.0), (4206, 0.0), (4212, 0.0), (4213, 0.0), (4214, 0.0), (4215, 0.0), (4217, 0.0), (4220, 0.0), (4222, 0.0), (4223, 0.0), (4225, 0.0), (4226, 0.0), (4228, 0.0), (4229, 0.0), (4230, 0.0), (4232, 0.0), (4234, 0.0), (4237, 0.0), (4239, 0.0), (4243, 0.0), (4246, 0.0), (4252, 0.0), (4257, 0.0), (4258, 0.0), (4260, 0.0), (4262, 0.0), (4263, 0.0), (4267, 0.0), (4268, 0.0), (4271, 0.0), (4273, 0.0), (4277, 0.0), (4278, 0.0), (4280, 0.0), (4287, 0.0), (4291, 0.0), (4296, 0.0), (4297, 0.0), (4301, 0.0), (4305, 0.0), (4306, 0.0), (4308, 0.0), (4311, 0.0), (4314, 0.0), (4315, 0.0), (4317, 0.0), (4318, 0.0), (4319, 0.0), (4320, 0.0), (4321, 0.0), (4326, 0.0), (4327, 0.0), (4329, 0.0), (4332, 0.0), (4333, 0.0), (4335, 0.0), (4336, 0.0), (4340, 0.0), (4342, 0.0), (4343, 0.0), (4349, 0.0), (4352, 0.0), (4355, 0.0), (4357, 0.0), (4358, 0.0), (4359, 0.0), (4361, 0.0), (4363, 0.0), (4367, 0.0), (4371, 0.0), (4372, 0.0), (4381, 0.0), (4385, 0.0), (4386, 0.0), (4388, 0.0), (4395, 0.0), (4396, 0.0), (4397, 0.0), (4398, 0.0), (4399, 0.0), (4400, 0.0), (4404, 0.0), (4407, 0.0), (4408, 0.0), (4411, 0.0), (4413, 0.0), (4414, 0.0), (4415, 0.0), (4417, 0.0), (4421, 0.0), (4422, 0.0), (4423, 0.0), (4424, 0.0), (4425, 0.0), (4427, 0.0), (4433, 0.0), (4434, 0.0), (4437, 0.0), (4442, 0.0), (4448, 0.0), (4449, 0.0), (4451, 0.0), (4452, 0.0), (4458, 0.0), (4460, 0.0), (4461, 0.0), (4465, 0.0), (4469, 0.0), (4471, 0.0), (4473, 0.0), (4476, 0.0), (4480, 0.0), (4483, 0.0), (4484, 0.0), (4485, 0.0), (4495, 0.0), (4496, 0.0), (4497, 0.0), (4498, 0.0), (4499, 0.0), (4500, 0.0), (4502, 0.0), (4504, 0.0), (4505, 0.0), (4506, 0.0), (4507, 0.0), (4508, 0.0), (4511, 0.0), (4520, 0.0), (4521, 0.0), (4528, 0.0), (4529, 0.0), (4530, 0.0), (4532, 0.0), (4536, 0.0), (4538, 0.0), (4539, 0.0), (4540, 0.0), (4541, 0.0), (4542, 0.0), (4551, 0.0), (4555, 0.0), (4556, 0.0), (4558, 0.0), (4559, 0.0), (4560, 0.0), (4561, 0.0), (4562, 0.0), (4565, 0.0), (4566, 0.0), (4567, 0.0), (4571, 0.0), (4572, 0.0), (4575, 0.0), (4577, 0.0), (4578, 0.0), (4583, 0.0), (4592, 0.0), (4594, 0.0), (4598, 0.0), (4599, 0.0), (4602, 0.0), (4603, 0.0), (4604, 0.0), (4605, 0.0), (4607, 0.0), (4611, 0.0), (4615, 0.0), (4616, 0.0), (4617, 0.0), (4618, 0.0), (4620, 0.0), (4625, 0.0), (4627, 0.0), (4633, 0.0), (4634, 0.0), (4635, 0.0), (4636, 0.0), (4640, 0.0), (4641, 0.0), (4644, 0.0), (4645, 0.0), (4648, 0.0), (4651, 0.0), (4652, 0.0), (4654, 0.0), (4655, 0.0), (4657, 0.0), (4662, 0.0), (4667, 0.0), (4668, 0.0), (4671, 0.0), (4672, 0.0), (4675, 0.0), (4680, 0.0), (4681, 0.0), (4685, 0.0), (4686, 0.0), (4692, 0.0), (4693, 0.0), (4694, 0.0), (4696, 0.0), (4700, 0.0), (4702, 0.0), (4704, 0.0), (4706, 0.0), (4707, 0.0), (4711, 0.0), (4712, 0.0), (4713, 0.0), (4717, 0.0), (4718, 0.0), (4719, 0.0), (4720, 0.0), (4722, 0.0), (4729, 0.0), (4732, 0.0), (4734, 0.0), (4737, 0.0), (4740, 0.0), (4744, 0.0), (4750, 0.0), (4751, 0.0), (4755, 0.0), (4756, 0.0), (4758, 0.0), (4759, 0.0)]\n"
          ]
        }
      ]
    },
    {
      "cell_type": "code",
      "source": [
        "print('Top 30 Movies Suggested for You : \\n')\n",
        "i = 1\n",
        "for movie in Sorted_Similar_Movies:\n",
        "  index = movie[0]\n",
        "  title_from_index = df[df.index==index]['Movie_Title'].values[0]\n",
        "  if (i<31):\n",
        "    print(i, '.', title_from_index)\n",
        "    i+=1\n"
      ],
      "metadata": {
        "colab": {
          "base_uri": "https://localhost:8080/"
        },
        "id": "0ORbwDY4kEAh",
        "outputId": "3a082fb4-2b04-4e65-e517-a69bb03e7e3c"
      },
      "execution_count": null,
      "outputs": [
        {
          "output_type": "stream",
          "name": "stdout",
          "text": [
            "Top 30 Movies Suggested for You : \n",
            "\n",
            "1 . Star Trek III: The Search for Spock\n",
            "2 . Star Trek IV: The Voyage Home\n",
            "3 . Star Trek: The Motion Picture\n",
            "4 . Star Trek V: The Final Frontier\n",
            "5 . Star Trek VI: The Undiscovered Country\n",
            "6 . Star Trek II: The Wrath of Khan\n",
            "7 . Star Trek\n",
            "8 . Zambezia\n",
            "9 . Trekkies\n",
            "10 . Three Men and a Baby\n",
            "11 . The Helix... Loaded\n",
            "12 . Soldier\n",
            "13 . Planet 51\n",
            "14 . Virtuosity\n",
            "15 . Driven\n",
            "16 . Street Fighter: The Legend of Chun-Li\n",
            "17 . Born Of War\n",
            "18 . The I Inside\n",
            "19 . Out of Sight\n",
            "20 . Open Secret\n",
            "21 . The Lawnmower Man\n",
            "22 . Fiddler on the Roof\n",
            "23 . Bill & Ted's Bogus Journey\n",
            "24 . The Adjustment Bureau\n",
            "25 . All Hat\n",
            "26 . Puss in Boots\n",
            "27 . Higher Ground\n",
            "28 . Kingdom of the Spiders\n",
            "29 . Another Earth\n",
            "30 . The Blair Witch Project\n"
          ]
        }
      ]
    },
    {
      "cell_type": "markdown",
      "source": [
        "### **Top 10 Movie Recommendation System**"
      ],
      "metadata": {
        "id": "zgoMfOyWlgOP"
      }
    },
    {
      "cell_type": "code",
      "source": [
        "Movie_Name = input('Enter your favourite movie name: ')\n",
        "list_of_all_titles = df['Movie_Title'].tolist()\n",
        "Find_Close_Match = difflib.get_close_matches(Movie_Name, list_of_all_titles)\n",
        "Close_Match = Find_Close_Match[0]\n",
        "Index_of_Movie = df[df.Movie_Title == Close_Match]['Movie_ID'].values[0]\n",
        "Recommendation_Score == list(enumerate(Similarity_Score[Index_of_Movie]))\n",
        "sorted_similar_movies = sorted(Recommendation_Score, key = lambda x:x[1], reverse = True)\n",
        "print('Top 10 movies suggested for you : \\n')\n",
        "i=1\n",
        "for movie in sorted_similar_movies:\n",
        "  index = movie[0]\n",
        "  title_from_index = df[df.Movie_ID==index]['Movie_Title'].values\n",
        "  if(i<11):\n",
        "    print(i, '.',title_from_index)\n",
        "    i+=1"
      ],
      "metadata": {
        "colab": {
          "base_uri": "https://localhost:8080/"
        },
        "id": "a3GaMw6IlpNW",
        "outputId": "c5dce3a3-022a-45bd-bc90-a10fdf739ba6"
      },
      "execution_count": null,
      "outputs": [
        {
          "output_type": "stream",
          "name": "stdout",
          "text": [
            "Enter your favourite movie name: Batman\n",
            "Top 10 movies suggested for you : \n",
            "\n",
            "1 . ['The Dark Knight']\n",
            "2 . ['K-PAX']\n",
            "3 . ['Akira']\n",
            "4 . ['28 Days Later']\n",
            "5 . ['20,000 Leagues Under the Sea']\n",
            "6 . ['Lost in Translation']\n",
            "7 . ['Doomsday']\n",
            "8 . ['The Velocity of Gary']\n",
            "9 . ['Only the Strong']\n",
            "10 . ['White Chicks']\n"
          ]
        }
      ]
    }
  ]
}